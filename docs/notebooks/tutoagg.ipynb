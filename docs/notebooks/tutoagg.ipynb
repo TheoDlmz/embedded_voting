{
 "cells": [
  {
   "cell_type": "markdown",
   "metadata": {},
   "source": [
    "# Fast Tutorial 1 - Algorithm Aggregation\n",
    "\n",
    "In this notebook, I will explain how to use the *embedded_voting* package in the context of epistemic social choice and algorithms aggregations.\n",
    "\n",
    "In general algorithm aggregation rules (Average, Median, Likelihood maximization) you need diversity among the different algorithms. However, in the real world, it is not rare to have a large group of very correlated algorithms, which are trained on the same datasets, or which have the same structure.\n",
    "\n",
    "With our method, you can take advantage of the dependencies between the rules instead of suffering from them. In this first notebook, I will just explain how to use our method. In the following method, I will show comparisons between our method and other methods.\n",
    "\n",
    "First of all, you need to import the package:"
   ]
  },
  {
   "cell_type": "code",
   "execution_count": 1,
   "metadata": {
    "ExecuteTime": {
     "end_time": "2021-06-29T13:48:17.454719Z",
     "start_time": "2021-06-29T13:48:15.797724Z"
    }
   },
   "outputs": [],
   "source": [
    "import embedded_voting as ev"
   ]
  },
  {
   "cell_type": "markdown",
   "metadata": {},
   "source": [
    "## Generator to simulate algorithm results"
   ]
  },
  {
   "cell_type": "markdown",
   "metadata": {},
   "source": [
    "Then, if you want to aggregate algorithms' outputs, you need to know the outputs of these algorithms. In this notebook, I will use a score generator that simulates a set of algorithms with dependencies.\n",
    "\n",
    "In the following cell, I create a set of algorithms with $25$ algorithms in the first group, $7$ in the second group and $3$ isolated algorithms."
   ]
  },
  {
   "cell_type": "code",
   "execution_count": 2,
   "metadata": {
    "ExecuteTime": {
     "end_time": "2021-06-29T13:48:17.479565Z",
     "start_time": "2021-06-29T13:48:17.458614Z"
    }
   },
   "outputs": [
    {
     "name": "stdout",
     "output_type": "stream",
     "text": [
      "(35, 20)\n"
     ]
    }
   ],
   "source": [
    "groups_sizes = [25, 7, 1, 1, 1]\n",
    "features = [[1, 0, 0, 1], [0, 1, 0, 0], [1, 0, 1, 0], [0, 1, 0, 1], [0, 0, 1, 0]]\n",
    "\n",
    "generator = ev.GroupedMixGenerator(groups_sizes, features)\n",
    "generator.set_group_noise(8)\n",
    "generator.set_independent_noise(0.5)\n",
    "\n",
    "_, scores = generator.sample_scores(20)\n",
    "print(scores.shape)"
   ]
  },
  {
   "cell_type": "markdown",
   "metadata": {},
   "source": [
    "The last command generates a matrix of scores that contain the outputs given by the algorithms to 20 inputs. If you use this method, you can provide the score matrix by putting your algorithms' results in a matrix of shape $n_{voters} \\times n_{candidates}$.\n"
   ]
  },
  {
   "cell_type": "markdown",
   "metadata": {},
   "source": [
    "## Find the best alternative\n",
    "\n",
    "Now, you can simply **create an *Elector* object** with the following line:"
   ]
  },
  {
   "cell_type": "code",
   "execution_count": 3,
   "metadata": {
    "ExecuteTime": {
     "end_time": "2021-06-29T13:48:17.485553Z",
     "start_time": "2021-06-29T13:48:17.481551Z"
    }
   },
   "outputs": [],
   "source": [
    "my_elector = ev.Elector()"
   ]
  },
  {
   "cell_type": "markdown",
   "metadata": {},
   "source": [
    "The following cell show how to run a \"election\":"
   ]
  },
  {
   "cell_type": "code",
   "execution_count": 4,
   "metadata": {
    "ExecuteTime": {
     "end_time": "2021-06-29T13:48:17.499536Z",
     "start_time": "2021-06-29T13:48:17.488534Z"
    }
   },
   "outputs": [],
   "source": [
    "results = my_elector(scores)"
   ]
  },
  {
   "cell_type": "markdown",
   "metadata": {},
   "source": [
    "Then you can get the results like this:"
   ]
  },
  {
   "cell_type": "code",
   "execution_count": 5,
   "metadata": {
    "ExecuteTime": {
     "end_time": "2021-06-29T13:48:17.525469Z",
     "start_time": "2021-06-29T13:48:17.502497Z"
    }
   },
   "outputs": [
    {
     "name": "stdout",
     "output_type": "stream",
     "text": [
      "Ranking : [8, 5, 0, 16, 3, 17, 13, 19, 18, 9, 4, 11, 6, 12, 2, 7, 14, 1, 15, 10]\n",
      "Winner : 8\n"
     ]
    }
   ],
   "source": [
    "print(\"Ranking :\",results.ranking_)\n",
    "print(\"Winner :\",results.winner_)"
   ]
  },
  {
   "cell_type": "markdown",
   "metadata": {},
   "source": [
    "You will probably keep using the same *Elector* for other elections with the same algorithms, like in the following cell:"
   ]
  },
  {
   "cell_type": "code",
   "execution_count": 6,
   "metadata": {
    "ExecuteTime": {
     "end_time": "2021-06-29T13:48:17.837614Z",
     "start_time": "2021-06-29T13:48:17.528432Z"
    }
   },
   "outputs": [
    {
     "name": "stdout",
     "output_type": "stream",
     "text": [
      "Winner 1 : 10\n",
      "Winner 2 : 4\n",
      "Winner 3 : 14\n",
      "Winner 4 : 9\n",
      "Winner 5 : 5\n",
      "Winner 6 : 13\n",
      "Winner 7 : 10\n",
      "Winner 8 : 11\n",
      "Winner 9 : 16\n",
      "Winner 10 : 11\n"
     ]
    }
   ],
   "source": [
    "for i in range(10):\n",
    "    _, scores = generator.sample_scores(20)\n",
    "    print(\"Winner %i : %i\"%(i+1, my_elector(scores).winner_))"
   ]
  },
  {
   "cell_type": "markdown",
   "metadata": {},
   "source": [
    "During each election, the *Elector* saves the scores given by the algorithms to know them better.\n",
    "\n",
    "Every now and then, you can retrain your *Elector* with these newest data. We advise to do it often where there is not a lot of training data and once you have done enough elections (typically, when you have shown as many candidates than you have algorithms), you don't need to do it a lot.\n",
    "\n",
    "To train your *Elector* on the newest data, do the following:"
   ]
  },
  {
   "cell_type": "code",
   "execution_count": 7,
   "metadata": {
    "ExecuteTime": {
     "end_time": "2021-06-29T13:48:17.865524Z",
     "start_time": "2021-06-29T13:48:17.840591Z"
    }
   },
   "outputs": [
    {
     "data": {
      "text/plain": [
       "<embedded_voting.algorithm_aggregation.elector.Elector at 0x28d292b4320>"
      ]
     },
     "execution_count": 7,
     "metadata": {},
     "output_type": "execute_result"
    }
   ],
   "source": [
    "my_elector.retrain()"
   ]
  },
  {
   "cell_type": "markdown",
   "metadata": {},
   "source": [
    "You can also train it before an election using the data from the election by doing this:"
   ]
  },
  {
   "cell_type": "code",
   "execution_count": 8,
   "metadata": {
    "ExecuteTime": {
     "end_time": "2021-06-29T13:48:17.898438Z",
     "start_time": "2021-06-29T13:48:17.874501Z"
    }
   },
   "outputs": [],
   "source": [
    "results = my_elector(scores, train=True)"
   ]
  },
  {
   "cell_type": "markdown",
   "metadata": {},
   "source": [
    "## Fine-tune the aggregation rule"
   ]
  },
  {
   "cell_type": "markdown",
   "metadata": {},
   "source": [
    "If you want to go further, you can change some aspects of the aggregation rule.\n",
    "\n",
    "The first thing that you may want to change is the aggregation rule itself. The default one is *FastNash*, but you can try *FastLog*, *FastSum* or *FastMin*, which can give different results.\n",
    "\n",
    "We advise to use *FastNash*, which shows stronger theoretical and experimental results."
   ]
  },
  {
   "cell_type": "code",
   "execution_count": 9,
   "metadata": {
    "ExecuteTime": {
     "end_time": "2021-06-29T13:48:17.981227Z",
     "start_time": "2021-06-29T13:48:17.904423Z"
    }
   },
   "outputs": [
    {
     "name": "stdout",
     "output_type": "stream",
     "text": [
      "FastNash: [11, 10, 16, 4, 1, 7, 2, 15, 8, 3, 12, 13, 14, 18, 5, 19, 9, 17, 6, 0]\n",
      "FastLog: [11, 10, 16, 4, 1, 7, 2, 15, 8, 3, 12, 13, 14, 18, 5, 19, 9, 17, 6, 0]\n",
      "FastSum: [11, 16, 10, 15, 4, 1, 7, 2, 8, 13, 3, 12, 14, 18, 17, 5, 9, 19, 6, 0]\n",
      "FastMin: [10, 4, 1, 11, 2, 7, 16, 15, 19, 5, 3, 8, 12, 13, 18, 9, 14, 0, 6, 17]\n"
     ]
    }
   ],
   "source": [
    "my_elector_log = ev.Elector(rule=ev.FastLog())\n",
    "my_elector_sum = ev.Elector(rule=ev.FastSum())\n",
    "my_elector_min = ev.Elector(rule=ev.FastMin())\n",
    "print(\"FastNash:\",my_elector(scores).ranking_)\n",
    "print(\"FastLog:\",my_elector_log(scores).ranking_)\n",
    "print(\"FastSum:\",my_elector_sum(scores).ranking_)\n",
    "print(\"FastMin:\",my_elector_min(scores).ranking_)"
   ]
  },
  {
   "cell_type": "markdown",
   "metadata": {},
   "source": [
    "You can also use the average rule:"
   ]
  },
  {
   "cell_type": "code",
   "execution_count": 10,
   "metadata": {
    "ExecuteTime": {
     "end_time": "2021-06-29T13:48:17.993183Z",
     "start_time": "2021-06-29T13:48:17.984217Z"
    }
   },
   "outputs": [
    {
     "name": "stdout",
     "output_type": "stream",
     "text": [
      "[11, 16, 10, 15, 1, 4, 7, 2, 8, 13, 3, 12, 14, 18, 17, 5, 9, 6, 19, 0]\n"
     ]
    }
   ],
   "source": [
    "my_elector_avg = ev.Elector(rule=ev.SumScores())\n",
    "results = my_elector_avg(scores)\n",
    "print(my_elector_avg(scores).ranking_)"
   ]
  },
  {
   "cell_type": "markdown",
   "metadata": {},
   "source": [
    "You can also change the transformation of scores. The default one is the following :\n",
    "\n",
    "$$\n",
    "f(s) = \\sqrt{\\frac{s}{\\left || s \\right ||}}\n",
    "$$\n",
    "\n",
    "But you can put any rule you want, like the identity function $f(s) = s$ if you want. In general, if you use a coherent score transformation, it will not change a lot the results."
   ]
  },
  {
   "cell_type": "code",
   "execution_count": 11,
   "metadata": {
    "ExecuteTime": {
     "end_time": "2021-06-29T13:48:18.016130Z",
     "start_time": "2021-06-29T13:48:17.995178Z"
    }
   },
   "outputs": [
    {
     "name": "stdout",
     "output_type": "stream",
     "text": [
      "[10, 11, 16, 4, 1, 7, 2, 15, 8, 3, 12, 13, 14, 18, 5, 19, 9, 17, 6, 0]\n"
     ]
    }
   ],
   "source": [
    "my_elector_id = ev.Elector(rule=ev.FastNash(function=lambda x:x))\n",
    "print(my_elector_id(scores).ranking_)"
   ]
  }
 ],
 "metadata": {
  "kernelspec": {
   "display_name": "Python 3",
   "language": "python",
   "name": "python3"
  },
  "language_info": {
   "codemirror_mode": {
    "name": "ipython",
    "version": 3
   },
   "file_extension": ".py",
   "mimetype": "text/x-python",
   "name": "python",
   "nbconvert_exporter": "python",
   "pygments_lexer": "ipython3",
   "version": "3.7.3"
  }
 },
 "nbformat": 4,
 "nbformat_minor": 2
}
