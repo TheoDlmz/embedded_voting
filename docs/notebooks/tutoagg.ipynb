{
 "cells": [
  {
   "cell_type": "markdown",
   "metadata": {},
   "source": [
    "# Fast Tutorial 1 - Algorithm Aggregation\n",
    "\n",
    "This notebook explains how to use the *embedded_voting* package in the context of epistemic social choice and algorithms aggregations.\n",
    "\n",
    "In general algorithm aggregation rules (Average, Median, Likelihood maximization), you need diversity among the different algorithms. However, in the real world, it is not rare to have a large group of very correlated algorithms, which are trained on the same datasets, or which have the same structure, and give very similar answers. This can biais the results.\n",
    "\n",
    "With this method, you don't suffer from this correlations between algorithms. This notebook simply explains how to use this method.\n",
    "\n",
    "First of all, you need to import the package:"
   ]
  },
  {
   "cell_type": "code",
   "execution_count": 1,
   "metadata": {
    "ExecuteTime": {
     "end_time": "2022-05-03T17:03:51.200603Z",
     "start_time": "2022-05-03T17:03:50.429664Z"
    }
   },
   "outputs": [],
   "source": [
    "import embedded_voting as ev"
   ]
  },
  {
   "cell_type": "markdown",
   "metadata": {},
   "source": [
    "## Generator to simulate algorithm results"
   ]
  },
  {
   "cell_type": "markdown",
   "metadata": {},
   "source": [
    "Then, if you want to aggregate algorithms' outputs, you need to know the outputs of these algorithms. In this notebook, we will use a score generator that simulates a set of algorithms with dependencies.\n",
    "\n",
    "In the following cell, we create a set of algorithms with $25$ algorithms in the first group, $7$ in the second group and $3$ isolated algorithms."
   ]
  },
  {
   "cell_type": "code",
   "execution_count": 2,
   "metadata": {
    "ExecuteTime": {
     "end_time": "2022-05-03T17:03:51.250469Z",
     "start_time": "2022-05-03T17:03:51.205590Z"
    }
   },
   "outputs": [
    {
     "name": "stdout",
     "output_type": "stream",
     "text": [
      "(35, 20)\n"
     ]
    }
   ],
   "source": [
    "groups_sizes = [25, 7, 1, 1, 1]\n",
    "features = [[1, 0, 0, 1], [0, 1, 0, 0], [1, 0, 1, 0], [0, 1, 0, 1], [0, 0, 1, 0]]\n",
    "\n",
    "generator = ev.RatingsGeneratorEpistemicGroupsMix(groups_sizes, \n",
    "                                                   features,\n",
    "                                                   group_noise=8,\n",
    "                                                   independent_noise=.5)\n",
    "\n",
    "ratings = generator(n_candidates=20)\n",
    "true_ratings = generator.ground_truth_\n",
    "print(ratings.shape)"
   ]
  },
  {
   "cell_type": "markdown",
   "metadata": {},
   "source": [
    "The last command generates a matrix of scores that contain the outputs given by the algorithms to 20 inputs. If you use this method, you can provide the score matrix by putting your algorithms' results in a matrix of shape $n_{voters} \\times n_{candidates}$.\n"
   ]
  },
  {
   "cell_type": "markdown",
   "metadata": {},
   "source": [
    "## Find the best alternative\n",
    "\n",
    "Now, we can simply **create an *Aggregator* object** with the following line:"
   ]
  },
  {
   "cell_type": "code",
   "execution_count": 3,
   "metadata": {
    "ExecuteTime": {
     "end_time": "2022-05-03T17:03:51.258448Z",
     "start_time": "2022-05-03T17:03:51.253462Z"
    }
   },
   "outputs": [],
   "source": [
    "aggregator = ev.Aggregator()"
   ]
  },
  {
   "cell_type": "markdown",
   "metadata": {},
   "source": [
    "The following cell show how to run a \"election\":"
   ]
  },
  {
   "cell_type": "code",
   "execution_count": 4,
   "metadata": {
    "ExecuteTime": {
     "end_time": "2022-05-03T17:03:51.272410Z",
     "start_time": "2022-05-03T17:03:51.261442Z"
    }
   },
   "outputs": [],
   "source": [
    "results = aggregator(ratings)"
   ]
  },
  {
   "cell_type": "markdown",
   "metadata": {},
   "source": [
    "Then we can obtain the results like this:"
   ]
  },
  {
   "cell_type": "code",
   "execution_count": 5,
   "metadata": {
    "ExecuteTime": {
     "end_time": "2022-05-03T17:03:51.292357Z",
     "start_time": "2022-05-03T17:03:51.275402Z"
    }
   },
   "outputs": [
    {
     "name": "stdout",
     "output_type": "stream",
     "text": [
      "Ranking : [0, 19, 12, 17, 5, 9, 2, 14, 6, 1, 3, 4, 18, 11, 8, 10, 15, 7, 13, 16]\n",
      "Winner : 0\n"
     ]
    }
   ],
   "source": [
    "print(\"Ranking :\", results.ranking_)\n",
    "print(\"Winner :\", results.winner_)"
   ]
  },
  {
   "cell_type": "markdown",
   "metadata": {},
   "source": [
    "You will probably keep using the same *Aggregator* for other elections with the same algorithms, like in the following cell:"
   ]
  },
  {
   "cell_type": "code",
   "execution_count": 6,
   "metadata": {
    "ExecuteTime": {
     "end_time": "2022-05-03T17:03:51.528725Z",
     "start_time": "2022-05-03T17:03:51.294353Z"
    }
   },
   "outputs": [
    {
     "name": "stdout",
     "output_type": "stream",
     "text": [
      "Winner 1 : 13\n",
      "Winner 2 : 17\n",
      "Winner 3 : 9\n",
      "Winner 4 : 8\n",
      "Winner 5 : 12\n",
      "Winner 6 : 15\n",
      "Winner 7 : 5\n",
      "Winner 8 : 10\n",
      "Winner 9 : 0\n",
      "Winner 10 : 11\n"
     ]
    }
   ],
   "source": [
    "for i in range(10):\n",
    "    ratings = generator(20)\n",
    "    print(f'Winner {i+1} : {aggregator(ratings).winner_}')"
   ]
  },
  {
   "cell_type": "markdown",
   "metadata": {},
   "source": [
    "During each election, the *Aggregator* saves the scores given by the algorithms to know them better. However, it does not compute anything with this new data if it is not asked to do it.\n",
    "\n",
    "Every now and then, you can retrain your *Aggregator* with these newest data. We advise to do it often where there is not a lot of training data and once you have done enough elections (typically, when you have shown as many candidates than you have algorithms), you don't need to do it a lot.\n",
    "\n",
    "To train your *Aggregator* on the newest data, do the following:"
   ]
  },
  {
   "cell_type": "code",
   "execution_count": 7,
   "metadata": {
    "ExecuteTime": {
     "end_time": "2022-05-03T17:03:51.554657Z",
     "start_time": "2022-05-03T17:03:51.530719Z"
    }
   },
   "outputs": [
    {
     "data": {
      "text/plain": [
       "<embedded_voting.aggregation.aggregator.Aggregator at 0x1dcce87ea90>"
      ]
     },
     "execution_count": 7,
     "metadata": {},
     "output_type": "execute_result"
    }
   ],
   "source": [
    "aggregator.train()"
   ]
  },
  {
   "cell_type": "markdown",
   "metadata": {},
   "source": [
    "You can also train it before an election using the data from the election by doing this:"
   ]
  },
  {
   "cell_type": "code",
   "execution_count": 8,
   "metadata": {
    "ExecuteTime": {
     "end_time": "2022-05-03T17:03:51.587582Z",
     "start_time": "2022-05-03T17:03:51.564629Z"
    }
   },
   "outputs": [],
   "source": [
    "results = aggregator(ratings, train=True)"
   ]
  },
  {
   "cell_type": "markdown",
   "metadata": {},
   "source": [
    "For the first election of your aggregator, you do not need to specify that *train* is **True** because the aggregator always do a training step when it is created."
   ]
  },
  {
   "cell_type": "markdown",
   "metadata": {},
   "source": [
    "## Fine-tune the aggregation rule"
   ]
  },
  {
   "cell_type": "markdown",
   "metadata": {},
   "source": [
    "If you want to go further, you can change some aspects of the aggregation rule.\n",
    "\n",
    "The first thing that you may want to change is the aggregation rule itself. The default one is *FastNash*, but you can try *FastLog*, *FastSum* or *FastMin*, which can give different results.\n",
    "\n",
    "We advise to use *FastNash*, which shows stronger theoretical and experimental results."
   ]
  },
  {
   "cell_type": "code",
   "execution_count": 9,
   "metadata": {
    "ExecuteTime": {
     "end_time": "2022-05-03T17:03:51.667354Z",
     "start_time": "2022-05-03T17:03:51.593553Z"
    }
   },
   "outputs": [
    {
     "name": "stdout",
     "output_type": "stream",
     "text": [
      "FastNash: [11, 12, 6, 18, 15, 0, 10, 7, 14, 3, 2, 8, 4, 17, 13, 16, 1, 19, 9, 5]\n",
      "FastLog: [11, 12, 18, 15, 6, 0, 10, 7, 14, 3, 2, 8, 4, 17, 16, 13, 1, 19, 9, 5]\n",
      "FastSum: [11, 18, 12, 15, 6, 0, 10, 7, 14, 2, 8, 3, 17, 4, 16, 13, 19, 1, 5, 9]\n",
      "FastMin: [11, 12, 18, 6, 15, 0, 10, 7, 14, 3, 8, 2, 4, 17, 16, 13, 19, 1, 9, 5]\n"
     ]
    }
   ],
   "source": [
    "aggregator_log = ev.Aggregator(rule=ev.RuleFastLog())\n",
    "aggregator_sum = ev.Aggregator(rule=ev.RuleFastSum())\n",
    "aggregator_min = ev.Aggregator(rule=ev.RuleFastMin())\n",
    "print(\"FastNash:\", aggregator(ratings).ranking_)\n",
    "print(\"FastLog:\", aggregator_log(ratings).ranking_)\n",
    "print(\"FastSum:\", aggregator_sum(ratings).ranking_)\n",
    "print(\"FastMin:\", aggregator_min(ratings).ranking_)"
   ]
  },
  {
   "cell_type": "markdown",
   "metadata": {},
   "source": [
    "You can also use the average rule:"
   ]
  },
  {
   "cell_type": "code",
   "execution_count": 10,
   "metadata": {
    "ExecuteTime": {
     "end_time": "2022-05-03T17:03:51.686303Z",
     "start_time": "2022-05-03T17:03:51.672342Z"
    }
   },
   "outputs": [
    {
     "name": "stdout",
     "output_type": "stream",
     "text": [
      "[11, 6, 18, 15, 12, 0, 10, 7, 8, 2, 3, 14, 17, 4, 16, 13, 19, 1, 5, 9]\n"
     ]
    }
   ],
   "source": [
    "aggregator_avg = ev.Aggregator(rule=ev.RuleSumRatings())\n",
    "results = aggregator_avg(ratings)\n",
    "print(aggregator_avg(ratings).ranking_)"
   ]
  },
  {
   "cell_type": "markdown",
   "metadata": {},
   "source": [
    "You can also change the transformation of scores. The default one is the following :\n",
    "\n",
    "$$\n",
    "f(s) = \\sqrt{\\frac{s}{\\left || s \\right ||}}\n",
    "$$\n",
    "\n",
    "But you can put any rule you want, like the identity function $f(s) = s$ if you want. In general, if you use a coherent score transformation, it will not change a lot the results."
   ]
  },
  {
   "cell_type": "code",
   "execution_count": 11,
   "metadata": {
    "ExecuteTime": {
     "end_time": "2022-05-03T17:03:51.711237Z",
     "start_time": "2022-05-03T17:03:51.689297Z"
    }
   },
   "outputs": [
    {
     "name": "stdout",
     "output_type": "stream",
     "text": [
      "[11, 12, 18, 6, 15, 0, 10, 7, 14, 3, 2, 8, 4, 17, 13, 16, 1, 19, 9, 5]\n"
     ]
    }
   ],
   "source": [
    "aggregator_id = ev.Aggregator(rule=ev.RuleFastNash(f=lambda x,y,z:x))\n",
    "print(aggregator_id(ratings).ranking_)"
   ]
  }
 ],
 "metadata": {
  "kernelspec": {
   "display_name": "Python 3",
   "language": "python",
   "name": "python3"
  },
  "language_info": {
   "codemirror_mode": {
    "name": "ipython",
    "version": 3
   },
   "file_extension": ".py",
   "mimetype": "text/x-python",
   "name": "python",
   "nbconvert_exporter": "python",
   "pygments_lexer": "ipython3",
   "version": "3.7.3"
  }
 },
 "nbformat": 4,
 "nbformat_minor": 2
}
