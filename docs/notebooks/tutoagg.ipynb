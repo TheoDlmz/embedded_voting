{
 "cells": [
  {
   "cell_type": "markdown",
   "metadata": {},
   "source": [
    "# Fast Tutorial 1 - Algorithm Aggregation\n",
    "\n",
    "This notebook explains how to use the *embedded_voting* package in the context of epistemic social choice and algorithms aggregations.\n",
    "\n",
    "In general algorithm aggregation rules (Average, Median, Likelihood maximization), you need diversity among the different algorithms. However, in the real world, it is not rare to have a large group of very correlated algorithms, which are trained on the same datasets, or which have the same structure, and give very similar answers. This can biais the results.\n",
    "\n",
    "With this method, you don't suffer from this correlations between algorithms. This notebook simply explains how to use this method.\n",
    "\n",
    "First of all, you need to import the package:"
   ]
  },
  {
   "cell_type": "code",
   "execution_count": 1,
   "metadata": {
    "ExecuteTime": {
     "end_time": "2021-12-06T15:38:48.058742Z",
     "start_time": "2021-12-06T15:38:47.526146Z"
    }
   },
   "outputs": [],
   "source": [
    "import embedded_voting as ev"
   ]
  },
  {
   "cell_type": "markdown",
   "metadata": {},
   "source": [
    "## Generator to simulate algorithm results"
   ]
  },
  {
   "cell_type": "markdown",
   "metadata": {},
   "source": [
    "Then, if you want to aggregate algorithms' outputs, you need to know the outputs of these algorithms. In this notebook, we will use a score generator that simulates a set of algorithms with dependencies.\n",
    "\n",
    "In the following cell, we create a set of algorithms with $25$ algorithms in the first group, $7$ in the second group and $3$ isolated algorithms."
   ]
  },
  {
   "cell_type": "code",
   "execution_count": 2,
   "metadata": {
    "ExecuteTime": {
     "end_time": "2021-12-06T15:38:48.106593Z",
     "start_time": "2021-12-06T15:38:48.069693Z"
    }
   },
   "outputs": [
    {
     "name": "stdout",
     "output_type": "stream",
     "text": [
      "(35, 20)\n"
     ]
    }
   ],
   "source": [
    "groups_sizes = [25, 7, 1, 1, 1]\n",
    "features = [[1, 0, 0, 1], [0, 1, 0, 0], [1, 0, 1, 0], [0, 1, 0, 1], [0, 0, 1, 0]]\n",
    "\n",
    "generator = ev.RatingsGeneratorEpistemicGroupedMix(groups_sizes, \n",
    "                                                   features,\n",
    "                                                   group_noise=8,\n",
    "                                                   independent_noise=.5)\n",
    "\n",
    "true_ratings, ratings = generator(n_candidates=20)\n",
    "print(ratings.shape)"
   ]
  },
  {
   "cell_type": "markdown",
   "metadata": {},
   "source": [
    "The last command generates a matrix of scores that contain the outputs given by the algorithms to 20 inputs. If you use this method, you can provide the score matrix by putting your algorithms' results in a matrix of shape $n_{voters} \\times n_{candidates}$.\n"
   ]
  },
  {
   "cell_type": "markdown",
   "metadata": {},
   "source": [
    "## Find the best alternative\n",
    "\n",
    "Now, we can simply **create an *Aggregator* object** with the following line:"
   ]
  },
  {
   "cell_type": "code",
   "execution_count": 3,
   "metadata": {
    "ExecuteTime": {
     "end_time": "2021-12-06T15:38:48.133522Z",
     "start_time": "2021-12-06T15:38:48.121555Z"
    }
   },
   "outputs": [],
   "source": [
    "aggregator = ev.Aggregator()"
   ]
  },
  {
   "cell_type": "markdown",
   "metadata": {},
   "source": [
    "The following cell show how to run a \"election\":"
   ]
  },
  {
   "cell_type": "code",
   "execution_count": 4,
   "metadata": {
    "ExecuteTime": {
     "end_time": "2021-12-06T15:38:48.192367Z",
     "start_time": "2021-12-06T15:38:48.183388Z"
    }
   },
   "outputs": [],
   "source": [
    "results = aggregator(ratings)"
   ]
  },
  {
   "cell_type": "markdown",
   "metadata": {},
   "source": [
    "Then we can obtain the results like this:"
   ]
  },
  {
   "cell_type": "code",
   "execution_count": 5,
   "metadata": {
    "ExecuteTime": {
     "end_time": "2021-12-06T15:38:48.234258Z",
     "start_time": "2021-12-06T15:38:48.201345Z"
    }
   },
   "outputs": [
    {
     "name": "stdout",
     "output_type": "stream",
     "text": [
      "Ranking : [10, 8, 17, 19, 1, 12, 0, 16, 14, 6, 2, 11, 4, 13, 3, 9, 15, 7, 5, 18]\n",
      "Winner : 10\n"
     ]
    }
   ],
   "source": [
    "print(\"Ranking :\", results.ranking_)\n",
    "print(\"Winner :\", results.winner_)"
   ]
  },
  {
   "cell_type": "markdown",
   "metadata": {},
   "source": [
    "You will probably keep using the same *Aggregator* for other elections with the same algorithms, like in the following cell:"
   ]
  },
  {
   "cell_type": "code",
   "execution_count": 6,
   "metadata": {
    "ExecuteTime": {
     "end_time": "2021-12-06T15:38:48.793088Z",
     "start_time": "2021-12-06T15:38:48.239240Z"
    }
   },
   "outputs": [
    {
     "name": "stdout",
     "output_type": "stream",
     "text": [
      "Winner 1 : 11\n",
      "Winner 2 : 8\n",
      "Winner 3 : 4\n",
      "Winner 4 : 6\n",
      "Winner 5 : 6\n",
      "Winner 6 : 10\n",
      "Winner 7 : 16\n",
      "Winner 8 : 18\n",
      "Winner 9 : 4\n",
      "Winner 10 : 3\n"
     ]
    }
   ],
   "source": [
    "for i in range(10):\n",
    "    true, ratings = generator(20)\n",
    "    print(f'Winner {i+1} : {aggregator(ratings).winner_}')"
   ]
  },
  {
   "cell_type": "markdown",
   "metadata": {},
   "source": [
    "During each election, the *Aggregator* saves the scores given by the algorithms to know them better. However, it does not compute anything with this new data if it is not asked to do it.\n",
    "\n",
    "Every now and then, you can retrain your *Aggregator* with these newest data. We advise to do it often where there is not a lot of training data and once you have done enough elections (typically, when you have shown as many candidates than you have algorithms), you don't need to do it a lot.\n",
    "\n",
    "To train your *Aggregator* on the newest data, do the following:"
   ]
  },
  {
   "cell_type": "code",
   "execution_count": 7,
   "metadata": {
    "ExecuteTime": {
     "end_time": "2021-12-06T15:38:48.828981Z",
     "start_time": "2021-12-06T15:38:48.800059Z"
    }
   },
   "outputs": [
    {
     "data": {
      "text/plain": [
       "<embedded_voting.aggregation.aggregator.Aggregator at 0x21868a40240>"
      ]
     },
     "execution_count": 7,
     "metadata": {},
     "output_type": "execute_result"
    }
   ],
   "source": [
    "aggregator.train()"
   ]
  },
  {
   "cell_type": "markdown",
   "metadata": {},
   "source": [
    "You can also train it before an election using the data from the election by doing this:"
   ]
  },
  {
   "cell_type": "code",
   "execution_count": 8,
   "metadata": {
    "ExecuteTime": {
     "end_time": "2021-12-06T15:38:48.856916Z",
     "start_time": "2021-12-06T15:38:48.833967Z"
    }
   },
   "outputs": [],
   "source": [
    "results = aggregator(ratings, train=True)"
   ]
  },
  {
   "cell_type": "markdown",
   "metadata": {},
   "source": [
    "For the first election of your aggregator, you do not need to specify that *train* is **True** because the aggregator always do a training step when it is created."
   ]
  },
  {
   "cell_type": "markdown",
   "metadata": {},
   "source": [
    "## Fine-tune the aggregation rule"
   ]
  },
  {
   "cell_type": "markdown",
   "metadata": {},
   "source": [
    "If you want to go further, you can change some aspects of the aggregation rule.\n",
    "\n",
    "The first thing that you may want to change is the aggregation rule itself. The default one is *FastNash*, but you can try *FastLog*, *FastSum* or *FastMin*, which can give different results.\n",
    "\n",
    "We advise to use *FastNash*, which shows stronger theoretical and experimental results."
   ]
  },
  {
   "cell_type": "code",
   "execution_count": 9,
   "metadata": {
    "ExecuteTime": {
     "end_time": "2021-12-06T15:38:48.946677Z",
     "start_time": "2021-12-06T15:38:48.866889Z"
    }
   },
   "outputs": [
    {
     "name": "stdout",
     "output_type": "stream",
     "text": [
      "FastNash: [3, 6, 1, 11, 13, 8, 7, 0, 2, 4, 5, 18, 15, 10, 16, 19, 9, 14, 12, 17]\n",
      "FastLog: [3, 1, 6, 11, 13, 7, 8, 0, 2, 4, 5, 18, 10, 15, 16, 19, 9, 12, 14, 17]\n",
      "FastSum: [3, 1, 6, 11, 13, 7, 0, 2, 4, 18, 5, 8, 15, 19, 10, 16, 9, 12, 14, 17]\n",
      "FastMin: [3, 6, 8, 1, 11, 14, 13, 2, 7, 18, 5, 16, 0, 15, 4, 10, 17, 9, 19, 12]\n"
     ]
    }
   ],
   "source": [
    "aggregator_log = ev.Aggregator(rule=ev.FastLog())\n",
    "aggregator_sum = ev.Aggregator(rule=ev.FastSum())\n",
    "aggregator_min = ev.Aggregator(rule=ev.FastMin())\n",
    "print(\"FastNash:\", aggregator(ratings).ranking_)\n",
    "print(\"FastLog:\", aggregator_log(ratings).ranking_)\n",
    "print(\"FastSum:\", aggregator_sum(ratings).ranking_)\n",
    "print(\"FastMin:\", aggregator_min(ratings).ranking_)"
   ]
  },
  {
   "cell_type": "markdown",
   "metadata": {},
   "source": [
    "You can also use the average rule:"
   ]
  },
  {
   "cell_type": "code",
   "execution_count": 10,
   "metadata": {
    "ExecuteTime": {
     "end_time": "2021-12-06T15:38:48.953657Z",
     "start_time": "2021-12-06T15:38:48.948670Z"
    }
   },
   "outputs": [
    {
     "name": "stdout",
     "output_type": "stream",
     "text": [
      "[3, 1, 6, 11, 13, 7, 2, 0, 18, 4, 5, 15, 8, 19, 16, 10, 9, 12, 14, 17]\n"
     ]
    }
   ],
   "source": [
    "aggregator_avg = ev.Aggregator(rule=ev.SumScores())\n",
    "results = aggregator_avg(ratings)\n",
    "print(aggregator_avg(ratings).ranking_)"
   ]
  },
  {
   "cell_type": "markdown",
   "metadata": {},
   "source": [
    "You can also change the transformation of scores. The default one is the following :\n",
    "\n",
    "$$\n",
    "f(s) = \\sqrt{\\frac{s}{\\left || s \\right ||}}\n",
    "$$\n",
    "\n",
    "But you can put any rule you want, like the identity function $f(s) = s$ if you want. In general, if you use a coherent score transformation, it will not change a lot the results."
   ]
  },
  {
   "cell_type": "code",
   "execution_count": 11,
   "metadata": {
    "ExecuteTime": {
     "end_time": "2021-12-06T15:38:48.977598Z",
     "start_time": "2021-12-06T15:38:48.954654Z"
    }
   },
   "outputs": [
    {
     "name": "stdout",
     "output_type": "stream",
     "text": [
      "[3, 1, 6, 11, 13, 8, 7, 0, 2, 5, 4, 18, 10, 15, 16, 19, 9, 14, 12, 17]\n"
     ]
    }
   ],
   "source": [
    "aggregator_id = ev.Aggregator(rule=ev.FastNash(f=lambda x:x))\n",
    "print(aggregator_id(ratings).ranking_)"
   ]
  }
 ],
 "metadata": {
  "kernelspec": {
   "display_name": "Python 3",
   "language": "python",
   "name": "python3"
  },
  "language_info": {
   "codemirror_mode": {
    "name": "ipython",
    "version": 3
   },
   "file_extension": ".py",
   "mimetype": "text/x-python",
   "name": "python",
   "nbconvert_exporter": "python",
   "pygments_lexer": "ipython3",
   "version": "3.7.3"
  }
 },
 "nbformat": 4,
 "nbformat_minor": 2
}
