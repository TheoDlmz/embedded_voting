{
 "cells": [
  {
   "cell_type": "markdown",
   "metadata": {},
   "source": [
    "# Fast Tutorial 1 - Algorithm Aggregation\n",
    "\n",
    "In this notebook, I will explain how to use the *embedded_voting* package in the context of epistemic social choice and algorithms aggregations.\n",
    "\n",
    "In general algorithm aggregation rules (Average, Median, Likelihood maximization) you need diversity among the different algorithms. However, in the real world, it is not rare to have a large group of very correlated algorithms, which are trained on the same datasets, or which have the same structure.\n",
    "\n",
    "With our method, you can take advantage of the dependencies between the rules instead of suffering from them. In this first notebook, I will just explain how to use our method. In the following method, I will show comparisons between our method and other methods.\n",
    "\n",
    "First of all, you need to import the package:"
   ]
  },
  {
   "cell_type": "code",
   "execution_count": 1,
   "metadata": {
    "ExecuteTime": {
     "end_time": "2021-10-27T12:43:45.232712Z",
     "start_time": "2021-10-27T12:43:44.690403Z"
    }
   },
   "outputs": [],
   "source": [
    "import embedded_voting as ev"
   ]
  },
  {
   "cell_type": "markdown",
   "metadata": {},
   "source": [
    "## Generator to simulate algorithm results"
   ]
  },
  {
   "cell_type": "markdown",
   "metadata": {},
   "source": [
    "Then, if you want to aggregate algorithms' outputs, you need to know the outputs of these algorithms. In this notebook, I will use a score generator that simulates a set of algorithms with dependencies.\n",
    "\n",
    "In the following cell, I create a set of algorithms with $25$ algorithms in the first group, $7$ in the second group and $3$ isolated algorithms."
   ]
  },
  {
   "cell_type": "code",
   "execution_count": 2,
   "metadata": {
    "ExecuteTime": {
     "end_time": "2021-10-27T12:43:45.258638Z",
     "start_time": "2021-10-27T12:43:45.237696Z"
    }
   },
   "outputs": [
    {
     "name": "stdout",
     "output_type": "stream",
     "text": [
      "(35, 20)\n"
     ]
    }
   ],
   "source": [
    "groups_sizes = [25, 7, 1, 1, 1]\n",
    "features = [[1, 0, 0, 1], [0, 1, 0, 0], [1, 0, 1, 0], [0, 1, 0, 1], [0, 0, 1, 0]]\n",
    "\n",
    "generator = ev.GroupedMixGenerator(groups_sizes, features)\n",
    "generator.group_noise = 8\n",
    "generator.independent_noise = .5\n",
    "\n",
    "_, scores = generator.sample_scores(n_candidates = 20)\n",
    "print(scores.shape)"
   ]
  },
  {
   "cell_type": "markdown",
   "metadata": {},
   "source": [
    "The last command generates a matrix of scores that contain the outputs given by the algorithms to 20 inputs. If you use this method, you can provide the score matrix by putting your algorithms' results in a matrix of shape $n_{voters} \\times n_{candidates}$.\n"
   ]
  },
  {
   "cell_type": "markdown",
   "metadata": {},
   "source": [
    "## Find the best alternative\n",
    "\n",
    "Now, you can simply **create an *Aggregator* object** with the following line:"
   ]
  },
  {
   "cell_type": "code",
   "execution_count": 3,
   "metadata": {
    "ExecuteTime": {
     "end_time": "2021-10-27T12:43:45.263628Z",
     "start_time": "2021-10-27T12:43:45.260635Z"
    }
   },
   "outputs": [],
   "source": [
    "aggregator = ev.Aggregator()"
   ]
  },
  {
   "cell_type": "markdown",
   "metadata": {},
   "source": [
    "The following cell show how to run a \"election\":"
   ]
  },
  {
   "cell_type": "code",
   "execution_count": 4,
   "metadata": {
    "ExecuteTime": {
     "end_time": "2021-10-27T12:43:45.297535Z",
     "start_time": "2021-10-27T12:43:45.269612Z"
    }
   },
   "outputs": [],
   "source": [
    "results = aggregator(scores)"
   ]
  },
  {
   "cell_type": "markdown",
   "metadata": {},
   "source": [
    "Then you can get the results like this:"
   ]
  },
  {
   "cell_type": "code",
   "execution_count": 5,
   "metadata": {
    "ExecuteTime": {
     "end_time": "2021-10-27T12:43:45.377131Z",
     "start_time": "2021-10-27T12:43:45.324509Z"
    }
   },
   "outputs": [
    {
     "name": "stdout",
     "output_type": "stream",
     "text": [
      "Ranking : [4, 19, 11, 17, 14, 5, 0, 7, 8, 3, 1, 6, 12, 10, 2, 9, 18, 13, 15, 16]\n",
      "Winner : 4\n"
     ]
    }
   ],
   "source": [
    "print(\"Ranking :\",results.ranking_)\n",
    "print(\"Winner :\",results.winner_)"
   ]
  },
  {
   "cell_type": "markdown",
   "metadata": {},
   "source": [
    "You will probably keep using the same *Aggregator* for other elections with the same algorithms, like in the following cell:"
   ]
  },
  {
   "cell_type": "code",
   "execution_count": 6,
   "metadata": {
    "ExecuteTime": {
     "end_time": "2021-10-27T12:43:45.527412Z",
     "start_time": "2021-10-27T12:43:45.379126Z"
    }
   },
   "outputs": [
    {
     "name": "stdout",
     "output_type": "stream",
     "text": [
      "Winner 1 : 13\n",
      "Winner 2 : 1\n",
      "Winner 3 : 2\n",
      "Winner 4 : 6\n",
      "Winner 5 : 17\n",
      "Winner 6 : 17\n",
      "Winner 7 : 16\n",
      "Winner 8 : 5\n",
      "Winner 9 : 15\n",
      "Winner 10 : 9\n"
     ]
    }
   ],
   "source": [
    "for i in range(10):\n",
    "    _, scores = generator.sample_scores(20)\n",
    "    print(f'Winner {i+1} : {aggregator(scores).winner_}')"
   ]
  },
  {
   "cell_type": "markdown",
   "metadata": {},
   "source": [
    "During each election, the *Aggregator* saves the scores given by the algorithms to know them better. However, it does not compute anything with this new data if it is not asked to do it.\n",
    "\n",
    "Every now and then, you can retrain your *Aggregator* with these newest data. We advise to do it often where there is not a lot of training data and once you have done enough elections (typically, when you have shown as many candidates than you have algorithms), you don't need to do it a lot.\n",
    "\n",
    "To train your *Aggregator* on the newest data, do the following:"
   ]
  },
  {
   "cell_type": "code",
   "execution_count": 7,
   "metadata": {
    "ExecuteTime": {
     "end_time": "2021-10-27T12:43:45.550349Z",
     "start_time": "2021-10-27T12:43:45.531401Z"
    }
   },
   "outputs": [
    {
     "data": {
      "text/plain": [
       "<embedded_voting.aggregation.aggregator.Aggregator at 0x26dd16a7cc0>"
      ]
     },
     "execution_count": 7,
     "metadata": {},
     "output_type": "execute_result"
    }
   ],
   "source": [
    "aggregator.retrain()"
   ]
  },
  {
   "cell_type": "markdown",
   "metadata": {},
   "source": [
    "You can also train it before an election using the data from the election by doing this:"
   ]
  },
  {
   "cell_type": "code",
   "execution_count": 8,
   "metadata": {
    "ExecuteTime": {
     "end_time": "2021-10-27T12:43:45.578276Z",
     "start_time": "2021-10-27T12:43:45.555338Z"
    }
   },
   "outputs": [],
   "source": [
    "results = aggregator(scores, train=True)"
   ]
  },
  {
   "cell_type": "markdown",
   "metadata": {},
   "source": [
    "For the first election of your aggregator, you do not need to specify that *train* is **True** because the aggregator always do a training step when it is created."
   ]
  },
  {
   "cell_type": "markdown",
   "metadata": {},
   "source": [
    "## Fine-tune the aggregation rule"
   ]
  },
  {
   "cell_type": "markdown",
   "metadata": {},
   "source": [
    "If you want to go further, you can change some aspects of the aggregation rule.\n",
    "\n",
    "The first thing that you may want to change is the aggregation rule itself. The default one is *FastNash*, but you can try *FastLog*, *FastSum* or *FastMin*, which can give different results.\n",
    "\n",
    "We advise to use *FastNash*, which shows stronger theoretical and experimental results."
   ]
  },
  {
   "cell_type": "code",
   "execution_count": 9,
   "metadata": {
    "ExecuteTime": {
     "end_time": "2021-10-27T12:43:45.699952Z",
     "start_time": "2021-10-27T12:43:45.581267Z"
    }
   },
   "outputs": [
    {
     "name": "stdout",
     "output_type": "stream",
     "text": [
      "FastNash: [9, 5, 1, 15, 13, 17, 10, 6, 3, 4, 7, 12, 8, 16, 2, 19, 18, 0, 11, 14]\n",
      "FastLog: [9, 5, 1, 15, 13, 17, 10, 6, 3, 4, 7, 12, 8, 16, 2, 19, 18, 0, 11, 14]\n",
      "FastSum: [9, 5, 1, 15, 13, 17, 10, 6, 3, 4, 7, 12, 8, 16, 2, 19, 18, 0, 11, 14]\n",
      "FastMin: [15, 9, 17, 1, 5, 13, 10, 4, 6, 3, 8, 16, 2, 7, 0, 19, 18, 12, 11, 14]\n"
     ]
    }
   ],
   "source": [
    "aggregator_log = ev.Aggregator(rule=ev.FastLog())\n",
    "aggregator_sum = ev.Aggregator(rule=ev.FastSum())\n",
    "aggregator_min = ev.Aggregator(rule=ev.FastMin())\n",
    "print(\"FastNash:\",aggregator(scores).ranking_)\n",
    "print(\"FastLog:\",aggregator_log(scores).ranking_)\n",
    "print(\"FastSum:\",aggregator_sum(scores).ranking_)\n",
    "print(\"FastMin:\",aggregator_min(scores).ranking_)"
   ]
  },
  {
   "cell_type": "markdown",
   "metadata": {},
   "source": [
    "You can also use the average rule:"
   ]
  },
  {
   "cell_type": "code",
   "execution_count": 10,
   "metadata": {
    "ExecuteTime": {
     "end_time": "2021-10-27T12:43:45.717901Z",
     "start_time": "2021-10-27T12:43:45.709926Z"
    }
   },
   "outputs": [
    {
     "name": "stdout",
     "output_type": "stream",
     "text": [
      "[9, 5, 1, 15, 13, 17, 10, 6, 3, 4, 7, 12, 8, 16, 2, 19, 18, 0, 11, 14]\n"
     ]
    }
   ],
   "source": [
    "aggregator_avg = ev.Aggregator(rule=ev.SumScores())\n",
    "results = aggregator_avg(scores)\n",
    "print(aggregator_avg(scores).ranking_)"
   ]
  },
  {
   "cell_type": "markdown",
   "metadata": {},
   "source": [
    "You can also change the transformation of scores. The default one is the following :\n",
    "\n",
    "$$\n",
    "f(s) = \\sqrt{\\frac{s}{\\left || s \\right ||}}\n",
    "$$\n",
    "\n",
    "But you can put any rule you want, like the identity function $f(s) = s$ if you want. In general, if you use a coherent score transformation, it will not change a lot the results."
   ]
  },
  {
   "cell_type": "code",
   "execution_count": 11,
   "metadata": {
    "ExecuteTime": {
     "end_time": "2021-10-27T12:43:45.775747Z",
     "start_time": "2021-10-27T12:43:45.723886Z"
    }
   },
   "outputs": [
    {
     "name": "stdout",
     "output_type": "stream",
     "text": [
      "[9, 5, 1, 15, 13, 17, 10, 6, 3, 4, 7, 12, 8, 16, 2, 19, 18, 0, 11, 14]\n"
     ]
    }
   ],
   "source": [
    "aggregator_id = ev.Aggregator(rule=ev.FastNash(f=lambda x:x))\n",
    "print(aggregator_id(scores).ranking_)"
   ]
  }
 ],
 "metadata": {
  "kernelspec": {
   "display_name": "Python 3",
   "language": "python",
   "name": "python3"
  },
  "language_info": {
   "codemirror_mode": {
    "name": "ipython",
    "version": 3
   },
   "file_extension": ".py",
   "mimetype": "text/x-python",
   "name": "python",
   "nbconvert_exporter": "python",
   "pygments_lexer": "ipython3",
   "version": "3.7.3"
  }
 },
 "nbformat": 4,
 "nbformat_minor": 2
}
