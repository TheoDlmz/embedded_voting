{
 "cells": [
  {
   "cell_type": "code",
   "execution_count": 1,
   "metadata": {
    "ExecuteTime": {
     "end_time": "2022-02-28T10:35:34.855388Z",
     "start_time": "2022-02-28T10:35:33.130380Z"
    }
   },
   "outputs": [],
   "source": [
    "import torch\n",
    "from tqdm import tqdm"
   ]
  },
  {
   "cell_type": "markdown",
   "metadata": {},
   "source": [
    "# MLP"
   ]
  },
  {
   "cell_type": "code",
   "execution_count": 2,
   "metadata": {
    "ExecuteTime": {
     "end_time": "2022-02-28T10:35:35.258097Z",
     "start_time": "2022-02-28T10:35:34.857382Z"
    }
   },
   "outputs": [],
   "source": [
    "import numpy as np\n",
    "from torchvision import datasets\n",
    "import torchvision.transforms as transforms\n",
    "from torch.utils.data.sampler import SubsetRandomSampler"
   ]
  },
  {
   "cell_type": "code",
   "execution_count": 3,
   "metadata": {
    "ExecuteTime": {
     "end_time": "2022-02-28T10:35:35.269902Z",
     "start_time": "2022-02-28T10:35:35.259928Z"
    }
   },
   "outputs": [],
   "source": [
    "# number of subprocesses to use for data loading\n",
    "\n",
    "def get_loaders(batch_size=128, valid_size=0.3, num_workers=0):\n",
    "    transform = transforms.ToTensor()# choose the training and testing datasets\n",
    "    train_data = datasets.FashionMNIST(root = 'data', train = True, download = True, transform = transform)\n",
    "    test_data = datasets.FashionMNIST(root = 'data', train = False, download = True, transform = transform)# obtain training indices that will be used for validation\n",
    "    num_train = len(train_data)\n",
    "    indices = list(range(num_train))\n",
    "    np.random.shuffle(indices)\n",
    "    split = int(np.floor(valid_size * num_train))\n",
    "    train_index, valid_index = indices[split:], indices[:split]# define samplers for obtaining training and validation batches\n",
    "    train_sampler = SubsetRandomSampler(train_index)\n",
    "    valid_sampler = SubsetRandomSampler(valid_index)# prepare data loaders\n",
    "    train_loader = torch.utils.data.DataLoader(train_data, batch_size = batch_size, \n",
    "                                               sampler = train_sampler, num_workers = num_workers)\n",
    "    valid_loader = torch.utils.data.DataLoader(train_data, batch_size = batch_size,\n",
    "                                              sampler = valid_sampler, num_workers = num_workers)\n",
    "    test_loader = torch.utils.data.DataLoader(test_data, batch_size = batch_size,\n",
    "                                         num_workers = num_workers)\n",
    "    return {\"train\":train_loader, \"valid\":valid_loader, \"test\":test_loader}\n",
    "\n"
   ]
  },
  {
   "cell_type": "code",
   "execution_count": 4,
   "metadata": {
    "ExecuteTime": {
     "end_time": "2022-02-28T10:35:36.195829Z",
     "start_time": "2022-02-28T10:35:36.183832Z"
    }
   },
   "outputs": [
    {
     "name": "stdout",
     "output_type": "stream",
     "text": [
      "Net(\n",
      "  (fc1): Linear(in_features=784, out_features=64, bias=True)\n",
      "  (fc3): Linear(in_features=64, out_features=10, bias=True)\n",
      "  (droput): Dropout(p=0.2)\n",
      ")\n"
     ]
    }
   ],
   "source": [
    "import torch.nn as nn\n",
    "import torch.nn.functional as F# define NN architecture\n",
    "\n",
    "class Net(nn.Module):\n",
    "    def __init__(self, hidden_1=32):\n",
    "        super(Net,self).__init__()\n",
    "        # number of hidden nodes in each layer (512)\n",
    "        # linear layer (784 -> hidden_1)\n",
    "        self.fc1 = nn.Linear(28*28, hidden_1)\n",
    "        # linear layer (n_hidden -> hidden_2)\n",
    "        self.fc3 = nn.Linear(hidden_1,10)\n",
    "        # dropout layer (p=0.2)\n",
    "        # dropout prevents overfitting of data\n",
    "        self.droput = nn.Dropout(0.2)\n",
    "        \n",
    "    def forward(self,x):\n",
    "        # flatten image input\n",
    "        x = x.view(-1,28*28)\n",
    "        # add hidden layer, with relu activation function\n",
    "        x = F.relu(self.fc1(x))\n",
    "        # add dropout layer\n",
    "        x = self.droput(x)\n",
    "        # add output layer\n",
    "        x = self.fc3(x)\n",
    "        return x# initialize the NN\n",
    "model = Net(64)\n",
    "print(model)"
   ]
  },
  {
   "cell_type": "code",
   "execution_count": 5,
   "metadata": {
    "ExecuteTime": {
     "end_time": "2022-02-28T10:35:37.096429Z",
     "start_time": "2022-02-28T10:35:37.085483Z"
    }
   },
   "outputs": [],
   "source": [
    "\n",
    "def train_model(model, loaders, name=\"model\"):\n",
    "    #specify loss function (categorical cross-entropy)\n",
    "    criterion = nn.CrossEntropyLoss()# specify optimizer (stochastic gradient descent) and learning rate = 0.01\n",
    "    optimizer = torch.optim.SGD(model.parameters(),lr = 0.01)\n",
    "\n",
    "    train_loader = loaders['train']\n",
    "    valid_loader = loaders['valid']\n",
    "    # number of epochs to train the model\n",
    "    n_epochs = 10# initialize tracker for minimum validation loss\n",
    "    valid_loss_min = np.Inf  # set initial \"min\" to infinity\n",
    "\n",
    "    for epoch in range(n_epochs):\n",
    "        # monitor losses\n",
    "        train_loss = 0\n",
    "        valid_loss = 0\n",
    "\n",
    "\n",
    "        ###################\n",
    "        # train the model #\n",
    "        ###################\n",
    "        model.train() # prep model for training\n",
    "        for data,label in train_loader:\n",
    "            # clear the gradients of all optimized variables\n",
    "            optimizer.zero_grad()\n",
    "            # forward pass: compute predicted outputs by passing inputs to the model\n",
    "            output = model(data)\n",
    "            # calculate the loss\n",
    "            loss = criterion(output,label)\n",
    "            # backward pass: compute gradient of the loss with respect to model parameters\n",
    "            loss.backward()\n",
    "            # perform a single optimization step (parameter update)\n",
    "            optimizer.step()\n",
    "            # update running training loss\n",
    "            train_loss += loss.item() * data.size(0)\n",
    "\n",
    "\n",
    "         ######################    \n",
    "        # validate the model #\n",
    "        ######################\n",
    "        model.eval()  # prep model for evaluation\n",
    "        for data,label in valid_loader:\n",
    "            # forward pass: compute predicted outputs by passing inputs to the model\n",
    "            output = model(data)\n",
    "            # calculate the loss\n",
    "            loss = criterion(output,label)\n",
    "            # update running validation loss \n",
    "            valid_loss = loss.item() * data.size(0)\n",
    "\n",
    "        # print training/validation statistics \n",
    "        # calculate average loss over an epoch\n",
    "        train_loss = train_loss / len(train_loader.sampler)\n",
    "        valid_loss = valid_loss / len(valid_loader.sampler)\n",
    "\n",
    "        \"\"\"\n",
    "        print('Epoch: {} \\tTraining Loss: {:.6f} \\tValidation Loss: {:.6f}'.format(\n",
    "            epoch+1, \n",
    "            train_loss,\n",
    "            valid_loss\n",
    "            ))\n",
    "        \"\"\"\n",
    "\n",
    "        # save model if validation loss has decreased\n",
    "        if valid_loss <= valid_loss_min:\n",
    "            #print('Validation loss decreased ({:.6f} --> {:.6f}).  Saving model ...'.format(\n",
    "            #valid_loss_min,\n",
    "            #valid_loss))\n",
    "            torch.save(model.state_dict(), '%s.pt'%name)\n",
    "            valid_loss_min = valid_loss"
   ]
  },
  {
   "cell_type": "code",
   "execution_count": 6,
   "metadata": {
    "ExecuteTime": {
     "end_time": "2022-02-28T10:35:39.274945Z",
     "start_time": "2022-02-28T10:35:39.101270Z"
    }
   },
   "outputs": [],
   "source": [
    "loaders = get_loaders()"
   ]
  },
  {
   "cell_type": "code",
   "execution_count": 9,
   "metadata": {
    "ExecuteTime": {
     "end_time": "2021-12-23T16:13:02.544986Z",
     "start_time": "2021-12-23T16:13:00.936650Z"
    }
   },
   "outputs": [
    {
     "name": "stderr",
     "output_type": "stream",
     "text": [
      "  0%|          | 0/3 [00:01<?, ?it/s]\n"
     ]
    },
    {
     "ename": "KeyboardInterrupt",
     "evalue": "",
     "output_type": "error",
     "traceback": [
      "\u001b[1;31m---------------------------------------------------------------------------\u001b[0m",
      "\u001b[1;31mKeyboardInterrupt\u001b[0m                         Traceback (most recent call last)",
      "\u001b[1;32m<ipython-input-9-dda3ce2c0ed7>\u001b[0m in \u001b[0;36m<module>\u001b[1;34m\u001b[0m\n\u001b[0;32m      2\u001b[0m \u001b[1;32mfor\u001b[0m \u001b[0mi\u001b[0m \u001b[1;32min\u001b[0m \u001b[0mtqdm\u001b[0m\u001b[1;33m(\u001b[0m\u001b[0mrange\u001b[0m\u001b[1;33m(\u001b[0m\u001b[1;36m3\u001b[0m\u001b[1;33m)\u001b[0m\u001b[1;33m)\u001b[0m\u001b[1;33m:\u001b[0m\u001b[1;33m\u001b[0m\u001b[1;33m\u001b[0m\u001b[0m\n\u001b[0;32m      3\u001b[0m     \u001b[0mmodel\u001b[0m \u001b[1;33m=\u001b[0m \u001b[0mNet\u001b[0m\u001b[1;33m(\u001b[0m\u001b[1;36m16\u001b[0m\u001b[1;33m)\u001b[0m\u001b[1;33m\u001b[0m\u001b[1;33m\u001b[0m\u001b[0m\n\u001b[1;32m----> 4\u001b[1;33m     \u001b[0mtrain_model\u001b[0m\u001b[1;33m(\u001b[0m\u001b[0mmodel\u001b[0m\u001b[1;33m,\u001b[0m \u001b[0mloaders\u001b[0m\u001b[1;33m,\u001b[0m \u001b[1;34m\"model_3_%i\"\u001b[0m\u001b[1;33m%\u001b[0m\u001b[1;33m(\u001b[0m\u001b[0mi\u001b[0m\u001b[1;33m+\u001b[0m\u001b[1;36m1\u001b[0m\u001b[1;33m)\u001b[0m\u001b[1;33m)\u001b[0m\u001b[1;33m\u001b[0m\u001b[1;33m\u001b[0m\u001b[0m\n\u001b[0m\u001b[0;32m      5\u001b[0m \u001b[1;33m\u001b[0m\u001b[0m\n\u001b[0;32m      6\u001b[0m \u001b[1;33m\u001b[0m\u001b[0m\n",
      "\u001b[1;32m<ipython-input-6-a66dc6f2a188>\u001b[0m in \u001b[0;36mtrain_model\u001b[1;34m(model, loaders, name)\u001b[0m\n\u001b[0;32m     21\u001b[0m         \u001b[1;31m###################\u001b[0m\u001b[1;33m\u001b[0m\u001b[1;33m\u001b[0m\u001b[1;33m\u001b[0m\u001b[0m\n\u001b[0;32m     22\u001b[0m         \u001b[0mmodel\u001b[0m\u001b[1;33m.\u001b[0m\u001b[0mtrain\u001b[0m\u001b[1;33m(\u001b[0m\u001b[1;33m)\u001b[0m \u001b[1;31m# prep model for training\u001b[0m\u001b[1;33m\u001b[0m\u001b[1;33m\u001b[0m\u001b[0m\n\u001b[1;32m---> 23\u001b[1;33m         \u001b[1;32mfor\u001b[0m \u001b[0mdata\u001b[0m\u001b[1;33m,\u001b[0m\u001b[0mlabel\u001b[0m \u001b[1;32min\u001b[0m \u001b[0mtrain_loader\u001b[0m\u001b[1;33m:\u001b[0m\u001b[1;33m\u001b[0m\u001b[1;33m\u001b[0m\u001b[0m\n\u001b[0m\u001b[0;32m     24\u001b[0m             \u001b[1;31m# clear the gradients of all optimized variables\u001b[0m\u001b[1;33m\u001b[0m\u001b[1;33m\u001b[0m\u001b[1;33m\u001b[0m\u001b[0m\n\u001b[0;32m     25\u001b[0m             \u001b[0moptimizer\u001b[0m\u001b[1;33m.\u001b[0m\u001b[0mzero_grad\u001b[0m\u001b[1;33m(\u001b[0m\u001b[1;33m)\u001b[0m\u001b[1;33m\u001b[0m\u001b[1;33m\u001b[0m\u001b[0m\n",
      "\u001b[1;32m~\\env\\lib\\site-packages\\torch\\utils\\data\\dataloader.py\u001b[0m in \u001b[0;36m__next__\u001b[1;34m(self)\u001b[0m\n\u001b[0;32m    613\u001b[0m         \u001b[1;32mif\u001b[0m \u001b[0mself\u001b[0m\u001b[1;33m.\u001b[0m\u001b[0mnum_workers\u001b[0m \u001b[1;33m==\u001b[0m \u001b[1;36m0\u001b[0m\u001b[1;33m:\u001b[0m  \u001b[1;31m# same-process loading\u001b[0m\u001b[1;33m\u001b[0m\u001b[1;33m\u001b[0m\u001b[0m\n\u001b[0;32m    614\u001b[0m             \u001b[0mindices\u001b[0m \u001b[1;33m=\u001b[0m \u001b[0mnext\u001b[0m\u001b[1;33m(\u001b[0m\u001b[0mself\u001b[0m\u001b[1;33m.\u001b[0m\u001b[0msample_iter\u001b[0m\u001b[1;33m)\u001b[0m  \u001b[1;31m# may raise StopIteration\u001b[0m\u001b[1;33m\u001b[0m\u001b[1;33m\u001b[0m\u001b[0m\n\u001b[1;32m--> 615\u001b[1;33m             \u001b[0mbatch\u001b[0m \u001b[1;33m=\u001b[0m \u001b[0mself\u001b[0m\u001b[1;33m.\u001b[0m\u001b[0mcollate_fn\u001b[0m\u001b[1;33m(\u001b[0m\u001b[1;33m[\u001b[0m\u001b[0mself\u001b[0m\u001b[1;33m.\u001b[0m\u001b[0mdataset\u001b[0m\u001b[1;33m[\u001b[0m\u001b[0mi\u001b[0m\u001b[1;33m]\u001b[0m \u001b[1;32mfor\u001b[0m \u001b[0mi\u001b[0m \u001b[1;32min\u001b[0m \u001b[0mindices\u001b[0m\u001b[1;33m]\u001b[0m\u001b[1;33m)\u001b[0m\u001b[1;33m\u001b[0m\u001b[1;33m\u001b[0m\u001b[0m\n\u001b[0m\u001b[0;32m    616\u001b[0m             \u001b[1;32mif\u001b[0m \u001b[0mself\u001b[0m\u001b[1;33m.\u001b[0m\u001b[0mpin_memory\u001b[0m\u001b[1;33m:\u001b[0m\u001b[1;33m\u001b[0m\u001b[1;33m\u001b[0m\u001b[0m\n\u001b[0;32m    617\u001b[0m                 \u001b[0mbatch\u001b[0m \u001b[1;33m=\u001b[0m \u001b[0mpin_memory_batch\u001b[0m\u001b[1;33m(\u001b[0m\u001b[0mbatch\u001b[0m\u001b[1;33m)\u001b[0m\u001b[1;33m\u001b[0m\u001b[1;33m\u001b[0m\u001b[0m\n",
      "\u001b[1;32m~\\env\\lib\\site-packages\\torch\\utils\\data\\dataloader.py\u001b[0m in \u001b[0;36m<listcomp>\u001b[1;34m(.0)\u001b[0m\n\u001b[0;32m    613\u001b[0m         \u001b[1;32mif\u001b[0m \u001b[0mself\u001b[0m\u001b[1;33m.\u001b[0m\u001b[0mnum_workers\u001b[0m \u001b[1;33m==\u001b[0m \u001b[1;36m0\u001b[0m\u001b[1;33m:\u001b[0m  \u001b[1;31m# same-process loading\u001b[0m\u001b[1;33m\u001b[0m\u001b[1;33m\u001b[0m\u001b[0m\n\u001b[0;32m    614\u001b[0m             \u001b[0mindices\u001b[0m \u001b[1;33m=\u001b[0m \u001b[0mnext\u001b[0m\u001b[1;33m(\u001b[0m\u001b[0mself\u001b[0m\u001b[1;33m.\u001b[0m\u001b[0msample_iter\u001b[0m\u001b[1;33m)\u001b[0m  \u001b[1;31m# may raise StopIteration\u001b[0m\u001b[1;33m\u001b[0m\u001b[1;33m\u001b[0m\u001b[0m\n\u001b[1;32m--> 615\u001b[1;33m             \u001b[0mbatch\u001b[0m \u001b[1;33m=\u001b[0m \u001b[0mself\u001b[0m\u001b[1;33m.\u001b[0m\u001b[0mcollate_fn\u001b[0m\u001b[1;33m(\u001b[0m\u001b[1;33m[\u001b[0m\u001b[0mself\u001b[0m\u001b[1;33m.\u001b[0m\u001b[0mdataset\u001b[0m\u001b[1;33m[\u001b[0m\u001b[0mi\u001b[0m\u001b[1;33m]\u001b[0m \u001b[1;32mfor\u001b[0m \u001b[0mi\u001b[0m \u001b[1;32min\u001b[0m \u001b[0mindices\u001b[0m\u001b[1;33m]\u001b[0m\u001b[1;33m)\u001b[0m\u001b[1;33m\u001b[0m\u001b[1;33m\u001b[0m\u001b[0m\n\u001b[0m\u001b[0;32m    616\u001b[0m             \u001b[1;32mif\u001b[0m \u001b[0mself\u001b[0m\u001b[1;33m.\u001b[0m\u001b[0mpin_memory\u001b[0m\u001b[1;33m:\u001b[0m\u001b[1;33m\u001b[0m\u001b[1;33m\u001b[0m\u001b[0m\n\u001b[0;32m    617\u001b[0m                 \u001b[0mbatch\u001b[0m \u001b[1;33m=\u001b[0m \u001b[0mpin_memory_batch\u001b[0m\u001b[1;33m(\u001b[0m\u001b[0mbatch\u001b[0m\u001b[1;33m)\u001b[0m\u001b[1;33m\u001b[0m\u001b[1;33m\u001b[0m\u001b[0m\n",
      "\u001b[1;32m~\\env\\lib\\site-packages\\torchvision\\datasets\\mnist.py\u001b[0m in \u001b[0;36m__getitem__\u001b[1;34m(self, index)\u001b[0m\n\u001b[0;32m     93\u001b[0m \u001b[1;33m\u001b[0m\u001b[0m\n\u001b[0;32m     94\u001b[0m         \u001b[1;32mif\u001b[0m \u001b[0mself\u001b[0m\u001b[1;33m.\u001b[0m\u001b[0mtransform\u001b[0m \u001b[1;32mis\u001b[0m \u001b[1;32mnot\u001b[0m \u001b[1;32mNone\u001b[0m\u001b[1;33m:\u001b[0m\u001b[1;33m\u001b[0m\u001b[1;33m\u001b[0m\u001b[0m\n\u001b[1;32m---> 95\u001b[1;33m             \u001b[0mimg\u001b[0m \u001b[1;33m=\u001b[0m \u001b[0mself\u001b[0m\u001b[1;33m.\u001b[0m\u001b[0mtransform\u001b[0m\u001b[1;33m(\u001b[0m\u001b[0mimg\u001b[0m\u001b[1;33m)\u001b[0m\u001b[1;33m\u001b[0m\u001b[1;33m\u001b[0m\u001b[0m\n\u001b[0m\u001b[0;32m     96\u001b[0m \u001b[1;33m\u001b[0m\u001b[0m\n\u001b[0;32m     97\u001b[0m         \u001b[1;32mif\u001b[0m \u001b[0mself\u001b[0m\u001b[1;33m.\u001b[0m\u001b[0mtarget_transform\u001b[0m \u001b[1;32mis\u001b[0m \u001b[1;32mnot\u001b[0m \u001b[1;32mNone\u001b[0m\u001b[1;33m:\u001b[0m\u001b[1;33m\u001b[0m\u001b[1;33m\u001b[0m\u001b[0m\n",
      "\u001b[1;32m~\\env\\lib\\site-packages\\torchvision\\transforms\\transforms.py\u001b[0m in \u001b[0;36m__call__\u001b[1;34m(self, pic)\u001b[0m\n\u001b[0;32m     89\u001b[0m             \u001b[0mTensor\u001b[0m\u001b[1;33m:\u001b[0m \u001b[0mConverted\u001b[0m \u001b[0mimage\u001b[0m\u001b[1;33m.\u001b[0m\u001b[1;33m\u001b[0m\u001b[1;33m\u001b[0m\u001b[0m\n\u001b[0;32m     90\u001b[0m         \"\"\"\n\u001b[1;32m---> 91\u001b[1;33m         \u001b[1;32mreturn\u001b[0m \u001b[0mF\u001b[0m\u001b[1;33m.\u001b[0m\u001b[0mto_tensor\u001b[0m\u001b[1;33m(\u001b[0m\u001b[0mpic\u001b[0m\u001b[1;33m)\u001b[0m\u001b[1;33m\u001b[0m\u001b[1;33m\u001b[0m\u001b[0m\n\u001b[0m\u001b[0;32m     92\u001b[0m \u001b[1;33m\u001b[0m\u001b[0m\n\u001b[0;32m     93\u001b[0m     \u001b[1;32mdef\u001b[0m \u001b[0m__repr__\u001b[0m\u001b[1;33m(\u001b[0m\u001b[0mself\u001b[0m\u001b[1;33m)\u001b[0m\u001b[1;33m:\u001b[0m\u001b[1;33m\u001b[0m\u001b[1;33m\u001b[0m\u001b[0m\n",
      "\u001b[1;32m~\\env\\lib\\site-packages\\torchvision\\transforms\\functional.py\u001b[0m in \u001b[0;36mto_tensor\u001b[1;34m(pic)\u001b[0m\n\u001b[0;32m     88\u001b[0m     \u001b[1;31m# put it from HWC to CHW format\u001b[0m\u001b[1;33m\u001b[0m\u001b[1;33m\u001b[0m\u001b[1;33m\u001b[0m\u001b[0m\n\u001b[0;32m     89\u001b[0m     \u001b[1;31m# yikes, this transpose takes 80% of the loading time/CPU\u001b[0m\u001b[1;33m\u001b[0m\u001b[1;33m\u001b[0m\u001b[1;33m\u001b[0m\u001b[0m\n\u001b[1;32m---> 90\u001b[1;33m     \u001b[0mimg\u001b[0m \u001b[1;33m=\u001b[0m \u001b[0mimg\u001b[0m\u001b[1;33m.\u001b[0m\u001b[0mtranspose\u001b[0m\u001b[1;33m(\u001b[0m\u001b[1;36m0\u001b[0m\u001b[1;33m,\u001b[0m \u001b[1;36m1\u001b[0m\u001b[1;33m)\u001b[0m\u001b[1;33m.\u001b[0m\u001b[0mtranspose\u001b[0m\u001b[1;33m(\u001b[0m\u001b[1;36m0\u001b[0m\u001b[1;33m,\u001b[0m \u001b[1;36m2\u001b[0m\u001b[1;33m)\u001b[0m\u001b[1;33m.\u001b[0m\u001b[0mcontiguous\u001b[0m\u001b[1;33m(\u001b[0m\u001b[1;33m)\u001b[0m\u001b[1;33m\u001b[0m\u001b[1;33m\u001b[0m\u001b[0m\n\u001b[0m\u001b[0;32m     91\u001b[0m     \u001b[1;32mif\u001b[0m \u001b[0misinstance\u001b[0m\u001b[1;33m(\u001b[0m\u001b[0mimg\u001b[0m\u001b[1;33m,\u001b[0m \u001b[0mtorch\u001b[0m\u001b[1;33m.\u001b[0m\u001b[0mByteTensor\u001b[0m\u001b[1;33m)\u001b[0m\u001b[1;33m:\u001b[0m\u001b[1;33m\u001b[0m\u001b[1;33m\u001b[0m\u001b[0m\n\u001b[0;32m     92\u001b[0m         \u001b[1;32mreturn\u001b[0m \u001b[0mimg\u001b[0m\u001b[1;33m.\u001b[0m\u001b[0mfloat\u001b[0m\u001b[1;33m(\u001b[0m\u001b[1;33m)\u001b[0m\u001b[1;33m.\u001b[0m\u001b[0mdiv\u001b[0m\u001b[1;33m(\u001b[0m\u001b[1;36m255\u001b[0m\u001b[1;33m)\u001b[0m\u001b[1;33m\u001b[0m\u001b[1;33m\u001b[0m\u001b[0m\n",
      "\u001b[1;31mKeyboardInterrupt\u001b[0m: "
     ]
    }
   ],
   "source": [
    "\n",
    "for i in tqdm(range(3)):\n",
    "    model = Net(16)\n",
    "    train_model(model, loaders, \"model_3_%i\"%(i+1))\n",
    "\n",
    "    "
   ]
  },
  {
   "cell_type": "code",
   "execution_count": 7,
   "metadata": {
    "ExecuteTime": {
     "end_time": "2022-02-28T10:35:44.116185Z",
     "start_time": "2022-02-28T10:35:44.034705Z"
    }
   },
   "outputs": [],
   "source": [
    "test_loaders = loaders[\"test\"]\n",
    "list_models = []\n",
    "for i in range(15):\n",
    "    model_i = Net(32)\n",
    "    model_i.load_state_dict(torch.load('model_1_%i.pt'%(i+1)))\n",
    "    model_i.eval()\n",
    "    list_models.append(model_i)\n",
    "\n",
    "for i in range(5):\n",
    "    model_i = Net(64)\n",
    "    model_i.load_state_dict(torch.load('model_2_%i.pt'%(i+1)))\n",
    "    model_i.eval()\n",
    "    list_models.append(model_i)\n",
    "    \n",
    "    \n",
    "for i in range(3):\n",
    "    model_i = Net(16)\n",
    "    model_i.load_state_dict(torch.load('model_3_%i.pt'%(i+1)))\n",
    "    model_i.eval()\n",
    "    list_models.append(model_i)\n"
   ]
  },
  {
   "cell_type": "code",
   "execution_count": 8,
   "metadata": {
    "ExecuteTime": {
     "end_time": "2022-02-28T10:35:50.485974Z",
     "start_time": "2022-02-28T10:35:50.478992Z"
    }
   },
   "outputs": [],
   "source": [
    "# initialize lists to monitor test loss and accuracy\n",
    "def eval_model(model, test_loader):\n",
    "    class_correct = list(0. for i in range(10))\n",
    "    class_total = list(0. for i in range(10))\n",
    "\n",
    "    for data, target in test_loader:\n",
    "        # forward pass: compute predicted outputs by passing inputs to the model\n",
    "        output = model(data)\n",
    "        # convert output probabilities to predicted class\n",
    "        _, pred = torch.max(output, 1)\n",
    "        # compare predictions to true label\n",
    "        correct = np.squeeze(pred.eq(target.data.view_as(pred)))\n",
    "        # calculate test accuracy for each object class\n",
    "        for i in range(len(target)):\n",
    "            label = target.data[i].item()\n",
    "            class_correct[label] += correct[i].item()\n",
    "            class_total[label] += 1# calculate and print avg test loss\n",
    "\n",
    "    print('\\nTest Accuracy: %2d%% (%2d/%2d)' % (100. * np.sum(class_correct) / np.sum(class_total),\n",
    "        np.sum(class_correct), np.sum(class_total)))"
   ]
  },
  {
   "cell_type": "code",
   "execution_count": 9,
   "metadata": {
    "ExecuteTime": {
     "end_time": "2022-02-28T10:36:29.055097Z",
     "start_time": "2022-02-28T10:35:50.870896Z"
    }
   },
   "outputs": [
    {
     "name": "stdout",
     "output_type": "stream",
     "text": [
      "\n",
      "Test Accuracy: 77% (7797/10000)\n",
      "\n",
      "Test Accuracy: 78% (7883/10000)\n",
      "\n",
      "Test Accuracy: 79% (7974/10000)\n",
      "\n",
      "Test Accuracy: 79% (7946/10000)\n",
      "\n",
      "Test Accuracy: 78% (7887/10000)\n",
      "\n",
      "Test Accuracy: 78% (7887/10000)\n",
      "\n",
      "Test Accuracy: 79% (7909/10000)\n",
      "\n",
      "Test Accuracy: 78% (7830/10000)\n",
      "\n",
      "Test Accuracy: 78% (7858/10000)\n",
      "\n",
      "Test Accuracy: 76% (7624/10000)\n",
      "\n",
      "Test Accuracy: 78% (7894/10000)\n",
      "\n",
      "Test Accuracy: 77% (7712/10000)\n",
      "\n",
      "Test Accuracy: 78% (7849/10000)\n",
      "\n",
      "Test Accuracy: 78% (7868/10000)\n",
      "\n",
      "Test Accuracy: 78% (7827/10000)\n",
      "\n",
      "Test Accuracy: 78% (7852/10000)\n",
      "\n",
      "Test Accuracy: 80% (8003/10000)\n",
      "\n",
      "Test Accuracy: 79% (7926/10000)\n",
      "\n",
      "Test Accuracy: 80% (8034/10000)\n",
      "\n",
      "Test Accuracy: 80% (8014/10000)\n",
      "\n",
      "Test Accuracy: 78% (7817/10000)\n",
      "\n",
      "Test Accuracy: 75% (7590/10000)\n",
      "\n",
      "Test Accuracy: 78% (7843/10000)\n"
     ]
    }
   ],
   "source": [
    "loaders = get_loaders()\n",
    "test_loader = loaders[\"test\"]\n",
    "for model in list_models:\n",
    "    eval_model(model, test_loader)"
   ]
  },
  {
   "cell_type": "code",
   "execution_count": 13,
   "metadata": {
    "ExecuteTime": {
     "end_time": "2021-12-23T16:14:21.987540Z",
     "start_time": "2021-12-23T16:14:07.518265Z"
    }
   },
   "outputs": [
    {
     "name": "stdout",
     "output_type": "stream",
     "text": [
      "0.792\n",
      "0.7917\n"
     ]
    }
   ],
   "source": [
    "def eval_rule(list_models, rule=np.sum):\n",
    "\n",
    "    accuracy = 0\n",
    "    total = 0\n",
    "    \n",
    "    for data, target in test_loader:\n",
    "        # forward pass: compute predicted outputs by passing inputs to the model\n",
    "        outputs = []\n",
    "        for i, model in enumerate(list_models):\n",
    "            output = model(data)\n",
    "            outputs.append(output)\n",
    "        for i in range(outputs[0].shape[0]):\n",
    "            ratings = np.zeros((len(list_models), 10))\n",
    "            for j in range(len(list_models)):\n",
    "                proba = np.exp(outputs[j][i].detach().numpy())\n",
    "                proba /= proba.sum()\n",
    "                ratings[j] = proba\n",
    "            total += 1\n",
    "            if (rule(ratings,axis=0).argmax() == target.data[i].item()):\n",
    "                accuracy += 1\n",
    "                \n",
    "    print(accuracy/total)\n",
    "        \n",
    "eval_rule(list_models, np.sum)\n",
    "eval_rule(list_models, np.prod)"
   ]
  },
  {
   "cell_type": "code",
   "execution_count": 20,
   "metadata": {
    "ExecuteTime": {
     "end_time": "2021-12-23T16:19:10.614660Z",
     "start_time": "2021-12-23T16:17:25.098365Z"
    }
   },
   "outputs": [
    {
     "name": "stdout",
     "output_type": "stream",
     "text": [
      "0.793\n"
     ]
    }
   ],
   "source": [
    "import embedded_voting as ev\n",
    "\n",
    "def eval_rule_ev(list_models, rule=ev.FastNash()):\n",
    "    aggregator = ev.Aggregator()\n",
    "    accuracy = 0\n",
    "    total = 0\n",
    "    \n",
    "    for data, target in test_loader:\n",
    "        # forward pass: compute predicted outputs by passing inputs to the model\n",
    "        outputs = []\n",
    "        for i, model in enumerate(list_models):\n",
    "            output = model(data)\n",
    "            outputs.append(output)\n",
    "        for i in range(outputs[0].shape[0]):\n",
    "            ratings = np.zeros((len(list_models), 10))\n",
    "            for j in range(len(list_models)):\n",
    "                proba = np.exp(outputs[j][i].detach().numpy())\n",
    "                proba /= proba.sum()\n",
    "                ratings[j] = proba\n",
    "            total += 1\n",
    "            train = True\n",
    "            if total > 100:\n",
    "                train = False\n",
    "            results = aggregator(ratings, train=train)\n",
    "            if (results.winner_ == target.data[i].item()):\n",
    "                accuracy += 1\n",
    "                \n",
    "    print(accuracy/total)\n",
    "        \n",
    "eval_rule_ev(list_models, ev.FastNash())"
   ]
  },
  {
   "cell_type": "code",
   "execution_count": 21,
   "metadata": {
    "ExecuteTime": {
     "end_time": "2021-12-23T16:24:06.511560Z",
     "start_time": "2021-12-23T16:20:20.869362Z"
    }
   },
   "outputs": [
    {
     "name": "stdout",
     "output_type": "stream",
     "text": [
      "0.793\n",
      "0.793\n"
     ]
    }
   ],
   "source": [
    "eval_rule_ev(list_models, ev.FastSum())\n",
    "eval_rule_ev(list_models, ev.FastLog())"
   ]
  },
  {
   "cell_type": "code",
   "execution_count": 17,
   "metadata": {
    "ExecuteTime": {
     "end_time": "2022-02-28T10:49:20.025238Z",
     "start_time": "2022-02-28T10:49:20.017228Z"
    }
   },
   "outputs": [],
   "source": [
    "def correlation(a,b,c,d):\n",
    "    return (a*d-c*b)/np.sqrt((a+b)*(c+d)*(a+c)*(b+d))\n",
    "\n",
    "def qStatistic(a,b,c,d):\n",
    "    return (a*d-c*b)/(a*d+b*c)\n",
    "    \n",
    "def disagreement(a,b,c,d):\n",
    "    return b+c\n",
    "\n",
    "def doubleFault(a,b,c,d):\n",
    "    return d\n",
    "\n",
    "def computeMat(A,B,C, f):\n",
    "    n = len(A)\n",
    "    M = np.zeros((n,n))\n",
    "    for i in range(n):\n",
    "        for j in range(i+1,n):\n",
    "            M[i,j] = f(A[i,j],B[i,j],B[j,i],C[i,j])\n",
    "    return M"
   ]
  },
  {
   "cell_type": "code",
   "execution_count": 15,
   "metadata": {
    "ExecuteTime": {
     "end_time": "2022-02-28T10:49:16.345841Z",
     "start_time": "2022-02-28T10:48:32.767420Z"
    }
   },
   "outputs": [
    {
     "name": "stderr",
     "output_type": "stream",
     "text": [
      "100%|██████████| 79/79 [00:43<00:00,  1.81it/s]\n"
     ]
    }
   ],
   "source": [
    "import embedded_voting as ev\n",
    "import matplotlib.pyplot as plt\n",
    "\n",
    "\n",
    "def matrix_dep(list_models):\n",
    "\n",
    "    accuracy = 0\n",
    "    total = 0\n",
    "    n = len(list_models)\n",
    "    matA = np.zeros((n,n))\n",
    "    matB = np.zeros((n,n))\n",
    "    matC = np.zeros((n,n))\n",
    "    for data, target in tqdm(test_loader):\n",
    "        # forward pass: compute predicted outputs by passing inputs to the model\n",
    "        preds = []\n",
    "        for i, model in enumerate(list_models):\n",
    "            output = model(data)\n",
    "            _, pred = torch.max(output, 1)\n",
    "            preds.append(pred)\n",
    "        for i in range(preds[0].shape[0]):\n",
    "            res= target.data[i].item()\n",
    "            ratings = np.zeros((len(list_models), 10))\n",
    "            for j in range(len(list_models)):\n",
    "                for j2 in range(j+1, len(list_models)):\n",
    "                    if (preds[j][i] == res):\n",
    "                        if (preds[j2][i] == res):\n",
    "                            matA[j,j2] += 1\n",
    "                        else:\n",
    "                            matB[j,j2] += 1\n",
    "                    else:\n",
    "                        if (preds[j2][i] == res):\n",
    "                            matB[j2,j] += 1\n",
    "                        else:\n",
    "                            matC[j,j2] += 1\n",
    "            \n",
    "            total += 1\n",
    "            #if (total == 10):\n",
    "                #print(aggregator.embeddings.n_sing_val_)\n",
    "                #print(aggregator.embeddings)\n",
    "                #return\n",
    "                \n",
    "    return matA, matB, matC\n",
    "\n",
    "matA, matB, matC = matrix_dep(list_models)"
   ]
  },
  {
   "cell_type": "code",
   "execution_count": 18,
   "metadata": {
    "ExecuteTime": {
     "end_time": "2022-02-28T10:49:21.685866Z",
     "start_time": "2022-02-28T10:49:21.540925Z"
    }
   },
   "outputs": [
    {
     "data": {
      "image/png": "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\n",
      "text/plain": [
       "<Figure size 432x288 with 1 Axes>"
      ]
     },
     "metadata": {
      "needs_background": "light"
     },
     "output_type": "display_data"
    }
   ],
   "source": [
    "m1 = computeMat(matA, matB, matC, correlation)\n",
    "plt.imshow(m1)\n",
    "plt.title(\"Correlation\")\n",
    "plt.show()"
   ]
  },
  {
   "cell_type": "code",
   "execution_count": 23,
   "metadata": {
    "ExecuteTime": {
     "end_time": "2022-02-28T10:50:31.256061Z",
     "start_time": "2022-02-28T10:50:31.142038Z"
    }
   },
   "outputs": [
    {
     "data": {
      "image/png": "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\n",
      "text/plain": [
       "<Figure size 432x288 with 1 Axes>"
      ]
     },
     "metadata": {
      "needs_background": "light"
     },
     "output_type": "display_data"
    }
   ],
   "source": [
    "m1 = computeMat(matA, matB, matC, qStatistic)\n",
    "plt.imshow(m1)\n",
    "plt.title(\"qStatistic\")\n",
    "plt.show()"
   ]
  },
  {
   "cell_type": "code",
   "execution_count": 24,
   "metadata": {
    "ExecuteTime": {
     "end_time": "2022-02-28T10:50:38.040361Z",
     "start_time": "2022-02-28T10:50:37.923236Z"
    }
   },
   "outputs": [
    {
     "data": {
      "image/png": "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\n",
      "text/plain": [
       "<Figure size 432x288 with 1 Axes>"
      ]
     },
     "metadata": {
      "needs_background": "light"
     },
     "output_type": "display_data"
    }
   ],
   "source": [
    "m1 = computeMat(matA, matB, matC, disagreement)\n",
    "plt.imshow(m1)\n",
    "plt.title(\"disagreement\")\n",
    "plt.show()"
   ]
  },
  {
   "cell_type": "code",
   "execution_count": 26,
   "metadata": {
    "ExecuteTime": {
     "end_time": "2022-02-28T11:07:35.757746Z",
     "start_time": "2022-02-28T11:07:35.640186Z"
    }
   },
   "outputs": [
    {
     "data": {
      "image/png": "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\n",
      "text/plain": [
       "<Figure size 432x288 with 1 Axes>"
      ]
     },
     "metadata": {
      "needs_background": "light"
     },
     "output_type": "display_data"
    }
   ],
   "source": [
    "m1 = computeMat(matA, matB, matC, doubleFault)\n",
    "plt.imshow(m1)\n",
    "plt.title(\"doubleFault\")\n",
    "plt.show()"
   ]
  },
  {
   "cell_type": "code",
   "execution_count": 33,
   "metadata": {
    "ExecuteTime": {
     "end_time": "2022-02-28T11:12:47.007254Z",
     "start_time": "2022-02-28T11:12:46.878647Z"
    }
   },
   "outputs": [
    {
     "data": {
      "image/png": "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\n",
      "text/plain": [
       "<Figure size 432x288 with 1 Axes>"
      ]
     },
     "metadata": {
      "needs_background": "light"
     },
     "output_type": "display_data"
    }
   ],
   "source": [
    "n = len(m1)\n",
    "m = np.zeros((n,n))\n",
    "g_size = [15,5,3]\n",
    "for i in range(n):\n",
    "    for j in range(i+1,n):\n",
    "        m[i,j] = 0.5 + np.random.rand()*0.2\n",
    "    \n",
    "s = 0\n",
    "for g in g_size:\n",
    "    for i in range(s,s+g):\n",
    "        for j in range(i+1,s+g):\n",
    "            m[i,j] = 0.9 + np.random.rand()*0.1\n",
    "    s += g\n",
    "            \n",
    "plt.imshow(m)\n",
    "plt.title(\"Ideal\")\n",
    "plt.show()"
   ]
  },
  {
   "cell_type": "code",
   "execution_count": null,
   "metadata": {},
   "outputs": [],
   "source": [
    "def matrix_diff(list_models):\n",
    "    accuracy = 0\n",
    "    total = 0\n",
    "    for data, target in tqdm(test_loader):\n",
    "        # forward pass: compute predicted outputs by passing inputs to the model\n",
    "        outputs = []\n",
    "        for i, model in enumerate(list_models):\n",
    "            output = model(data)\n",
    "            outputs.append(output)\n",
    "        for i in range(1):#outputs[0].shape[0]):\n",
    "            ratings = np.zeros((len(list_models), 10))\n",
    "            for j in range(len(list_models)):\n",
    "                proba = np.exp(outputs[j][i].detach().numpy())\n",
    "                proba /= proba.sum()\n",
    "                ratings[j] = proba\n",
    "               \n",
    "                \n",
    "            #if (total == 10):\n",
    "                #print(aggregator.embeddings.n_sing_val_)\n",
    "                #print(aggregator.embeddings)\n",
    "                #return\n",
    "                \n",
    "    print(accuracy/total)"
   ]
  },
  {
   "cell_type": "markdown",
   "metadata": {},
   "source": [
    "# CNN"
   ]
  },
  {
   "cell_type": "code",
   "execution_count": 13,
   "metadata": {
    "ExecuteTime": {
     "end_time": "2021-12-13T13:41:05.326860Z",
     "start_time": "2021-12-13T13:41:05.317797Z"
    }
   },
   "outputs": [
    {
     "data": {
      "text/plain": [
       "device(type='cpu')"
      ]
     },
     "execution_count": 13,
     "metadata": {},
     "output_type": "execute_result"
    }
   ],
   "source": [
    "# Device configuration\n",
    "device = torch.device('cuda' if torch.cuda.is_available() else 'cpu')\n",
    "device"
   ]
  },
  {
   "cell_type": "code",
   "execution_count": 16,
   "metadata": {
    "ExecuteTime": {
     "end_time": "2021-12-13T13:41:50.350968Z",
     "start_time": "2021-12-13T13:41:27.790950Z"
    }
   },
   "outputs": [
    {
     "name": "stderr",
     "output_type": "stream",
     "text": [
      "\r",
      "0it [00:00, ?it/s]"
     ]
    },
    {
     "name": "stdout",
     "output_type": "stream",
     "text": [
      "Downloading http://yann.lecun.com/exdb/mnist/train-images-idx3-ubyte.gz to data\\MNIST\\raw\\train-images-idx3-ubyte.gz\n"
     ]
    },
    {
     "name": "stderr",
     "output_type": "stream",
     "text": [
      " 99%|█████████▊| 9781248/9912422 [00:00<00:00, 11218634.29it/s]"
     ]
    },
    {
     "name": "stdout",
     "output_type": "stream",
     "text": [
      "Extracting data\\MNIST\\raw\\train-images-idx3-ubyte.gz\n"
     ]
    },
    {
     "name": "stderr",
     "output_type": "stream",
     "text": [
      "\n",
      "0it [00:00, ?it/s]\u001b[A\n",
      "\n",
      "0it [00:00, ?it/s]\u001b[A\u001b[A\n",
      "\n",
      "  8%|▊         | 139264/1648877 [00:00<00:01, 1385963.14it/s]\u001b[A\u001b[A"
     ]
    },
    {
     "name": "stdout",
     "output_type": "stream",
     "text": [
      "Downloading http://yann.lecun.com/exdb/mnist/train-labels-idx1-ubyte.gz to data\\MNIST\\raw\\train-labels-idx1-ubyte.gz\n",
      "Extracting data\\MNIST\\raw\\train-labels-idx1-ubyte.gz\n",
      "Downloading http://yann.lecun.com/exdb/mnist/t10k-images-idx3-ubyte.gz to data\\MNIST\\raw\\t10k-images-idx3-ubyte.gz\n"
     ]
    },
    {
     "name": "stderr",
     "output_type": "stream",
     "text": [
      "\n",
      "\n",
      " 99%|█████████▉| 1630208/1648877 [00:00<00:00, 1875441.14it/s]\u001b[A\u001b[A\n",
      "\n",
      "\n",
      "0it [00:00, ?it/s]\u001b[A\u001b[A\u001b[A"
     ]
    },
    {
     "name": "stdout",
     "output_type": "stream",
     "text": [
      "Extracting data\\MNIST\\raw\\t10k-images-idx3-ubyte.gz\n",
      "Downloading http://yann.lecun.com/exdb/mnist/t10k-labels-idx1-ubyte.gz to data\\MNIST\\raw\\t10k-labels-idx1-ubyte.gz\n",
      "Extracting data\\MNIST\\raw\\t10k-labels-idx1-ubyte.gz\n",
      "Processing...\n"
     ]
    },
    {
     "name": "stderr",
     "output_type": "stream",
     "text": [
      "\r",
      "9920512it [00:02, 4861155.99it/s]                              "
     ]
    },
    {
     "name": "stdout",
     "output_type": "stream",
     "text": [
      "Done!\n"
     ]
    },
    {
     "name": "stderr",
     "output_type": "stream",
     "text": [
      "\n",
      "32768it [00:10, 3089.41it/s]\n",
      "1654784it [00:20, 80569.02it/s]                               \n",
      "8192it [00:30, 270.97it/s]"
     ]
    }
   ],
   "source": [
    "from torchvision import datasets\n",
    "from torchvision.transforms import ToTensor\n",
    "\n",
    "train_data = datasets.MNIST(\n",
    "    root = 'data',\n",
    "    train = True,                         \n",
    "    transform = ToTensor(), \n",
    "    download = True,            \n",
    ")\n",
    "test_data = datasets.MNIST(\n",
    "    root = 'data', \n",
    "    train = False, \n",
    "    transform = ToTensor()\n",
    ")"
   ]
  },
  {
   "cell_type": "code",
   "execution_count": 19,
   "metadata": {
    "ExecuteTime": {
     "end_time": "2021-12-13T13:42:17.734660Z",
     "start_time": "2021-12-13T13:42:17.542711Z"
    }
   },
   "outputs": [
    {
     "data": {
      "image/png": "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\n",
      "text/plain": [
       "<Figure size 432x288 with 1 Axes>"
      ]
     },
     "metadata": {
      "needs_background": "light"
     },
     "output_type": "display_data"
    }
   ],
   "source": [
    "import matplotlib.pyplot as plt\n",
    "plt.imshow(train_data.data[0], cmap='gray')\n",
    "plt.title('%i' % train_data.targets[0])\n",
    "plt.show()"
   ]
  },
  {
   "cell_type": "code",
   "execution_count": 20,
   "metadata": {
    "ExecuteTime": {
     "end_time": "2021-12-13T13:42:22.282231Z",
     "start_time": "2021-12-13T13:42:22.273399Z"
    }
   },
   "outputs": [
    {
     "data": {
      "text/plain": [
       "{'train': <torch.utils.data.dataloader.DataLoader at 0x1b4ae0f3c88>,\n",
       " 'test': <torch.utils.data.dataloader.DataLoader at 0x1b4adf762e8>}"
      ]
     },
     "execution_count": 20,
     "metadata": {},
     "output_type": "execute_result"
    }
   ],
   "source": [
    "from torch.utils.data import DataLoader\n",
    "\n",
    "loaders = {\n",
    "    'train' : torch.utils.data.DataLoader(train_data, \n",
    "                                          batch_size=100, \n",
    "                                          shuffle=True, \n",
    "                                          num_workers=1),\n",
    "    \n",
    "    'test'  : torch.utils.data.DataLoader(test_data, \n",
    "                                          batch_size=100, \n",
    "                                          shuffle=True, \n",
    "                                          num_workers=1),\n",
    "}\n",
    "loaders"
   ]
  },
  {
   "cell_type": "code",
   "execution_count": 24,
   "metadata": {
    "ExecuteTime": {
     "end_time": "2021-12-13T13:42:52.862525Z",
     "start_time": "2021-12-13T13:42:52.855540Z"
    }
   },
   "outputs": [],
   "source": [
    "import torch.nn as nn\n",
    "\n",
    "class CNN(nn.Module):\n",
    "    def __init__(self):\n",
    "        super(CNN, self).__init__()        \n",
    "        self.conv1 = nn.Sequential(         \n",
    "            nn.Conv2d(\n",
    "                in_channels=1,              \n",
    "                out_channels=16,            \n",
    "                kernel_size=5,              \n",
    "                stride=1,                   \n",
    "                padding=2,                  \n",
    "            ),                              \n",
    "            nn.ReLU(),                      \n",
    "            nn.MaxPool2d(kernel_size=2),    \n",
    "        )\n",
    "        self.conv2 = nn.Sequential(         \n",
    "            nn.Conv2d(16, 32, 5, 1, 2),     \n",
    "            nn.ReLU(),                      \n",
    "            nn.MaxPool2d(2),                \n",
    "        )        # fully connected layer, output 10 classes\n",
    "        self.out = nn.Linear(32 * 7 * 7, 10)    \n",
    "    \n",
    "    def forward(self, x):\n",
    "        x = self.conv1(x)\n",
    "        x = self.conv2(x)        # flatten the output of conv2 to (batch_size, 32 * 7 * 7)\n",
    "        x = x.view(x.size(0), -1)       \n",
    "        output = self.out(x)\n",
    "        return output, x    # return x for visualization"
   ]
  },
  {
   "cell_type": "code",
   "execution_count": 26,
   "metadata": {
    "ExecuteTime": {
     "end_time": "2021-12-13T13:43:05.295450Z",
     "start_time": "2021-12-13T13:43:05.283481Z"
    }
   },
   "outputs": [
    {
     "name": "stdout",
     "output_type": "stream",
     "text": [
      "CNN(\n",
      "  (conv1): Sequential(\n",
      "    (0): Conv2d(1, 16, kernel_size=(5, 5), stride=(1, 1), padding=(2, 2))\n",
      "    (1): ReLU()\n",
      "    (2): MaxPool2d(kernel_size=2, stride=2, padding=0, dilation=1, ceil_mode=False)\n",
      "  )\n",
      "  (conv2): Sequential(\n",
      "    (0): Conv2d(16, 32, kernel_size=(5, 5), stride=(1, 1), padding=(2, 2))\n",
      "    (1): ReLU()\n",
      "    (2): MaxPool2d(kernel_size=2, stride=2, padding=0, dilation=1, ceil_mode=False)\n",
      "  )\n",
      "  (out): Linear(in_features=1568, out_features=10, bias=True)\n",
      ")\n"
     ]
    }
   ],
   "source": [
    "cnn = CNN()\n",
    "print(cnn)"
   ]
  },
  {
   "cell_type": "code",
   "execution_count": 27,
   "metadata": {
    "ExecuteTime": {
     "end_time": "2021-12-13T13:43:15.710462Z",
     "start_time": "2021-12-13T13:43:15.704477Z"
    }
   },
   "outputs": [
    {
     "data": {
      "text/plain": [
       "CrossEntropyLoss()"
      ]
     },
     "execution_count": 27,
     "metadata": {},
     "output_type": "execute_result"
    }
   ],
   "source": [
    "loss_func = nn.CrossEntropyLoss()   \n",
    "loss_func"
   ]
  },
  {
   "cell_type": "code",
   "execution_count": 29,
   "metadata": {
    "ExecuteTime": {
     "end_time": "2021-12-13T13:43:22.082388Z",
     "start_time": "2021-12-13T13:43:22.074407Z"
    }
   },
   "outputs": [
    {
     "data": {
      "text/plain": [
       "Adam (\n",
       "Parameter Group 0\n",
       "    amsgrad: False\n",
       "    betas: (0.9, 0.999)\n",
       "    eps: 1e-08\n",
       "    lr: 0.01\n",
       "    weight_decay: 0\n",
       ")"
      ]
     },
     "execution_count": 29,
     "metadata": {},
     "output_type": "execute_result"
    }
   ],
   "source": [
    "from torch import optim\n",
    "optimizer = optim.Adam(cnn.parameters(), lr = 0.01)   \n",
    "optimizer"
   ]
  },
  {
   "cell_type": "code",
   "execution_count": 31,
   "metadata": {
    "ExecuteTime": {
     "end_time": "2021-12-13T13:46:32.869499Z",
     "start_time": "2021-12-13T13:44:08.943517Z"
    }
   },
   "outputs": [
    {
     "name": "stdout",
     "output_type": "stream",
     "text": [
      "Epoch [1/10], Step [100/600], Loss: 0.0898\n",
      "Epoch [1/10], Step [200/600], Loss: 0.0568\n",
      "Epoch [1/10], Step [300/600], Loss: 0.0341\n",
      "Epoch [1/10], Step [400/600], Loss: 0.0356\n",
      "Epoch [1/10], Step [500/600], Loss: 0.0240\n",
      "Epoch [1/10], Step [600/600], Loss: 0.0922\n",
      "Epoch [2/10], Step [100/600], Loss: 0.1502\n",
      "Epoch [2/10], Step [200/600], Loss: 0.0120\n"
     ]
    },
    {
     "name": "stderr",
     "output_type": "stream",
     "text": [
      "Exception ignored in: <function _DataLoaderIter.__del__ at 0x000001B4C4F8D400>\n",
      "Traceback (most recent call last):\n",
    ]
    },
    {
     "ename": "KeyboardInterrupt",
     "evalue": "",
     "output_type": "error",
     "traceback": [
      "\u001b[1;31m---------------------------------------------------------------------------\u001b[0m",
      "\u001b[1;31mKeyboardInterrupt\u001b[0m                         Traceback (most recent call last)",
      "\u001b[1;32m<ipython-input-31-e027e8c6f3a6>\u001b[0m in \u001b[0;36m<module>\u001b[1;34m\u001b[0m\n\u001b[0;32m     34\u001b[0m     \u001b[1;32mpass\u001b[0m\u001b[1;33m\u001b[0m\u001b[1;33m\u001b[0m\u001b[0m\n\u001b[0;32m     35\u001b[0m \u001b[1;33m\u001b[0m\u001b[0m\n\u001b[1;32m---> 36\u001b[1;33m \u001b[0mtrain\u001b[0m\u001b[1;33m(\u001b[0m\u001b[0mnum_epochs\u001b[0m\u001b[1;33m,\u001b[0m \u001b[0mcnn\u001b[0m\u001b[1;33m,\u001b[0m \u001b[0mloaders\u001b[0m\u001b[1;33m)\u001b[0m\u001b[1;33m\u001b[0m\u001b[1;33m\u001b[0m\u001b[0m\n\u001b[0m",
      "\u001b[1;32m<ipython-input-31-e027e8c6f3a6>\u001b[0m in \u001b[0;36mtrain\u001b[1;34m(num_epochs, cnn, loaders)\u001b[0m\n\u001b[0;32m     17\u001b[0m             \u001b[0mb_y\u001b[0m \u001b[1;33m=\u001b[0m \u001b[0mVariable\u001b[0m\u001b[1;33m(\u001b[0m\u001b[0mlabels\u001b[0m\u001b[1;33m)\u001b[0m   \u001b[1;31m# batch y\u001b[0m\u001b[1;33m\u001b[0m\u001b[1;33m\u001b[0m\u001b[0m\n\u001b[0;32m     18\u001b[0m \u001b[1;33m\u001b[0m\u001b[0m\n\u001b[1;32m---> 19\u001b[1;33m             \u001b[0moutput\u001b[0m \u001b[1;33m=\u001b[0m \u001b[0mcnn\u001b[0m\u001b[1;33m(\u001b[0m\u001b[0mb_x\u001b[0m\u001b[1;33m)\u001b[0m\u001b[1;33m[\u001b[0m\u001b[1;36m0\u001b[0m\u001b[1;33m]\u001b[0m\u001b[1;33m\u001b[0m\u001b[1;33m\u001b[0m\u001b[0m\n\u001b[0m\u001b[0;32m     20\u001b[0m             \u001b[0mloss\u001b[0m \u001b[1;33m=\u001b[0m \u001b[0mloss_func\u001b[0m\u001b[1;33m(\u001b[0m\u001b[0moutput\u001b[0m\u001b[1;33m,\u001b[0m \u001b[0mb_y\u001b[0m\u001b[1;33m)\u001b[0m\u001b[1;33m\u001b[0m\u001b[1;33m\u001b[0m\u001b[0m\n\u001b[0;32m     21\u001b[0m \u001b[1;33m\u001b[0m\u001b[0m\n",
      "\u001b[1;32m~\\env\\lib\\site-packages\\torch\\nn\\modules\\module.py\u001b[0m in \u001b[0;36m__call__\u001b[1;34m(self, *input, **kwargs)\u001b[0m\n\u001b[0;32m    487\u001b[0m             \u001b[0mresult\u001b[0m \u001b[1;33m=\u001b[0m \u001b[0mself\u001b[0m\u001b[1;33m.\u001b[0m\u001b[0m_slow_forward\u001b[0m\u001b[1;33m(\u001b[0m\u001b[1;33m*\u001b[0m\u001b[0minput\u001b[0m\u001b[1;33m,\u001b[0m \u001b[1;33m**\u001b[0m\u001b[0mkwargs\u001b[0m\u001b[1;33m)\u001b[0m\u001b[1;33m\u001b[0m\u001b[1;33m\u001b[0m\u001b[0m\n\u001b[0;32m    488\u001b[0m         \u001b[1;32melse\u001b[0m\u001b[1;33m:\u001b[0m\u001b[1;33m\u001b[0m\u001b[1;33m\u001b[0m\u001b[0m\n\u001b[1;32m--> 489\u001b[1;33m             \u001b[0mresult\u001b[0m \u001b[1;33m=\u001b[0m \u001b[0mself\u001b[0m\u001b[1;33m.\u001b[0m\u001b[0mforward\u001b[0m\u001b[1;33m(\u001b[0m\u001b[1;33m*\u001b[0m\u001b[0minput\u001b[0m\u001b[1;33m,\u001b[0m \u001b[1;33m**\u001b[0m\u001b[0mkwargs\u001b[0m\u001b[1;33m)\u001b[0m\u001b[1;33m\u001b[0m\u001b[1;33m\u001b[0m\u001b[0m\n\u001b[0m\u001b[0;32m    490\u001b[0m         \u001b[1;32mfor\u001b[0m \u001b[0mhook\u001b[0m \u001b[1;32min\u001b[0m \u001b[0mself\u001b[0m\u001b[1;33m.\u001b[0m\u001b[0m_forward_hooks\u001b[0m\u001b[1;33m.\u001b[0m\u001b[0mvalues\u001b[0m\u001b[1;33m(\u001b[0m\u001b[1;33m)\u001b[0m\u001b[1;33m:\u001b[0m\u001b[1;33m\u001b[0m\u001b[1;33m\u001b[0m\u001b[0m\n\u001b[0;32m    491\u001b[0m             \u001b[0mhook_result\u001b[0m \u001b[1;33m=\u001b[0m \u001b[0mhook\u001b[0m\u001b[1;33m(\u001b[0m\u001b[0mself\u001b[0m\u001b[1;33m,\u001b[0m \u001b[0minput\u001b[0m\u001b[1;33m,\u001b[0m \u001b[0mresult\u001b[0m\u001b[1;33m)\u001b[0m\u001b[1;33m\u001b[0m\u001b[1;33m\u001b[0m\u001b[0m\n",
      "\u001b[1;32m<ipython-input-24-437a6f0e2c74>\u001b[0m in \u001b[0;36mforward\u001b[1;34m(self, x)\u001b[0m\n\u001b[0;32m     23\u001b[0m \u001b[1;33m\u001b[0m\u001b[0m\n\u001b[0;32m     24\u001b[0m     \u001b[1;32mdef\u001b[0m \u001b[0mforward\u001b[0m\u001b[1;33m(\u001b[0m\u001b[0mself\u001b[0m\u001b[1;33m,\u001b[0m \u001b[0mx\u001b[0m\u001b[1;33m)\u001b[0m\u001b[1;33m:\u001b[0m\u001b[1;33m\u001b[0m\u001b[1;33m\u001b[0m\u001b[0m\n\u001b[1;32m---> 25\u001b[1;33m         \u001b[0mx\u001b[0m \u001b[1;33m=\u001b[0m \u001b[0mself\u001b[0m\u001b[1;33m.\u001b[0m\u001b[0mconv1\u001b[0m\u001b[1;33m(\u001b[0m\u001b[0mx\u001b[0m\u001b[1;33m)\u001b[0m\u001b[1;33m\u001b[0m\u001b[1;33m\u001b[0m\u001b[0m\n\u001b[0m\u001b[0;32m     26\u001b[0m         \u001b[0mx\u001b[0m \u001b[1;33m=\u001b[0m \u001b[0mself\u001b[0m\u001b[1;33m.\u001b[0m\u001b[0mconv2\u001b[0m\u001b[1;33m(\u001b[0m\u001b[0mx\u001b[0m\u001b[1;33m)\u001b[0m        \u001b[1;31m# flatten the output of conv2 to (batch_size, 32 * 7 * 7)\u001b[0m\u001b[1;33m\u001b[0m\u001b[1;33m\u001b[0m\u001b[0m\n\u001b[0;32m     27\u001b[0m         \u001b[0mx\u001b[0m \u001b[1;33m=\u001b[0m \u001b[0mx\u001b[0m\u001b[1;33m.\u001b[0m\u001b[0mview\u001b[0m\u001b[1;33m(\u001b[0m\u001b[0mx\u001b[0m\u001b[1;33m.\u001b[0m\u001b[0msize\u001b[0m\u001b[1;33m(\u001b[0m\u001b[1;36m0\u001b[0m\u001b[1;33m)\u001b[0m\u001b[1;33m,\u001b[0m \u001b[1;33m-\u001b[0m\u001b[1;36m1\u001b[0m\u001b[1;33m)\u001b[0m\u001b[1;33m\u001b[0m\u001b[1;33m\u001b[0m\u001b[0m\n",
      "\u001b[1;32m~\\env\\lib\\site-packages\\torch\\nn\\modules\\module.py\u001b[0m in \u001b[0;36m__call__\u001b[1;34m(self, *input, **kwargs)\u001b[0m\n\u001b[0;32m    487\u001b[0m             \u001b[0mresult\u001b[0m \u001b[1;33m=\u001b[0m \u001b[0mself\u001b[0m\u001b[1;33m.\u001b[0m\u001b[0m_slow_forward\u001b[0m\u001b[1;33m(\u001b[0m\u001b[1;33m*\u001b[0m\u001b[0minput\u001b[0m\u001b[1;33m,\u001b[0m \u001b[1;33m**\u001b[0m\u001b[0mkwargs\u001b[0m\u001b[1;33m)\u001b[0m\u001b[1;33m\u001b[0m\u001b[1;33m\u001b[0m\u001b[0m\n\u001b[0;32m    488\u001b[0m         \u001b[1;32melse\u001b[0m\u001b[1;33m:\u001b[0m\u001b[1;33m\u001b[0m\u001b[1;33m\u001b[0m\u001b[0m\n\u001b[1;32m--> 489\u001b[1;33m             \u001b[0mresult\u001b[0m \u001b[1;33m=\u001b[0m \u001b[0mself\u001b[0m\u001b[1;33m.\u001b[0m\u001b[0mforward\u001b[0m\u001b[1;33m(\u001b[0m\u001b[1;33m*\u001b[0m\u001b[0minput\u001b[0m\u001b[1;33m,\u001b[0m \u001b[1;33m**\u001b[0m\u001b[0mkwargs\u001b[0m\u001b[1;33m)\u001b[0m\u001b[1;33m\u001b[0m\u001b[1;33m\u001b[0m\u001b[0m\n\u001b[0m\u001b[0;32m    490\u001b[0m         \u001b[1;32mfor\u001b[0m \u001b[0mhook\u001b[0m \u001b[1;32min\u001b[0m \u001b[0mself\u001b[0m\u001b[1;33m.\u001b[0m\u001b[0m_forward_hooks\u001b[0m\u001b[1;33m.\u001b[0m\u001b[0mvalues\u001b[0m\u001b[1;33m(\u001b[0m\u001b[1;33m)\u001b[0m\u001b[1;33m:\u001b[0m\u001b[1;33m\u001b[0m\u001b[1;33m\u001b[0m\u001b[0m\n\u001b[0;32m    491\u001b[0m             \u001b[0mhook_result\u001b[0m \u001b[1;33m=\u001b[0m \u001b[0mhook\u001b[0m\u001b[1;33m(\u001b[0m\u001b[0mself\u001b[0m\u001b[1;33m,\u001b[0m \u001b[0minput\u001b[0m\u001b[1;33m,\u001b[0m \u001b[0mresult\u001b[0m\u001b[1;33m)\u001b[0m\u001b[1;33m\u001b[0m\u001b[1;33m\u001b[0m\u001b[0m\n",
      "\u001b[1;32m~\\env\\lib\\site-packages\\torch\\nn\\modules\\container.py\u001b[0m in \u001b[0;36mforward\u001b[1;34m(self, input)\u001b[0m\n\u001b[0;32m     90\u001b[0m     \u001b[1;32mdef\u001b[0m \u001b[0mforward\u001b[0m\u001b[1;33m(\u001b[0m\u001b[0mself\u001b[0m\u001b[1;33m,\u001b[0m \u001b[0minput\u001b[0m\u001b[1;33m)\u001b[0m\u001b[1;33m:\u001b[0m\u001b[1;33m\u001b[0m\u001b[1;33m\u001b[0m\u001b[0m\n\u001b[0;32m     91\u001b[0m         \u001b[1;32mfor\u001b[0m \u001b[0mmodule\u001b[0m \u001b[1;32min\u001b[0m \u001b[0mself\u001b[0m\u001b[1;33m.\u001b[0m\u001b[0m_modules\u001b[0m\u001b[1;33m.\u001b[0m\u001b[0mvalues\u001b[0m\u001b[1;33m(\u001b[0m\u001b[1;33m)\u001b[0m\u001b[1;33m:\u001b[0m\u001b[1;33m\u001b[0m\u001b[1;33m\u001b[0m\u001b[0m\n\u001b[1;32m---> 92\u001b[1;33m             \u001b[0minput\u001b[0m \u001b[1;33m=\u001b[0m \u001b[0mmodule\u001b[0m\u001b[1;33m(\u001b[0m\u001b[0minput\u001b[0m\u001b[1;33m)\u001b[0m\u001b[1;33m\u001b[0m\u001b[1;33m\u001b[0m\u001b[0m\n\u001b[0m\u001b[0;32m     93\u001b[0m         \u001b[1;32mreturn\u001b[0m \u001b[0minput\u001b[0m\u001b[1;33m\u001b[0m\u001b[1;33m\u001b[0m\u001b[0m\n\u001b[0;32m     94\u001b[0m \u001b[1;33m\u001b[0m\u001b[0m\n",
      "\u001b[1;32m~\\env\\lib\\site-packages\\torch\\nn\\modules\\module.py\u001b[0m in \u001b[0;36m__call__\u001b[1;34m(self, *input, **kwargs)\u001b[0m\n\u001b[0;32m    487\u001b[0m             \u001b[0mresult\u001b[0m \u001b[1;33m=\u001b[0m \u001b[0mself\u001b[0m\u001b[1;33m.\u001b[0m\u001b[0m_slow_forward\u001b[0m\u001b[1;33m(\u001b[0m\u001b[1;33m*\u001b[0m\u001b[0minput\u001b[0m\u001b[1;33m,\u001b[0m \u001b[1;33m**\u001b[0m\u001b[0mkwargs\u001b[0m\u001b[1;33m)\u001b[0m\u001b[1;33m\u001b[0m\u001b[1;33m\u001b[0m\u001b[0m\n\u001b[0;32m    488\u001b[0m         \u001b[1;32melse\u001b[0m\u001b[1;33m:\u001b[0m\u001b[1;33m\u001b[0m\u001b[1;33m\u001b[0m\u001b[0m\n\u001b[1;32m--> 489\u001b[1;33m             \u001b[0mresult\u001b[0m \u001b[1;33m=\u001b[0m \u001b[0mself\u001b[0m\u001b[1;33m.\u001b[0m\u001b[0mforward\u001b[0m\u001b[1;33m(\u001b[0m\u001b[1;33m*\u001b[0m\u001b[0minput\u001b[0m\u001b[1;33m,\u001b[0m \u001b[1;33m**\u001b[0m\u001b[0mkwargs\u001b[0m\u001b[1;33m)\u001b[0m\u001b[1;33m\u001b[0m\u001b[1;33m\u001b[0m\u001b[0m\n\u001b[0m\u001b[0;32m    490\u001b[0m         \u001b[1;32mfor\u001b[0m \u001b[0mhook\u001b[0m \u001b[1;32min\u001b[0m \u001b[0mself\u001b[0m\u001b[1;33m.\u001b[0m\u001b[0m_forward_hooks\u001b[0m\u001b[1;33m.\u001b[0m\u001b[0mvalues\u001b[0m\u001b[1;33m(\u001b[0m\u001b[1;33m)\u001b[0m\u001b[1;33m:\u001b[0m\u001b[1;33m\u001b[0m\u001b[1;33m\u001b[0m\u001b[0m\n\u001b[0;32m    491\u001b[0m             \u001b[0mhook_result\u001b[0m \u001b[1;33m=\u001b[0m \u001b[0mhook\u001b[0m\u001b[1;33m(\u001b[0m\u001b[0mself\u001b[0m\u001b[1;33m,\u001b[0m \u001b[0minput\u001b[0m\u001b[1;33m,\u001b[0m \u001b[0mresult\u001b[0m\u001b[1;33m)\u001b[0m\u001b[1;33m\u001b[0m\u001b[1;33m\u001b[0m\u001b[0m\n",
      "\u001b[1;32m~\\env\\lib\\site-packages\\torch\\nn\\modules\\conv.py\u001b[0m in \u001b[0;36mforward\u001b[1;34m(self, input)\u001b[0m\n\u001b[0;32m    318\u001b[0m     \u001b[1;32mdef\u001b[0m \u001b[0mforward\u001b[0m\u001b[1;33m(\u001b[0m\u001b[0mself\u001b[0m\u001b[1;33m,\u001b[0m \u001b[0minput\u001b[0m\u001b[1;33m)\u001b[0m\u001b[1;33m:\u001b[0m\u001b[1;33m\u001b[0m\u001b[1;33m\u001b[0m\u001b[0m\n\u001b[0;32m    319\u001b[0m         return F.conv2d(input, self.weight, self.bias, self.stride,\n\u001b[1;32m--> 320\u001b[1;33m                         self.padding, self.dilation, self.groups)\n\u001b[0m\u001b[0;32m    321\u001b[0m \u001b[1;33m\u001b[0m\u001b[0m\n\u001b[0;32m    322\u001b[0m \u001b[1;33m\u001b[0m\u001b[0m\n",
      "\u001b[1;31mKeyboardInterrupt\u001b[0m: "
     ]
    }
   ],
   "source": [
    "from torch.autograd import Variable\n",
    "\n",
    "num_epochs = 10\n",
    "\n",
    "def train(num_epochs, cnn, loaders):\n",
    "    \n",
    "    cnn.train()\n",
    "        \n",
    "    # Train the model\n",
    "    total_step = len(loaders['train'])\n",
    "        \n",
    "    for epoch in range(num_epochs):\n",
    "        for i, (images, labels) in enumerate(loaders['train']):\n",
    "            \n",
    "            # gives batch data, normalize x when iterate train_loader\n",
    "            b_x = Variable(images)   # batch x\n",
    "            b_y = Variable(labels)   # batch y\n",
    "            \n",
    "            output = cnn(b_x)[0]               \n",
    "            loss = loss_func(output, b_y)\n",
    "            \n",
    "            # clear gradients for this training step   \n",
    "            optimizer.zero_grad()           \n",
    "            \n",
    "            # backpropagation, compute gradients \n",
    "            loss.backward()                # apply gradients             \n",
    "            optimizer.step()                \n",
    "            \n",
    "            if (i+1) % 100 == 0:\n",
    "                print ('Epoch [{}/{}], Step [{}/{}], Loss: {:.4f}' \n",
    "                       .format(epoch + 1, num_epochs, i + 1, total_step, loss.item()))               \n",
    "                pass\n",
    "        pass\n",
    "    pass\n",
    "\n",
    "train(num_epochs, cnn, loaders)"
   ]
  },
  {
   "cell_type": "code",
   "execution_count": null,
   "metadata": {},
   "outputs": [],
   "source": []
  }
 ],
 "metadata": {
  "kernelspec": {
   "display_name": "Python 3",
   "language": "python",
   "name": "python3"
  },
  "language_info": {
   "codemirror_mode": {
    "name": "ipython",
    "version": 3
   },
   "file_extension": ".py",
   "mimetype": "text/x-python",
   "name": "python",
   "nbconvert_exporter": "python",
   "pygments_lexer": "ipython3",
   "version": "3.7.3"
  }
 },
 "nbformat": 4,
 "nbformat_minor": 2
}
