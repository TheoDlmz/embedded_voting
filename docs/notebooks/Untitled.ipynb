{
 "cells": [
  {
   "cell_type": "code",
   "execution_count": 1,
   "metadata": {
    "ExecuteTime": {
     "end_time": "2022-02-28T11:05:18.069112Z",
     "start_time": "2022-02-28T11:05:16.588163Z"
    }
   },
   "outputs": [],
   "source": [
    "import torch\n",
    "from tqdm import tqdm\n",
    "import numpy as np\n",
    "from torchvision import datasets\n",
    "import torchvision.transforms as transforms\n",
    "from torch.utils.data.sampler import SubsetRandomSampler"
   ]
  },
  {
   "cell_type": "code",
   "execution_count": 2,
   "metadata": {
    "ExecuteTime": {
     "end_time": "2022-02-28T11:05:18.081557Z",
     "start_time": "2022-02-28T11:05:18.071119Z"
    }
   },
   "outputs": [
    {
     "data": {
      "text/plain": [
       "False"
      ]
     },
     "execution_count": 2,
     "metadata": {},
     "output_type": "execute_result"
    }
   ],
   "source": [
    "torch.cuda.is_available()"
   ]
  },
  {
   "cell_type": "code",
   "execution_count": 3,
   "metadata": {
    "ExecuteTime": {
     "end_time": "2022-02-28T11:05:18.141748Z",
     "start_time": "2022-02-28T11:05:18.130791Z"
    }
   },
   "outputs": [],
   "source": [
    "# number of subprocesses to use for data loading\n",
    "\n",
    "def get_loaders_2(batch_size=128, valid_size=0.3, num_workers=0):\n",
    "    transform = transforms.ToTensor()# choose the training and testing datasets\n",
    "    train_data = datasets.FashionMNIST(root = 'data', train = True, download = True, transform = transform)\n",
    "    test_data = datasets.FashionMNIST(root = 'data', train = False, download = True, transform = transform)# obtain training indices that will be used for validation\n",
    "    num_train = len(train_data)\n",
    "    indices = list(range(num_train))\n",
    "    np.random.shuffle(indices)\n",
    "    split = int(np.floor(valid_size * num_train)/2)\n",
    "    train_index_1, train_index_2, valid_index = indices[:split], indices[split:split*2],indices[split*2:]# define samplers for obtaining training and validation batches\n",
    "    train_sampler_1 = SubsetRandomSampler(train_index_1)\n",
    "    train_sampler_2 = SubsetRandomSampler(train_index_2)\n",
    "    valid_sampler = SubsetRandomSampler(valid_index)# prepare data loaders\n",
    "    train_loader_1 = torch.utils.data.DataLoader(train_data, batch_size = batch_size, \n",
    "                                               sampler = train_sampler_1, num_workers = num_workers)\n",
    "    train_loader_2 = torch.utils.data.DataLoader(train_data, batch_size = batch_size, \n",
    "                                               sampler = train_sampler_2, num_workers = num_workers)\n",
    "    valid_loader = torch.utils.data.DataLoader(train_data, batch_size = batch_size,\n",
    "                                              sampler = valid_sampler, num_workers = num_workers)\n",
    "    test_loader = torch.utils.data.DataLoader(test_data, batch_size = batch_size,\n",
    "                                         num_workers = num_workers)\n",
    "    return {\"train\":[train_loader_1, train_loader_2], \"valid\":valid_loader, \"test\":test_loader}\n",
    "\n"
   ]
  },
  {
   "cell_type": "code",
   "execution_count": 4,
   "metadata": {
    "ExecuteTime": {
     "end_time": "2022-02-28T11:05:18.564255Z",
     "start_time": "2022-02-28T11:05:18.554590Z"
    }
   },
   "outputs": [],
   "source": [
    "import torch.nn as nn\n",
    "import torch.nn.functional as F# define NN architecture\n",
    "\n",
    "class Net(nn.Module):\n",
    "    def __init__(self, hidden_1=32):\n",
    "        super(Net,self).__init__()\n",
    "        # number of hidden nodes in each layer (512)\n",
    "        # linear layer (784 -> hidden_1)\n",
    "        self.fc1 = nn.Linear(28*28, hidden_1)\n",
    "        # linear layer (n_hidden -> hidden_2)\n",
    "        self.fc3 = nn.Linear(hidden_1,10)\n",
    "        # dropout layer (p=0.2)\n",
    "        # dropout prevents overfitting of data\n",
    "        self.droput = nn.Dropout(0.2)\n",
    "        \n",
    "    def forward(self,x):\n",
    "        # flatten image input\n",
    "        x = x.view(-1,28*28)\n",
    "        # add hidden layer, with relu activation function\n",
    "        x = F.relu(self.fc1(x))\n",
    "        # add dropout layer\n",
    "        x = self.droput(x)\n",
    "        # add output layer\n",
    "        x = self.fc3(x)\n",
    "        return x# initialize the NN"
   ]
  },
  {
   "cell_type": "code",
   "execution_count": 5,
   "metadata": {
    "ExecuteTime": {
     "end_time": "2022-02-28T11:05:19.960021Z",
     "start_time": "2022-02-28T11:05:19.950387Z"
    }
   },
   "outputs": [],
   "source": [
    "\n",
    "def train_model(model, train_loader, valid_loader, name=\"model\"):\n",
    "    #specify loss function (categorical cross-entropy)\n",
    "    criterion = nn.CrossEntropyLoss()# specify optimizer (stochastic gradient descent) and learning rate = 0.01\n",
    "    optimizer = torch.optim.SGD(model.parameters(),lr = 0.01)\n",
    "    # number of epochs to train the model\n",
    "    n_epochs = 10# initialize tracker for minimum validation loss\n",
    "    valid_loss_min = np.Inf  # set initial \"min\" to infinity\n",
    "\n",
    "    for epoch in range(n_epochs):\n",
    "        # monitor losses\n",
    "        train_loss = 0\n",
    "        valid_loss = 0\n",
    "\n",
    "\n",
    "        ###################\n",
    "        # train the model #\n",
    "        ###################\n",
    "        model.train() # prep model for training\n",
    "        for data,label in train_loader:\n",
    "            # clear the gradients of all optimized variables\n",
    "            optimizer.zero_grad()\n",
    "            # forward pass: compute predicted outputs by passing inputs to the model\n",
    "            output = model(data)\n",
    "            # calculate the loss\n",
    "            loss = criterion(output,label)\n",
    "            # backward pass: compute gradient of the loss with respect to model parameters\n",
    "            loss.backward()\n",
    "            # perform a single optimization step (parameter update)\n",
    "            optimizer.step()\n",
    "            # update running training loss\n",
    "            train_loss += loss.item() * data.size(0)\n",
    "\n",
    "\n",
    "         ######################    \n",
    "        # validate the model #\n",
    "        ######################\n",
    "        model.eval()  # prep model for evaluation\n",
    "        for data,label in valid_loader:\n",
    "            # forward pass: compute predicted outputs by passing inputs to the model\n",
    "            output = model(data)\n",
    "            # calculate the loss\n",
    "            loss = criterion(output,label)\n",
    "            # update running validation loss \n",
    "            valid_loss = loss.item() * data.size(0)\n",
    "\n",
    "        # print training/validation statistics \n",
    "        # calculate average loss over an epoch\n",
    "        train_loss = train_loss / len(train_loader.sampler)\n",
    "        valid_loss = valid_loss / len(valid_loader.sampler)\n",
    "\n",
    "        \"\"\"\n",
    "        print('Epoch: {} \\tTraining Loss: {:.6f} \\tValidation Loss: {:.6f}'.format(\n",
    "            epoch+1, \n",
    "            train_loss,\n",
    "            valid_loss\n",
    "            ))\n",
    "        \"\"\"\n",
    "\n",
    "        # save model if validation loss has decreased\n",
    "        if valid_loss <= valid_loss_min:\n",
    "            #print('Validation loss decreased ({:.6f} --> {:.6f}).  Saving model ...'.format(\n",
    "            #valid_loss_min,\n",
    "            #valid_loss))\n",
    "            torch.save(model.state_dict(), '%s.pt'%name)\n",
    "            valid_loss_min = valid_loss"
   ]
  },
  {
   "cell_type": "code",
   "execution_count": 6,
   "metadata": {
    "ExecuteTime": {
     "end_time": "2022-02-28T11:05:21.669354Z",
     "start_time": "2022-02-28T11:05:21.495132Z"
    }
   },
   "outputs": [],
   "source": [
    "loaders = get_loaders_2()"
   ]
  },
  {
   "cell_type": "code",
   "execution_count": 11,
   "metadata": {
    "ExecuteTime": {
     "end_time": "2021-12-29T11:39:29.654447Z",
     "start_time": "2021-12-29T11:08:47.450942Z"
    }
   },
   "outputs": [
    {
     "name": "stderr",
     "output_type": "stream",
     "text": [
      "100%|██████████| 15/15 [23:16<00:00, 93.11s/it]\n",
      "100%|██████████| 5/5 [07:25<00:00, 89.07s/it]\n"
     ]
    }
   ],
   "source": [
    "\n",
    "for i in tqdm(range(15)):\n",
    "    model = Net(32)\n",
    "    train_model(model, loaders['train'][0], loaders['valid'], \"models_a_%i\"%(i+1))\n",
    "\n",
    "\n",
    "for i in tqdm(range(5)):\n",
    "    model = Net(32)\n",
    "    train_model(model, loaders['train'][1], loaders['valid'], \"models_b_%i\"%(i+1))"
   ]
  },
  {
   "cell_type": "code",
   "execution_count": 7,
   "metadata": {
    "ExecuteTime": {
     "end_time": "2022-02-28T11:05:23.123629Z",
     "start_time": "2022-02-28T11:05:23.047204Z"
    }
   },
   "outputs": [],
   "source": [
    "test_loaders = loaders[\"test\"]\n",
    "list_models = []\n",
    "for i in range(15):\n",
    "    model_i = Net(32)\n",
    "    model_i.load_state_dict(torch.load('models_a_%i.pt'%(i+1)))\n",
    "    model_i.eval()\n",
    "    list_models.append(model_i)\n",
    "\n",
    "for i in range(5):\n",
    "    model_i = Net(32)\n",
    "    model_i.load_state_dict(torch.load('models_b_%i.pt'%(i+1)))\n",
    "    model_i.eval()\n",
    "    list_models.append(model_i)\n",
    "    "
   ]
  },
  {
   "cell_type": "code",
   "execution_count": 8,
   "metadata": {
    "ExecuteTime": {
     "end_time": "2022-02-28T11:05:27.444036Z",
     "start_time": "2022-02-28T11:05:27.436601Z"
    }
   },
   "outputs": [],
   "source": [
    "# initialize lists to monitor test loss and accuracy\n",
    "def eval_model(model, test_loader):\n",
    "    class_correct = list(0. for i in range(10))\n",
    "    class_total = list(0. for i in range(10))\n",
    "\n",
    "    for data, target in test_loader:\n",
    "        # forward pass: compute predicted outputs by passing inputs to the model\n",
    "        output = model(data)\n",
    "        # convert output probabilities to predicted class\n",
    "        _, pred = torch.max(output, 1)\n",
    "        # compare predictions to true label\n",
    "        correct = np.squeeze(pred.eq(target.data.view_as(pred)))\n",
    "        # calculate test accuracy for each object class\n",
    "        for i in range(len(target)):\n",
    "            label = target.data[i].item()\n",
    "            class_correct[label] += correct[i].item()\n",
    "            class_total[label] += 1# calculate and print avg test loss\n",
    "\n",
    "    print('\\nTest Accuracy: %2d%% (%2d/%2d)' % (100. * np.sum(class_correct) / np.sum(class_total),\n",
    "        np.sum(class_correct), np.sum(class_total)))"
   ]
  },
  {
   "cell_type": "code",
   "execution_count": 9,
   "metadata": {
    "ExecuteTime": {
     "end_time": "2022-02-28T11:05:27.661412Z",
     "start_time": "2022-02-28T11:05:27.657455Z"
    }
   },
   "outputs": [],
   "source": [
    "test_loader = loaders[\"test\"]"
   ]
  },
  {
   "cell_type": "code",
   "execution_count": 10,
   "metadata": {
    "ExecuteTime": {
     "end_time": "2022-02-28T11:06:03.187005Z",
     "start_time": "2022-02-28T11:05:28.308853Z"
    }
   },
   "outputs": [
    {
     "name": "stdout",
     "output_type": "stream",
     "text": [
      "\n",
      "Test Accuracy: 65% (6591/10000)\n",
      "\n",
      "Test Accuracy: 68% (6860/10000)\n",
      "\n",
      "Test Accuracy: 67% (6778/10000)\n",
      "\n",
      "Test Accuracy: 67% (6725/10000)\n",
      "\n",
      "Test Accuracy: 68% (6881/10000)\n",
      "\n",
      "Test Accuracy: 66% (6660/10000)\n",
      "\n",
      "Test Accuracy: 68% (6805/10000)\n",
      "\n",
      "Test Accuracy: 68% (6870/10000)\n",
      "\n",
      "Test Accuracy: 66% (6602/10000)\n",
      "\n",
      "Test Accuracy: 68% (6807/10000)\n",
      "\n",
      "Test Accuracy: 69% (6982/10000)\n",
      "\n",
      "Test Accuracy: 67% (6702/10000)\n",
      "\n",
      "Test Accuracy: 68% (6825/10000)\n",
      "\n",
      "Test Accuracy: 69% (6922/10000)\n",
      "\n",
      "Test Accuracy: 66% (6694/10000)\n",
      "\n",
      "Test Accuracy: 67% (6748/10000)\n",
      "\n",
      "Test Accuracy: 67% (6776/10000)\n",
      "\n",
      "Test Accuracy: 67% (6794/10000)\n",
      "\n",
      "Test Accuracy: 66% (6684/10000)\n",
      "\n",
      "Test Accuracy: 65% (6580/10000)\n"
     ]
    }
   ],
   "source": [
    "\n",
    "for model in list_models:\n",
    "    eval_model(model, test_loader)"
   ]
  },
  {
   "cell_type": "code",
   "execution_count": 17,
   "metadata": {
    "ExecuteTime": {
     "end_time": "2021-12-29T12:09:43.895310Z",
     "start_time": "2021-12-29T12:09:31.098710Z"
    }
   },
   "outputs": [
    {
     "name": "stdout",
     "output_type": "stream",
     "text": [
      "0.6784\n",
      "0.6778\n"
     ]
    }
   ],
   "source": [
    "def eval_rule(list_models, rule=np.sum):\n",
    "\n",
    "    accuracy = 0\n",
    "    total = 0\n",
    "    \n",
    "    for data, target in test_loader:\n",
    "        # forward pass: compute predicted outputs by passing inputs to the model\n",
    "        outputs = []\n",
    "        for i, model in enumerate(list_models):\n",
    "            output = model(data)\n",
    "            outputs.append(output)\n",
    "        for i in range(outputs[0].shape[0]):\n",
    "            ratings = np.zeros((len(list_models), 10))\n",
    "            for j in range(len(list_models)):\n",
    "                proba = np.exp(outputs[j][i].detach().numpy())\n",
    "                proba /= proba.sum()\n",
    "                ratings[j] = proba\n",
    "            total += 1\n",
    "            if (rule(ratings,axis=0).argmax() == target.data[i].item()):\n",
    "                accuracy += 1\n",
    "                \n",
    "    print(accuracy/total)\n",
    "        \n",
    "eval_rule(list_models, np.sum)\n",
    "eval_rule(list_models, np.prod)"
   ]
  },
  {
   "cell_type": "code",
   "execution_count": 18,
   "metadata": {
    "ExecuteTime": {
     "end_time": "2021-12-29T12:11:23.957278Z",
     "start_time": "2021-12-29T12:09:43.898304Z"
    }
   },
   "outputs": [
    {
     "name": "stdout",
     "output_type": "stream",
     "text": [
      "0.6766\n"
     ]
    }
   ],
   "source": [
    "import embedded_voting as ev\n",
    "\n",
    "def eval_rule_ev(list_models, rule=ev.FastNash()):\n",
    "    aggregator = ev.Aggregator()\n",
    "    accuracy = 0\n",
    "    total = 0\n",
    "    \n",
    "    for data, target in test_loader:\n",
    "        # forward pass: compute predicted outputs by passing inputs to the model\n",
    "        outputs = []\n",
    "        for i, model in enumerate(list_models):\n",
    "            output = model(data)\n",
    "            outputs.append(output)\n",
    "        for i in range(outputs[0].shape[0]):\n",
    "            ratings = np.zeros((len(list_models), 10))\n",
    "            for j in range(len(list_models)):\n",
    "                proba = np.exp(outputs[j][i].detach().numpy())\n",
    "                proba /= proba.sum()\n",
    "                ratings[j] = proba\n",
    "            total += 1\n",
    "            train = True\n",
    "            if total > 100:\n",
    "                train = False\n",
    "            results = aggregator(ratings, train=train)\n",
    "            if (results.winner_ == target.data[i].item()):\n",
    "                accuracy += 1\n",
    "                \n",
    "    print(accuracy/total)\n",
    "        \n",
    "eval_rule_ev(list_models, ev.FastNash())"
   ]
  },
  {
   "cell_type": "code",
   "execution_count": 11,
   "metadata": {
    "ExecuteTime": {
     "end_time": "2022-02-28T11:06:23.636401Z",
     "start_time": "2022-02-28T11:06:23.626389Z"
    }
   },
   "outputs": [],
   "source": [
    "def correlation(a,b,c,d):\n",
    "    return (a*d-c*b)/np.sqrt((a+b)*(c+d)*(a+c)*(b+d))\n",
    "\n",
    "def qStatistic(a,b,c,d):\n",
    "    return (a*d-c*b)/(a*d+b*c)\n",
    "    \n",
    "def disagreement(a,b,c,d):\n",
    "    return b+c\n",
    "\n",
    "def doubleFault(a,b,c,d):\n",
    "    return d\n",
    "\n",
    "def computeMat(A,B,C, f):\n",
    "    n = len(A)\n",
    "    M = np.zeros((n,n))\n",
    "    for i in range(n):\n",
    "        for j in range(i+1,n):\n",
    "            M[i,j] = f(A[i,j],B[i,j],B[j,i],C[i,j])\n",
    "    return M"
   ]
  },
  {
   "cell_type": "code",
   "execution_count": 12,
   "metadata": {
    "ExecuteTime": {
     "end_time": "2022-02-28T11:07:08.883844Z",
     "start_time": "2022-02-28T11:06:34.002206Z"
    }
   },
   "outputs": [
    {
     "name": "stderr",
     "output_type": "stream",
     "text": [
      "100%|██████████| 79/79 [00:34<00:00,  2.30it/s]\n"
     ]
    }
   ],
   "source": [
    "import embedded_voting as ev\n",
    "import matplotlib.pyplot as plt\n",
    "\n",
    "\n",
    "def matrix_dep(list_models):\n",
    "\n",
    "    accuracy = 0\n",
    "    total = 0\n",
    "    n = len(list_models)\n",
    "    matA = np.zeros((n,n))\n",
    "    matB = np.zeros((n,n))\n",
    "    matC = np.zeros((n,n))\n",
    "    for data, target in tqdm(test_loader):\n",
    "        # forward pass: compute predicted outputs by passing inputs to the model\n",
    "        preds = []\n",
    "        for i, model in enumerate(list_models):\n",
    "            output = model(data)\n",
    "            _, pred = torch.max(output, 1)\n",
    "            preds.append(pred)\n",
    "        for i in range(preds[0].shape[0]):\n",
    "            res= target.data[i].item()\n",
    "            ratings = np.zeros((len(list_models), 10))\n",
    "            for j in range(len(list_models)):\n",
    "                for j2 in range(j+1, len(list_models)):\n",
    "                    if (preds[j][i] == res):\n",
    "                        if (preds[j2][i] == res):\n",
    "                            matA[j,j2] += 1\n",
    "                        else:\n",
    "                            matB[j,j2] += 1\n",
    "                    else:\n",
    "                        if (preds[j2][i] == res):\n",
    "                            matB[j2,j] += 1\n",
    "                        else:\n",
    "                            matC[j,j2] += 1\n",
    "            \n",
    "            total += 1\n",
    "            #if (total == 10):\n",
    "                #print(aggregator.embeddings.n_sing_val_)\n",
    "                #print(aggregator.embeddings)\n",
    "                #return\n",
    "                \n",
    "    return matA, matB, matC\n",
    "\n",
    "matA, matB, matC = matrix_dep(list_models)"
   ]
  },
  {
   "cell_type": "code",
   "execution_count": 13,
   "metadata": {
    "ExecuteTime": {
     "end_time": "2022-02-28T11:07:09.094284Z",
     "start_time": "2022-02-28T11:07:08.887835Z"
    }
   },
   "outputs": [
    {
     "data": {
      "image/png": "[encoded data removed]",
      "text/plain": [
       "<Figure size 432x288 with 1 Axes>"
      ]
     },
     "metadata": {
      "needs_background": "light"
     },
     "output_type": "display_data"
    }
   ],
   "source": [
    "m1 = computeMat(matA, matB, matC, correlation)\n",
    "plt.imshow(m1)\n",
    "plt.title(\"Correlation\")\n",
    "plt.show()"
   ]
  },
  {
   "cell_type": "code",
   "execution_count": 14,
   "metadata": {
    "ExecuteTime": {
     "end_time": "2022-02-28T11:07:09.229222Z",
     "start_time": "2022-02-28T11:07:09.096279Z"
    }
   },
   "outputs": [
    {
     "data": {
      "image/png": "[encoded data removed]",
      "text/plain": [
       "<Figure size 432x288 with 1 Axes>"
      ]
     },
     "metadata": {
      "needs_background": "light"
     },
     "output_type": "display_data"
    }
   ],
   "source": [
    "m1 = computeMat(matA, matB, matC, qStatistic)\n",
    "plt.imshow(m1)\n",
    "plt.title(\"qStatistic\")\n",
    "plt.show()"
   ]
  },
  {
   "cell_type": "code",
   "execution_count": 16,
   "metadata": {
    "ExecuteTime": {
     "end_time": "2022-02-28T11:07:12.222282Z",
     "start_time": "2022-02-28T11:07:12.069006Z"
    }
   },
   "outputs": [
    {
     "data": {
      "image/png": "[encoded data removed]",
      "text/plain": [
       "<Figure size 432x288 with 1 Axes>"
      ]
     },
     "metadata": {
      "needs_background": "light"
     },
     "output_type": "display_data"
    }
   ],
   "source": [
    "m1 = computeMat(matA, matB, matC, disagreement)\n",
    "plt.imshow(m1)\n",
    "plt.title(\"Disagreement\")\n",
    "plt.show()"
   ]
  },
  {
   "cell_type": "code",
   "execution_count": 17,
   "metadata": {
    "ExecuteTime": {
     "end_time": "2022-02-28T11:07:16.623102Z",
     "start_time": "2022-02-28T11:07:16.468897Z"
    }
   },
   "outputs": [
    {
     "data": {
      "image/png": "[encoded data removed]",
      "text/plain": [
       "<Figure size 432x288 with 1 Axes>"
      ]
     },
     "metadata": {
      "needs_background": "light"
     },
     "output_type": "display_data"
    }
   ],
   "source": [
    "m1 = computeMat(matA, matB, matC, doubleFault)\n",
    "plt.imshow(m1)\n",
    "plt.title(\"doubleFault\")\n",
    "plt.show()"
   ]
  },
  {
   "cell_type": "code",
   "execution_count": 18,
   "metadata": {
    "ExecuteTime": {
     "end_time": "2022-02-28T11:15:52.962204Z",
     "start_time": "2022-02-28T11:15:52.826890Z"
    }
   },
   "outputs": [
    {
     "data": {
      "image/png": "[encoded data removed]",
      "text/plain": [
       "<Figure size 432x288 with 1 Axes>"
      ]
     },
     "metadata": {
      "needs_background": "light"
     },
     "output_type": "display_data"
    }
   ],
   "source": [
    "n = len(m1)\n",
    "m = np.zeros((n,n))\n",
    "g_size = [15,5]\n",
    "for i in range(n):\n",
    "    for j in range(i+1,n):\n",
    "        m[i,j] = 0.5 + np.random.rand()*0.2\n",
    "    \n",
    "s = 0\n",
    "for g in g_size:\n",
    "    for i in range(s,s+g):\n",
    "        for j in range(i+1,s+g):\n",
    "            m[i,j] = 0.9 + np.random.rand()*0.1\n",
    "    s += g\n",
    "            \n",
    "plt.imshow(m)\n",
    "plt.title(\"Ideal\")\n",
    "plt.show()"
   ]
  },
  {
   "cell_type": "code",
   "execution_count": null,
   "metadata": {},
   "outputs": [],
   "source": []
  }
 ],
 "metadata": {
  "kernelspec": {
   "display_name": "Python 3",
   "language": "python",
   "name": "python3"
  },
  "language_info": {
   "codemirror_mode": {
    "name": "ipython",
    "version": 3
   },
   "file_extension": ".py",
   "mimetype": "text/x-python",
   "name": "python",
   "nbconvert_exporter": "python",
   "pygments_lexer": "ipython3",
   "version": "3.7.3"
  }
 },
 "nbformat": 4,
 "nbformat_minor": 2
}
