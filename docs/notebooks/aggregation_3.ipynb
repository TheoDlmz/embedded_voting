{
 "cells": [
  {
   "cell_type": "markdown",
   "metadata": {},
   "source": [
    "# BONUS. The idea behind SVDLog"
   ]
  },
  {
   "cell_type": "code",
   "execution_count": 1,
   "metadata": {
    "ExecuteTime": {
     "end_time": "2021-06-21T15:56:59.827142Z",
     "start_time": "2021-06-21T15:56:57.814449Z"
    }
   },
   "outputs": [],
   "source": [
    "import embedded_voting as ev\n",
    "import matplotlib.pyplot as plt\n",
    "import pandas as pd\n",
    "import numpy as np\n",
    "from tqdm import tqdm\n",
    "np.random.seed(42)"
   ]
  },
  {
   "cell_type": "markdown",
   "metadata": {},
   "source": [
    "In this notebook we are working again on the problem of algorithms aggregations. This time, we want to see why we can need sometimes the **SVDLog** rule, instead of **SVDNash**. For that, we will compare the different rules based on SVD."
   ]
  },
  {
   "cell_type": "code",
   "execution_count": 2,
   "metadata": {
    "ExecuteTime": {
     "end_time": "2021-06-21T15:56:59.849024Z",
     "start_time": "2021-06-21T15:56:59.840047Z"
    }
   },
   "outputs": [],
   "source": [
    "list_rules = [ev.SVDNash(), ev.SVDSum(), ev.SVDLog(), ev.SumScores()]\n",
    "\n",
    "def prodscal(a,b):\n",
    "    return np.dot(a,b)\n",
    "fake_rules = [ev.FakeSVDRule(aggregation_rule=np.prod, similarity=prodscal),\n",
    "             ev.FakeSVDRule(aggregation_rule=np.sum, similarity=prodscal),\n",
    "             ev.FakeSVDRule(aggregation_rule=lambda x: np.sum(np.log(1+x/1)), similarity=prodscal),\n",
    "             ev.SumScores()]\n",
    "list_names = [\"SVDNash\", \"SVDSum\", \"SVDLog\", \"Sum\"]"
   ]
  },
  {
   "cell_type": "markdown",
   "metadata": {},
   "source": [
    "We create a score generator with $4$ dimensions and $5$ mixed groups"
   ]
  },
  {
   "cell_type": "code",
   "execution_count": 3,
   "metadata": {
    "ExecuteTime": {
     "end_time": "2021-06-21T15:56:59.860990Z",
     "start_time": "2021-06-21T15:56:59.851016Z"
    }
   },
   "outputs": [],
   "source": [
    "groups_sizes = []\n",
    "features = []\n",
    "for k in range(6):\n",
    "    groups_sizes.append(np.random.randint(6)*5+1)\n",
    "    features.append(np.random.randint(2, size=6))"
   ]
  },
  {
   "cell_type": "code",
   "execution_count": 4,
   "metadata": {
    "ExecuteTime": {
     "end_time": "2021-06-21T15:56:59.873956Z",
     "start_time": "2021-06-21T15:56:59.862984Z"
    }
   },
   "outputs": [
    {
     "data": {
      "text/plain": [
       "[16, 6, 16, 16, 1, 1]"
      ]
     },
     "execution_count": 4,
     "metadata": {},
     "output_type": "execute_result"
    }
   ],
   "source": [
    "groups_sizes"
   ]
  },
  {
   "cell_type": "code",
   "execution_count": 5,
   "metadata": {
    "ExecuteTime": {
     "end_time": "2021-06-21T15:57:00.187117Z",
     "start_time": "2021-06-21T15:56:59.875950Z"
    }
   },
   "outputs": [
    {
     "data": {
      "image/png": "[encoded data removed]",
      "text/plain": [
       "<Figure size 432x288 with 1 Axes>"
      ]
     },
     "metadata": {
      "needs_background": "light"
     },
     "output_type": "display_data"
    }
   ],
   "source": [
    "groups_sizes = [27, 7, 3, 1, 1]\n",
    "features = [[1, 0, 0,0], [0, 1, 0,1], [1, 0, 1,0], [0, 1, 1,0], [0, 0, 1,1]]\n",
    "\n",
    "generator = ev.GroupedMixGenerator(groups_sizes, features)\n",
    "generator.set_group_noise(10)\n",
    "generator.set_independent_noise(0.5)\n",
    "generator.plot_scores()"
   ]
  },
  {
   "cell_type": "code",
   "execution_count": 6,
   "metadata": {
    "ExecuteTime": {
     "end_time": "2021-06-21T15:57:00.192104Z",
     "start_time": "2021-06-21T15:57:00.188115Z"
    }
   },
   "outputs": [],
   "source": [
    "n_voters = int(np.sum(groups_sizes))\n",
    "n_candidates = 20"
   ]
  },
  {
   "cell_type": "markdown",
   "metadata": {},
   "source": [
    "## Evolution with the number of dimensions"
   ]
  },
  {
   "cell_type": "markdown",
   "metadata": {},
   "source": [
    "What we are doing here is that we are changing the number of dimensions used in the **AutoProfile**.\n",
    "\n",
    "Indeed, if you use $n_{dim} = 0$, the profile automatically infer the number of dimensions with *scikit-learn*, but you can also specify the number of dimension. If you need to that, you might know that **SVDNash** and other rules do note perform the same depending on the number of dimensions used."
   ]
  },
  {
   "cell_type": "code",
   "execution_count": 11,
   "metadata": {
    "ExecuteTime": {
     "end_time": "2021-05-11T08:18:40.668215Z",
     "start_time": "2021-05-11T08:18:40.656245Z"
    }
   },
   "outputs": [],
   "source": [
    "def dim_evolution(training_size=100):\n",
    "    results = []\n",
    "    \n",
    "    dims = np.arange(1,21)\n",
    "    for dim in dims:\n",
    "            \n",
    "        truth, scores = generator.sample_scores(20)\n",
    "        _, training = generator.sample_scores(training_size)\n",
    "\n",
    "        # We get the real welfare of each candidate using a SumScoresProfile \n",
    "        true_profile = ev.Profile(n_candidates, 0)\n",
    "        true_profile.add_voter([], truth)\n",
    "        target = ev.SumScores(true_profile)\n",
    "        welfare = target.welfare_\n",
    "\n",
    "        # We create the profile of voters-algorithms\n",
    "        profile = ev.AutoProfile(n_candidates, 0)\n",
    "        profile.add_voters_auto(scores, training, n_dim=dim)\n",
    "\n",
    "        # We get the preformance of every rule\n",
    "        results_i = []\n",
    "        for rule in list_rules:\n",
    "            w = rule(profile).winner_\n",
    "            results_i.append(welfare[w])\n",
    "\n",
    "        results.append(results_i)\n",
    "\n",
    "    results = np.array(results).T\n",
    "    return results"
   ]
  },
  {
   "cell_type": "code",
   "execution_count": 12,
   "metadata": {
    "ExecuteTime": {
     "end_time": "2021-05-11T08:25:09.415076Z",
     "start_time": "2021-05-11T08:18:40.816338Z"
    }
   },
   "outputs": [
    {
     "name": "stderr",
     "output_type": "stream",
     "text": [
      "100%|██████████| 500/500 [06:28<00:00,  1.29it/s]\n"
     ]
    }
   ],
   "source": [
    "results = np.zeros((len(list_rules), 20))\n",
    "\n",
    "n_trys = 500\n",
    "for i in tqdm(range(n_trys)):\n",
    "    results += dim_evolution()\n",
    "\n",
    "results = results/n_trys"
   ]
  },
  {
   "cell_type": "markdown",
   "metadata": {},
   "source": [
    "As you can see on the following figure, **SVDNash** works well when the correct number of dimension is inferred (here $4$), with a small margin of error. But, if the number of dimensions used is higher ($> 10$ for instance), then **SVDNash** is not as efficient, and its welfare is close to the welfare of **SVDSum**. However, **SVDLog**'s welfare is still as high as before.\n",
    "\n",
    "In summary, **SVDLog** is a bit less good when we have the correct number of dimension, but it's performance is stable when the number of dimensions change!"
   ]
  },
  {
   "cell_type": "code",
   "execution_count": 13,
   "metadata": {
    "ExecuteTime": {
     "end_time": "2021-05-11T08:25:09.649448Z",
     "start_time": "2021-05-11T08:25:09.417071Z"
    }
   },
   "outputs": [
    {
     "data": {
      "image/png": "[encoded data removed]",
      "text/plain": [
       "<Figure size 1440x360 with 1 Axes>"
      ]
     },
     "metadata": {
      "needs_background": "light"
     },
     "output_type": "display_data"
    }
   ],
   "source": [
    "tab_dims = np.arange(1,21)\n",
    "\n",
    "fig = plt.figure(figsize=(20, 5))\n",
    "\n",
    "for i, r in enumerate(results):\n",
    "    plt.plot(tab_dims, r, 'o-', label=list_names[i], linewidth=3)\n",
    "    \n",
    "plt.ylim(0.9, 1)\n",
    "plt.xlim(1,20)\n",
    "plt.legend()\n",
    "plt.xlabel(\"number of dimensions\")\n",
    "plt.ylabel(\"Mean welfare\")\n",
    "plt.title(\"Evolution of the welfare with the group noise\")\n",
    "plt.grid(0.3)\n",
    "plt.legend()\n",
    "plt.show()"
   ]
  },
  {
   "cell_type": "markdown",
   "metadata": {},
   "source": [
    "## What happen if we take the full matrix of covariance?"
   ]
  },
  {
   "cell_type": "markdown",
   "metadata": {},
   "source": [
    "Let's compare what we got if we do not use PCA at all and directly use the covariance matrix, which is more elegant."
   ]
  },
  {
   "cell_type": "code",
   "execution_count": 28,
   "metadata": {
    "ExecuteTime": {
     "end_time": "2021-06-21T16:32:55.126942Z",
     "start_time": "2021-06-21T16:32:55.099961Z"
    }
   },
   "outputs": [],
   "source": [
    "\n",
    "def transform_score(s):\n",
    "    return np.exp((s - np.mean(s))/np.std(s))\n",
    "\n",
    "\n",
    "def best_method(training_size=100):\n",
    "    results = []\n",
    "               \n",
    "    truth, scores = generator.sample_scores(20)\n",
    "    _, training = generator.sample_scores(training_size)\n",
    "\n",
    "    # We get the real welfare of each candidate using a SumScoresProfile \n",
    "    true_profile = ev.Profile(n_candidates, 0)\n",
    "    true_profile.add_voter([], truth)\n",
    "    target = ev.SumScores(true_profile)\n",
    "    welfare = target.welfare_\n",
    "\n",
    "    results = np.zeros((9, len(list_rules)))\n",
    "    \n",
    "    \"\"\"\n",
    "    # We create the profile of voters-algorithms\n",
    "    profile = ev.AutoProfile(n_candidates, 0)\n",
    "    profile.add_voters_cov(scores, training, normalize_score=True)\n",
    "\n",
    "    # We get the preformance of every rule\n",
    "    for i, rule in enumerate(list_rules):\n",
    "        w = rule(profile).winner_\n",
    "        results[0,i] = welfare[w]\n",
    "        \n",
    "    \"\"\"\n",
    "    \n",
    "    #print(\"\"\" PCA True, True\"\"\")\n",
    "    # We create the profile of voters-algorithms\n",
    "    profile = ev.AutoProfile(n_candidates, 0)\n",
    "    profile.add_voters_auto(scores, training, normalize_score=True, normalize_embs=True)\n",
    "\n",
    "    # We get the preformance of every rule\n",
    "    for i, rule in enumerate(list_rules):\n",
    "        w = rule(profile).winner_\n",
    "        results[0,i] = welfare[w]\n",
    "        \n",
    "    \n",
    "    #print(\"\"\" PCA True, False\"\"\")\n",
    "    # We create the profile of voters-algorithms\n",
    "    profile = ev.AutoProfile(n_candidates, 0)\n",
    "    profile.add_voters_auto(scores, training, normalize_score=True, normalize_embs=False)\n",
    "\n",
    "    # We get the preformance of every rule\n",
    "    for i, rule in enumerate(list_rules):\n",
    "        w = rule(profile).winner_\n",
    "        results[1,i] = welfare[w]\n",
    "        \n",
    "        \n",
    "    #print(\"\"\" PCA Full True, True\"\"\")\n",
    "    # We create the profile of voters-algorithms\n",
    "    profile = ev.AutoProfile(n_candidates, 0)\n",
    "    profile.add_voters_auto(scores, training, generator.n_voters, normalize_score=True, normalize_embs=True)\n",
    "\n",
    "    # We get the preformance of every rule\n",
    "    for i, rule in enumerate(list_rules):\n",
    "        w = rule(profile).winner_\n",
    "        results[2,i] = welfare[w]\n",
    "    \n",
    "\n",
    "        \n",
    "    #print(\"\"\" PCA Full True, False\"\"\")\n",
    "    # We create the profile of voters-algorithms\n",
    "    profile = ev.AutoProfile(n_candidates, 0)\n",
    "    profile.add_voters_auto(scores, training, generator.n_voters, normalize_score=True, normalize_embs=False)\n",
    "\n",
    "    # We get the preformance of every rule\n",
    "    for i, rule in enumerate(list_rules):\n",
    "        w = rule(profile).winner_\n",
    "        results[3,i] = welfare[w]\n",
    "    \n",
    "\n",
    "    #print(\"\"\" Prods\"\"\")\n",
    "    # We create the profile of voters-algorithms\n",
    "    profile = ev.AutoProfile(n_candidates, 0)\n",
    "    profile.add_voters_prod(scores, training, normalize_score=True)\n",
    "\n",
    "    # We get the preformance of every rule\n",
    "    for i, rule in enumerate(list_rules):\n",
    "        w = rule(profile).winner_\n",
    "        results[4,i] = welfare[w]\n",
    "        \n",
    "\n",
    "        \n",
    "    profile = ev.AutoProfile(n_candidates, 0)\n",
    "    profile.add_voters_fake(scores, training)\n",
    "    w = ev.NoPCA(profile, lambda x: x/np.linalg.norm(x)).winner_\n",
    "    \n",
    "    results[5,0] = welfare[w]\n",
    "    \n",
    "        \n",
    "    profile = ev.AutoProfile(n_candidates, 0)\n",
    "    profile.add_voters_fake(scores, training)\n",
    "    w = ev.NoPCA(profile, transform_score).winner_\n",
    "    results[6,0] = welfare[w]\n",
    "    \n",
    "    \n",
    "    profile = ev.AutoProfile(n_candidates, 0)\n",
    "    profile.add_voters_fake(scores, training)\n",
    "    w = ev.NoPCA(profile, lambda x: np.sqrt(np.maximum(0,x/np.linalg.norm(x)))).winner_\n",
    "    \n",
    "    results[7,0] = welfare[w]\n",
    "    \n",
    "        \n",
    "    profile = ev.AutoProfile(n_candidates, 0)\n",
    "    profile.add_voters_fake(scores, training)\n",
    "    w = ev.NoPCA(profile, lambda x: np.sqrt(np.maximum(0,transform_score(x)))).winner_\n",
    "    results[8,0] = welfare[w]\n",
    "        \n",
    "             \n",
    "    return results"
   ]
  },
  {
   "cell_type": "code",
   "execution_count": 29,
   "metadata": {
    "ExecuteTime": {
     "end_time": "2021-06-21T16:33:49.404668Z",
     "start_time": "2021-06-21T16:32:55.750550Z"
    }
   },
   "outputs": [
    {
     "name": "stderr",
     "output_type": "stream",
     "text": [
      "100%|██████████| 200/200 [00:53<00:00,  3.73it/s]\n"
     ]
    }
   ],
   "source": [
    "results = []\n",
    "\n",
    "n_trys = 200\n",
    "for _ in tqdm(range(n_trys)):\n",
    "    results.append(best_method())\n",
    "\n",
    "results = np.array(results)\n"
   ]
  },
  {
   "cell_type": "markdown",
   "metadata": {},
   "source": [
    "As you can see in the following table, **SVDLog** performs better than the other rules with the full matrix. However, for any rule, doing the **PCA** is far better than using the full matrix."
   ]
  },
  {
   "cell_type": "code",
   "execution_count": 30,
   "metadata": {
    "ExecuteTime": {
     "end_time": "2021-06-21T16:33:57.113895Z",
     "start_time": "2021-06-21T16:33:57.088960Z"
    }
   },
   "outputs": [
    {
     "data": {
      "text/html": [
       "<div>\n",
       "<style scoped>\n",
       "    .dataframe tbody tr th:only-of-type {\n",
       "        vertical-align: middle;\n",
       "    }\n",
       "\n",
       "    .dataframe tbody tr th {\n",
       "        vertical-align: top;\n",
       "    }\n",
       "\n",
       "    .dataframe thead th {\n",
       "        text-align: right;\n",
       "    }\n",
       "</style>\n",
       "<table border=\"1\" class=\"dataframe\">\n",
       "  <thead>\n",
       "    <tr style=\"text-align: right;\">\n",
       "      <th></th>\n",
       "      <th>SVDNash</th>\n",
       "      <th>SVDSum</th>\n",
       "      <th>SVDLog</th>\n",
       "      <th>Sum</th>\n",
       "    </tr>\n",
       "  </thead>\n",
       "  <tbody>\n",
       "    <tr>\n",
       "      <th>pca 1</th>\n",
       "      <td>0.944174</td>\n",
       "      <td>0.901268</td>\n",
       "      <td>0.925711</td>\n",
       "      <td>0.887287</td>\n",
       "    </tr>\n",
       "    <tr>\n",
       "      <th>pca 0</th>\n",
       "      <td>0.941527</td>\n",
       "      <td>0.878578</td>\n",
       "      <td>0.942072</td>\n",
       "      <td>0.887287</td>\n",
       "    </tr>\n",
       "    <tr>\n",
       "      <th>pca full 1</th>\n",
       "      <td>0.896822</td>\n",
       "      <td>0.901268</td>\n",
       "      <td>0.924947</td>\n",
       "      <td>0.887287</td>\n",
       "    </tr>\n",
       "    <tr>\n",
       "      <th>pca full 0</th>\n",
       "      <td>0.896822</td>\n",
       "      <td>0.878578</td>\n",
       "      <td>0.896822</td>\n",
       "      <td>0.887287</td>\n",
       "    </tr>\n",
       "    <tr>\n",
       "      <th>prod</th>\n",
       "      <td>0.896822</td>\n",
       "      <td>0.887287</td>\n",
       "      <td>0.896822</td>\n",
       "      <td>0.887287</td>\n",
       "    </tr>\n",
       "    <tr>\n",
       "      <th>fanfan</th>\n",
       "      <td>0.941527</td>\n",
       "      <td>0.000000</td>\n",
       "      <td>0.000000</td>\n",
       "      <td>0.000000</td>\n",
       "    </tr>\n",
       "    <tr>\n",
       "      <th>fanfan exp</th>\n",
       "      <td>0.938413</td>\n",
       "      <td>0.000000</td>\n",
       "      <td>0.000000</td>\n",
       "      <td>0.000000</td>\n",
       "    </tr>\n",
       "    <tr>\n",
       "      <th>fanfan sqrt</th>\n",
       "      <td>0.941527</td>\n",
       "      <td>0.000000</td>\n",
       "      <td>0.000000</td>\n",
       "      <td>0.000000</td>\n",
       "    </tr>\n",
       "    <tr>\n",
       "      <th>fanfan sqrt exp</th>\n",
       "      <td>0.940250</td>\n",
       "      <td>0.000000</td>\n",
       "      <td>0.000000</td>\n",
       "      <td>0.000000</td>\n",
       "    </tr>\n",
       "  </tbody>\n",
       "</table>\n",
       "</div>"
      ],
      "text/plain": [
       "                  SVDNash    SVDSum    SVDLog       Sum\n",
       "pca 1            0.944174  0.901268  0.925711  0.887287\n",
       "pca 0            0.941527  0.878578  0.942072  0.887287\n",
       "pca full 1       0.896822  0.901268  0.924947  0.887287\n",
       "pca full 0       0.896822  0.878578  0.896822  0.887287\n",
       "prod             0.896822  0.887287  0.896822  0.887287\n",
       "fanfan           0.941527  0.000000  0.000000  0.000000\n",
       "fanfan exp       0.938413  0.000000  0.000000  0.000000\n",
       "fanfan sqrt      0.941527  0.000000  0.000000  0.000000\n",
       "fanfan sqrt exp  0.940250  0.000000  0.000000  0.000000"
      ]
     },
     "metadata": {},
     "output_type": "display_data"
    },
    {
     "data": {
      "text/html": [
       "<div>\n",
       "<style scoped>\n",
       "    .dataframe tbody tr th:only-of-type {\n",
       "        vertical-align: middle;\n",
       "    }\n",
       "\n",
       "    .dataframe tbody tr th {\n",
       "        vertical-align: top;\n",
       "    }\n",
       "\n",
       "    .dataframe thead th {\n",
       "        text-align: right;\n",
       "    }\n",
       "</style>\n",
       "<table border=\"1\" class=\"dataframe\">\n",
       "  <thead>\n",
       "    <tr style=\"text-align: right;\">\n",
       "      <th></th>\n",
       "      <th>SVDNash</th>\n",
       "      <th>SVDSum</th>\n",
       "      <th>SVDLog</th>\n",
       "      <th>Sum</th>\n",
       "    </tr>\n",
       "  </thead>\n",
       "  <tbody>\n",
       "    <tr>\n",
       "      <th>pca 1</th>\n",
       "      <td>0.076320</td>\n",
       "      <td>0.126863</td>\n",
       "      <td>0.099174</td>\n",
       "      <td>0.149618</td>\n",
       "    </tr>\n",
       "    <tr>\n",
       "      <th>pca 0</th>\n",
       "      <td>0.082848</td>\n",
       "      <td>0.156349</td>\n",
       "      <td>0.082749</td>\n",
       "      <td>0.149618</td>\n",
       "    </tr>\n",
       "    <tr>\n",
       "      <th>pca full 1</th>\n",
       "      <td>0.129376</td>\n",
       "      <td>0.126863</td>\n",
       "      <td>0.099093</td>\n",
       "      <td>0.149618</td>\n",
       "    </tr>\n",
       "    <tr>\n",
       "      <th>pca full 0</th>\n",
       "      <td>0.129376</td>\n",
       "      <td>0.156349</td>\n",
       "      <td>0.129376</td>\n",
       "      <td>0.149618</td>\n",
       "    </tr>\n",
       "    <tr>\n",
       "      <th>prod</th>\n",
       "      <td>0.129376</td>\n",
       "      <td>0.149618</td>\n",
       "      <td>0.129376</td>\n",
       "      <td>0.149618</td>\n",
       "    </tr>\n",
       "    <tr>\n",
       "      <th>fanfan</th>\n",
       "      <td>0.082848</td>\n",
       "      <td>0.000000</td>\n",
       "      <td>0.000000</td>\n",
       "      <td>0.000000</td>\n",
       "    </tr>\n",
       "    <tr>\n",
       "      <th>fanfan exp</th>\n",
       "      <td>0.085602</td>\n",
       "      <td>0.000000</td>\n",
       "      <td>0.000000</td>\n",
       "      <td>0.000000</td>\n",
       "    </tr>\n",
       "    <tr>\n",
       "      <th>fanfan sqrt</th>\n",
       "      <td>0.082848</td>\n",
       "      <td>0.000000</td>\n",
       "      <td>0.000000</td>\n",
       "      <td>0.000000</td>\n",
       "    </tr>\n",
       "    <tr>\n",
       "      <th>fanfan sqrt exp</th>\n",
       "      <td>0.084128</td>\n",
       "      <td>0.000000</td>\n",
       "      <td>0.000000</td>\n",
       "      <td>0.000000</td>\n",
       "    </tr>\n",
       "  </tbody>\n",
       "</table>\n",
       "</div>"
      ],
      "text/plain": [
       "                  SVDNash    SVDSum    SVDLog       Sum\n",
       "pca 1            0.076320  0.126863  0.099174  0.149618\n",
       "pca 0            0.082848  0.156349  0.082749  0.149618\n",
       "pca full 1       0.129376  0.126863  0.099093  0.149618\n",
       "pca full 0       0.129376  0.156349  0.129376  0.149618\n",
       "prod             0.129376  0.149618  0.129376  0.149618\n",
       "fanfan           0.082848  0.000000  0.000000  0.000000\n",
       "fanfan exp       0.085602  0.000000  0.000000  0.000000\n",
       "fanfan sqrt      0.082848  0.000000  0.000000  0.000000\n",
       "fanfan sqrt exp  0.084128  0.000000  0.000000  0.000000"
      ]
     },
     "metadata": {},
     "output_type": "display_data"
    }
   ],
   "source": [
    "display(pd.DataFrame(results.mean(axis=0), columns=list_names, index=[\"pca 1\", \"pca 0\",\"pca full 1\",\"pca full 0\", \"prod\",\"fanfan\", \"fanfan exp\", \"fanfan sqrt\", \"fanfan sqrt exp\"]))\n",
    "display(pd.DataFrame(results.std(axis=0), columns=list_names, index=[\"pca 1\", \"pca 0\",\"pca full 1\",\"pca full 0\", \"prod\",\"fanfan\", \"fanfan exp\", \"fanfan sqrt\", \"fanfan sqrt exp\"]))"
   ]
  },
  {
   "cell_type": "code",
   "execution_count": 8,
   "metadata": {
    "ExecuteTime": {
     "end_time": "2021-06-03T13:48:40.041489Z",
     "start_time": "2021-06-03T13:48:40.007466Z"
    }
   },
   "outputs": [],
   "source": [
    "truth, scores = generator.sample_scores(20)\n",
    "_, training = generator.sample_scores(100)"
   ]
  },
  {
   "cell_type": "code",
   "execution_count": 9,
   "metadata": {
    "ExecuteTime": {
     "end_time": "2021-06-03T13:48:40.204348Z",
     "start_time": "2021-06-03T13:48:40.194165Z"
    }
   },
   "outputs": [
    {
     "name": "stdout",
     "output_type": "stream",
     "text": [
      "(100, 39)\n",
      "[[ 8.42219069e+03  4.36378698e+02 -2.77638608e+01 ... -1.81071802e-01\n",
      "   2.12056054e+00 -8.88011775e-01]\n",
      " [ 8.43712830e+03  4.21598755e+02 -4.67359111e+01 ...  1.65405970e+00\n",
      "   1.89548743e+00  6.98027283e-01]\n",
      " [ 8.72559568e+03  4.64940749e+02 -4.42973994e+01 ...  5.34244367e-01\n",
      "  -1.95186559e+00  4.14871625e-01]\n",
      " ...\n",
      " [ 7.32238847e+03 -3.63565862e+02  4.98374924e+02 ... -1.21213776e+00\n",
      "   2.72445217e-01  3.67605816e-01]\n",
      " [ 5.58208092e+03 -1.66390452e+03  5.02343058e+02 ...  9.90837886e-01\n",
      "  -3.91973761e-01 -1.99647990e-01]\n",
      " [ 5.91072277e+03 -1.37009481e+03  3.95026392e+02 ...  9.00306891e-01\n",
      "  -3.06284994e-01 -2.95418806e-01]]\n"
     ]
    }
   ],
   "source": [
    "from sklearn.decomposition import PCA\n",
    "\n",
    "pca = PCA(n_components=training.shape[0])\n",
    "projection_matrix = pca.fit_transform(training.T)\n",
    "print(projection_matrix.shape)\n",
    "embs = training.dot(projection_matrix)\n",
    "print(embs)"
   ]
  },
  {
   "cell_type": "code",
   "execution_count": 10,
   "metadata": {
    "ExecuteTime": {
     "end_time": "2021-06-03T13:48:40.313287Z",
     "start_time": "2021-06-03T13:48:40.306728Z"
    }
   },
   "outputs": [
    {
     "name": "stdout",
     "output_type": "stream",
     "text": [
      "[[23650.32989333 23616.90207252 23775.02024215 ... 23371.95454771\n",
      "  23130.63883641 22872.31013493]\n",
      " [23616.90207252 23632.13310702 23760.61181993 ... 23355.81844913\n",
      "  23112.09044085 22870.25735959]\n",
      " [23775.02024215 23760.61181993 23939.97833881 ... 23494.39328588\n",
      "  23238.15756809 22983.43699385]\n",
      " ...\n",
      " [23371.95454771 23355.81844913 23494.39328588 ... 23489.38080331\n",
      "  23443.4922879  23105.95746334]\n",
      " [23130.63883641 23112.09044085 23238.15756809 ... 23443.4922879\n",
      "  23911.7052871  23246.94082001]\n",
      " [22872.31013493 22870.25735959 22983.43699385 ... 23105.95746334\n",
      "  23246.94082001 23087.03943308]]\n"
     ]
    }
   ],
   "source": [
    "prodscal = np.dot(training, training.T)\n",
    "print(prodscal)"
   ]
  },
  {
   "cell_type": "code",
   "execution_count": 11,
   "metadata": {
    "ExecuteTime": {
     "end_time": "2021-06-03T13:48:40.469732Z",
     "start_time": "2021-06-03T13:48:40.456784Z"
    }
   },
   "outputs": [
    {
     "name": "stdout",
     "output_type": "stream",
     "text": [
      "[[23650.32989333 23616.90207252 23775.02024215 ... 23371.95454771\n",
      "  23130.63883641 22872.31013493]\n",
      " [23616.90207252 23632.13310702 23760.61181993 ... 23355.81844913\n",
      "  23112.09044085 22870.25735959]\n",
      " [23775.02024215 23760.61181993 23939.97833881 ... 23494.39328588\n",
      "  23238.15756809 22983.43699385]\n",
      " ...\n",
      " [23371.95454771 23355.81844913 23494.39328588 ... 23489.38080331\n",
      "  23443.4922879  23105.95746334]\n",
      " [23130.63883641 23112.09044085 23238.15756809 ... 23443.4922879\n",
      "  23911.7052871  23246.94082001]\n",
      " [22872.31013493 22870.25735959 22983.43699385 ... 23105.95746334\n",
      "  23246.94082001 23087.03943308]]\n"
     ]
    }
   ],
   "source": [
    "u, s, v = np.linalg.svd(training)\n",
    "s = np.diag(s)\n",
    "udots = u.dot(s)\n",
    "print(udots.dot(udots.T))"
   ]
  },
  {
   "cell_type": "code",
   "execution_count": 12,
   "metadata": {
    "ExecuteTime": {
     "end_time": "2021-06-03T13:48:40.609868Z",
     "start_time": "2021-06-03T13:48:40.605914Z"
    }
   },
   "outputs": [],
   "source": [
    "train_bis = np.dot(udots,v[:39, :])"
   ]
  },
  {
   "cell_type": "code",
   "execution_count": 14,
   "metadata": {
    "ExecuteTime": {
     "end_time": "2021-06-03T13:48:43.390273Z",
     "start_time": "2021-06-03T13:48:43.385287Z"
    }
   },
   "outputs": [
    {
     "name": "stdout",
     "output_type": "stream",
     "text": [
      "(39, 5)\n"
     ]
    }
   ],
   "source": [
    "print(training.dot(v[:5,:].T).shape)"
   ]
  },
  {
   "cell_type": "code",
   "execution_count": null,
   "metadata": {},
   "outputs": [],
   "source": []
  }
 ],
 "metadata": {
  "kernelspec": {
   "display_name": "Python 3",
   "language": "python",
   "name": "python3"
  },
  "language_info": {
   "codemirror_mode": {
    "name": "ipython",
    "version": 3
   },
   "file_extension": ".py",
   "mimetype": "text/x-python",
   "name": "python",
   "nbconvert_exporter": "python",
   "pygments_lexer": "ipython3",
   "version": "3.7.3"
  }
 },
 "nbformat": 4,
 "nbformat_minor": 2
}
