{
 "cells": [
  {
   "cell_type": "code",
   "execution_count": 1,
   "metadata": {
    "ExecuteTime": {
     "end_time": "2022-12-08T15:04:44.167487Z",
     "start_time": "2022-12-08T15:04:36.928479Z"
    }
   },
   "outputs": [],
   "source": [
    "import numpy as np\n",
    "import embedded_voting as ev\n",
    "import matplotlib.pyplot as plt\n",
    "from tqdm import tqdm\n",
    "import copy"
   ]
  },
  {
   "cell_type": "code",
   "execution_count": 2,
   "metadata": {
    "ExecuteTime": {
     "end_time": "2022-12-08T15:05:28.763673Z",
     "start_time": "2022-12-08T15:04:44.169347Z"
    },
    "scrolled": true
   },
   "outputs": [],
   "source": [
    "ratings_training = np.loadtxt(\"ratings_base_case_training_normal.csv\",dtype=float,delimiter=\",\")\n",
    "ratings_testing = np.loadtxt(\"ratings_base_case_testing_normal.csv\",dtype=float,delimiter=\",\")"
   ]
  },
  {
   "cell_type": "code",
   "execution_count": 3,
   "metadata": {
    "ExecuteTime": {
     "end_time": "2022-12-08T15:05:28.815535Z",
     "start_time": "2022-12-08T15:05:28.787609Z"
    }
   },
   "outputs": [],
   "source": [
    "def f_max(ratings_v, history_mean, history_std):\n",
    "    return np.maximum(0, (ratings_v - history_mean) / history_std)\n",
    "\n",
    "def f_renorm(ratings_v, history_mean, history_std):\n",
    "    return (ratings_v - history_mean) / history_std"
   ]
  },
  {
   "cell_type": "markdown",
   "metadata": {
    "heading_collapsed": true
   },
   "source": [
    "# Base case"
   ]
  },
  {
   "cell_type": "code",
   "execution_count": 11,
   "metadata": {
    "ExecuteTime": {
     "end_time": "2022-12-08T11:40:35.339259Z",
     "start_time": "2022-12-08T11:40:35.325290Z"
    },
    "hidden": true
   },
   "outputs": [],
   "source": [
    "n_candidates = 20\n",
    "n_trys = 10000\n",
    "max_candidates = 50\n",
    "\n",
    "list_agg = [ev.Aggregator(rule=ev.RuleFastNash(), name=\"FastNash\"),\n",
    "            ev.Aggregator(rule=ev.RuleRatingsHistory(rule=ev.RuleApprovalProduct(), f=f_max), name=\"ApprovalProduct\"),\n",
    "            ev.Aggregator(rule=ev.RuleRatingsHistory(rule=ev.RuleApprovalSum(), f=f_max), name=\"ApprovalSum\"),\n",
    "            ev.Aggregator(rule=ev.RuleRatingsHistory(rule=ev.RuleApprovalRandom(), f=f_max), name=\"ApprovalRandom\"),\n",
    "            ev.Aggregator(rule=ev.RuleRatingsHistory(rule=ev.RuleSumRatings(), f=f_renorm), name=\"Sum\"),\n",
    "            ev.Aggregator(rule=ev.RuleRatingsHistory(rule=ev.RuleMLEGaussian(), f=f_renorm), name=\"MLE\"),\n",
    "            ev.Aggregator(rule=ev.RuleRatingsHistory(rule=ev.RuleMLEGaussian(), f=f_renorm), name=\"MLE-t\", default_train=False, default_add=False),\n",
    "            ev.Aggregator(rule=ev.RuleFastNash(), name=\"FastNash-t\", default_train=False,default_add=False)]\n",
    "\n",
    "rules_names = [agg.name for agg in list_agg]"
   ]
  },
  {
   "cell_type": "code",
   "execution_count": 14,
   "metadata": {
    "ExecuteTime": {
     "end_time": "2022-12-08T11:40:48.438791Z",
     "start_time": "2022-12-08T11:40:48.434801Z"
    },
    "hidden": true
   },
   "outputs": [],
   "source": [
    "#sigma**2 = (k*sigma_g**2 + sigma_i**2)\n",
    "\n",
    "\n",
    "oracle_vec = [1/(20*100 + 4)]*20 + [1/(1*100+4)]*4"
   ]
  },
  {
   "cell_type": "code",
   "execution_count": 12,
   "metadata": {
    "ExecuteTime": {
     "end_time": "2022-12-08T11:40:38.693479Z",
     "start_time": "2022-12-08T11:40:37.084182Z"
    },
    "hidden": true
   },
   "outputs": [
    {
     "name": "stderr",
     "output_type": "stream",
     "text": [
      "100%|██████████| 10000/10000 [00:01<00:00, 6247.68it/s]\n"
     ]
    }
   ],
   "source": [
    "n_voters = 24\n",
    "results_algo = np.zeros((n_trys))\n",
    "\n",
    "\n",
    "for index_try in tqdm(range(n_trys)):\n",
    "    truth = ratings_testing[0,max_candidates*index_try:max_candidates*index_try+n_candidates]\n",
    "    ratings_candidates = ratings_testing[11:11+n_voters,max_candidates*index_try:max_candidates*index_try+n_candidates]\n",
    "    i = 20\n",
    "    for agg in list_agg[:-2]:\n",
    "        agg.reset()\n",
    "        \n",
    "\n",
    "    ## training\n",
    "    welfare = ev.RuleSumRatings()(ev.Ratings([truth])).welfare_\n",
    "\n",
    "\n",
    "    w = np.argmax(ratings_candidates[0])\n",
    "    results_algo[index_try] += welfare[w]"
   ]
  },
  {
   "cell_type": "code",
   "execution_count": 7,
   "metadata": {
    "ExecuteTime": {
     "end_time": "2022-12-07T09:39:41.837406Z",
     "start_time": "2022-12-07T09:39:41.828432Z"
    },
    "hidden": true
   },
   "outputs": [
    {
     "data": {
      "text/plain": [
       "0.7188875360732854"
      ]
     },
     "execution_count": 7,
     "metadata": {},
     "output_type": "execute_result"
    }
   ],
   "source": [
    "results_algo.mean()"
   ]
  },
  {
   "cell_type": "code",
   "execution_count": 8,
   "metadata": {
    "ExecuteTime": {
     "end_time": "2022-12-07T09:39:44.008613Z",
     "start_time": "2022-12-07T09:39:44.001600Z"
    },
    "hidden": true
   },
   "outputs": [
    {
     "name": "stdout",
     "output_type": "stream",
     "text": [
      "0.0 0.6548692105730108\n",
      "0.1 0.6548692105730108\n",
      "0.2 0.6548692105730108\n",
      "0.3 0.6548692105730108\n",
      "0.4 0.6548692105730108\n",
      "0.5 0.6548692105730108\n",
      "0.6 0.6548692105730108\n",
      "0.7 0.6548692105730108\n",
      "0.8 0.6548692105730108\n",
      "0.9 0.6548692105730108\n",
      "1.0 0.6548692105730108\n"
     ]
    }
   ],
   "source": [
    "for alpha in [i*.1 for i in range(11)]:\n",
    "    print(np.round(alpha,1), 0.6548692105730108)"
   ]
  },
  {
   "cell_type": "code",
   "execution_count": 15,
   "metadata": {
    "ExecuteTime": {
     "end_time": "2022-12-08T11:44:14.422546Z",
     "start_time": "2022-12-08T11:40:54.038899Z"
    },
    "hidden": true
   },
   "outputs": [
    {
     "name": "stderr",
     "output_type": "stream",
     "text": [
      "100%|██████████| 10000/10000 [03:20<00:00, 49.97it/s]\n"
     ]
    }
   ],
   "source": [
    "n_agg = len(list_agg)\n",
    "n_voters = 24\n",
    "results_exp = np.zeros((n_agg + 3, n_trys))\n",
    "accuracy_exp = np.zeros((n_agg + 3, n_trys))\n",
    "results_algo = np.zeros((n_voters, n_trys))\n",
    "accuracy_algo = np.zeros((n_voters, n_trys))\n",
    "\n",
    "training = ratings_training[11:11+n_voters]\n",
    "for i in range(2):\n",
    "    _ = list_agg[-(i+1)](training).winner_\n",
    "    list_agg[-(i+1)].train()\n",
    "\n",
    "\n",
    "for index_try in tqdm(range(n_trys)):\n",
    "    truth = ratings_testing[0,max_candidates*index_try:max_candidates*index_try+n_candidates]\n",
    "    ratings_candidates = ratings_testing[11:11+n_voters,max_candidates*index_try:max_candidates*index_try+n_candidates]\n",
    "    i = 20\n",
    "    for agg in list_agg[:-2]:\n",
    "        agg.reset()\n",
    "        \n",
    "\n",
    "    ## training\n",
    "    welfare = ev.RuleSumRatings()(ev.Ratings([truth])).welfare_\n",
    "    # getting the results\n",
    "\n",
    "    for k,agg in enumerate(list_agg):\n",
    "        w = agg(ratings_candidates).winner_\n",
    "        results_exp[k][index_try] += welfare[w]\n",
    "        if w == np.argmax(welfare):\n",
    "            accuracy_exp[k][index_try] += 1\n",
    "            \n",
    "    w = np.random.randint(n_candidates)\n",
    "    results_exp[n_agg][index_try] += welfare[w]\n",
    "    if w == np.argmax(welfare):\n",
    "        accuracy_exp[n_agg][index_try] += 1\n",
    "        \n",
    "    for j in range(n_voters):\n",
    "        w = np.argmax(ratings_candidates[j])\n",
    "        results_algo[j][index_try] += welfare[w]\n",
    "        if w == np.argmax(welfare):\n",
    "            accuracy_algo[j][index_try] += 1\n",
    "            \n",
    "        \n",
    "    taboracle = ratings_candidates.T.dot(oracle_vec)#np.mean(ratings_candidates[:20], 0) + np.sum(ratings_candidates[20:], 0)\n",
    "    w = np.argmax(taboracle)\n",
    "    results_exp[n_agg+1][index_try] += welfare[w]\n",
    "    if w == np.argmax(welfare):\n",
    "        accuracy_exp[n_agg+1][index_try] += 1\n"
   ]
  },
  {
   "cell_type": "code",
   "execution_count": 10,
   "metadata": {
    "ExecuteTime": {
     "end_time": "2022-12-07T09:45:36.143837Z",
     "start_time": "2022-12-07T09:45:36.122895Z"
    },
    "hidden": true
   },
   "outputs": [
    {
     "data": {
      "text/plain": [
       "array([0.84698609, 0.8214542 , 0.82014176, 0.80008702, 0.75045288,\n",
       "       0.61924595, 0.86044912, 0.8582426 , 0.49626204, 0.86391845,\n",
       "       0.        ])"
      ]
     },
     "execution_count": 10,
     "metadata": {},
     "output_type": "execute_result"
    }
   ],
   "source": [
    "results_exp.mean(1)"
   ]
  },
  {
   "cell_type": "code",
   "execution_count": null,
   "metadata": {
    "hidden": true
   },
   "outputs": [],
   "source": [
    "# 1. Effet constnate nash\n",
    "# 0, 1, 2, 3\n",
    "# Untrained: 0.755, 0.7735, [0.775], 0.773,\n",
    "# Trained : 0.776, 0.783, [0.792], 0793\n",
    "# 2. Effet constante autres\n",
    "# approval 0, 1, 2\n",
    "# 0.75, 0.73, 0.70 (-1 => 0.69)\n",
    "# sum 0, 1, 2\n",
    "# 0.687, 0.697, 0.691\n",
    "# MLe 0,1,2,3,4,5 (max à 3)\n",
    "# 0.785, 0.789, 0.791, 0.793,0.793, 0.793\n",
    "# 3. Effet training approval, sum\n",
    "# Approval => améliore pas particulierement\n",
    "# Sum => Pareil\n",
    "# Sum\n",
    "# 4. Effet cap sum\n",
    "# Change rien pour approval\n",
    "# Pour sum ça améliore de capper (?)"
   ]
  },
  {
   "cell_type": "code",
   "execution_count": 16,
   "metadata": {
    "ExecuteTime": {
     "end_time": "2022-12-08T11:47:11.231543Z",
     "start_time": "2022-12-08T11:47:10.604536Z"
    },
    "hidden": true
   },
   "outputs": [],
   "source": [
    "np.savetxt(\"results_base_case_normal_b.csv\", np.concatenate([results_exp[:n_agg+2], results_algo]), delimiter=\",\")\n",
    "np.savetxt(\"accuracy_base_case_normal_b.csv\", np.concatenate([accuracy_exp[:n_agg+2], accuracy_algo]), delimiter=\",\")"
   ]
  },
  {
   "cell_type": "code",
   "execution_count": 4,
   "metadata": {
    "ExecuteTime": {
     "end_time": "2022-09-01T08:52:18.269870Z",
     "start_time": "2022-09-01T08:52:03.067324Z"
    },
    "hidden": true
   },
   "outputs": [
    {
     "name": "stderr",
     "output_type": "stream",
     "text": [
      "100%|██████████| 10000/10000 [00:15<00:00, 658.82it/s]\n"
     ]
    }
   ],
   "source": [
    "\n",
    "list_agg = [ev.Aggregator(rule=ev.RuleModelAware([20,1,1,1,1], np.eye(5), 10, 2))]\n",
    "rules_names = [agg.name for agg in list_agg]\n",
    "\n",
    "n_agg = len(list_agg)\n",
    "n_voters = 24\n",
    "results_exp = np.zeros((n_agg, n_trys))\n",
    "accuracy_exp = np.zeros((n_agg , n_trys))\n",
    "\n",
    "for index_try in tqdm(range(n_trys)):\n",
    "    truth = ratings_testing[0,max_candidates*index_try:max_candidates*index_try+n_candidates]\n",
    "    ratings_candidates = ratings_testing[11:11+n_voters,max_candidates*index_try:max_candidates*index_try+n_candidates]\n",
    "    for agg in list_agg:\n",
    "        agg.reset()\n",
    "        \n",
    "    welfare = ev.RuleSumRatings()(ev.Ratings([truth])).welfare_\n",
    "    # getting the results\n",
    "\n",
    "    for k,agg in enumerate(list_agg):\n",
    "        w = agg(ratings_candidates).winner_\n",
    "        results_exp[k][index_try] += welfare[w]\n",
    "        if w == np.argmax(welfare):\n",
    "            accuracy_exp[k][index_try] += 1"
   ]
  },
  {
   "cell_type": "code",
   "execution_count": 7,
   "metadata": {
    "ExecuteTime": {
     "end_time": "2022-09-01T08:52:45.671832Z",
     "start_time": "2022-09-01T08:52:45.664850Z"
    },
    "hidden": true
   },
   "outputs": [
    {
     "data": {
      "text/plain": [
       "array([0.79555364])"
      ]
     },
     "execution_count": 7,
     "metadata": {},
     "output_type": "execute_result"
    }
   ],
   "source": [
    "results_exp.mean(1)"
   ]
  },
  {
   "cell_type": "code",
   "execution_count": 8,
   "metadata": {
    "ExecuteTime": {
     "end_time": "2022-09-01T08:53:51.763499Z",
     "start_time": "2022-09-01T08:53:51.727195Z"
    },
    "hidden": true
   },
   "outputs": [],
   "source": [
    "np.savetxt(\"results_base_case_groupaware.csv\", results_exp, delimiter=\",\")\n",
    "np.savetxt(\"accuracy_base_case_groupaware.csv\", accuracy_exp, delimiter=\",\")"
   ]
  },
  {
   "cell_type": "code",
   "execution_count": 25,
   "metadata": {
    "ExecuteTime": {
     "end_time": "2022-08-11T12:49:11.507367Z",
     "start_time": "2022-08-11T12:49:10.939156Z"
    },
    "hidden": true
   },
   "outputs": [],
   "source": [
    "res = np.loadtxt(\"results_base_case_4.csv\", dtype=float,delimiter=\",\")"
   ]
  },
  {
   "cell_type": "code",
   "execution_count": 26,
   "metadata": {
    "ExecuteTime": {
     "end_time": "2022-08-11T12:49:11.525283Z",
     "start_time": "2022-08-11T12:49:11.515312Z"
    },
    "hidden": true
   },
   "outputs": [],
   "source": [
    "n_agg = 8"
   ]
  },
  {
   "cell_type": "code",
   "execution_count": 27,
   "metadata": {
    "ExecuteTime": {
     "end_time": "2022-08-11T12:49:11.581683Z",
     "start_time": "2022-08-11T12:49:11.555208Z"
    },
    "hidden": true
   },
   "outputs": [],
   "source": [
    "algos_res = res[:n_agg+2].mean(1)\n",
    "best_algo = res[n_agg+2:].mean(1).max()\n",
    "algos_res = np.concatenate([algos_res, [best_algo]])\n",
    "algos_name = [\"FastNash\", \"AppProd\", \"AppSum\", \"AppRand\", \"Sum\", \"MLE\", \"MLE-t\", \"FastNash-t\", \"Random\", \"Oracle\", \"BestAlgo\"]"
   ]
  },
  {
   "cell_type": "code",
   "execution_count": 28,
   "metadata": {
    "ExecuteTime": {
     "end_time": "2022-08-11T12:49:12.058929Z",
     "start_time": "2022-08-11T12:49:12.049958Z"
    },
    "hidden": true
   },
   "outputs": [],
   "source": [
    "colors = {\"FastNash\":\"#de302a\", \"AppProd\":\"#32e62c\", \"AppSum\":\"#45ba41\", \"AppRand\":\"#6ab068\",\n",
    "         \"Sum\":\"#dee046\", \"MLE\":\"#2488ed\", \"MLE-t\":\"#4540cf\", \"FastNash-t\":\"#a83d3d\",\"Random\":\"#707070\",\n",
    "          \"Oracle\":\"#707070\", \"BestAlgo\":\"#707070\"}"
   ]
  },
  {
   "cell_type": "code",
   "execution_count": 29,
   "metadata": {
    "ExecuteTime": {
     "end_time": "2022-08-11T12:49:12.800901Z",
     "start_time": "2022-08-11T12:49:12.747653Z"
    },
    "hidden": true
   },
   "outputs": [
    {
     "data": {
      "text/plain": [
       "array([0.78307467, 0.75403951, 0.75328892, 0.7409754 , 0.68702186,\n",
       "       0.51545136, 0.78490166, 0.7923564 , 0.49537776, 0.79555364,\n",
       "       0.65789297])"
      ]
     },
     "execution_count": 29,
     "metadata": {},
     "output_type": "execute_result"
    }
   ],
   "source": [
    "algos_res"
   ]
  },
  {
   "cell_type": "code",
   "execution_count": 30,
   "metadata": {
    "ExecuteTime": {
     "end_time": "2022-08-11T12:49:13.587076Z",
     "start_time": "2022-08-11T12:49:13.196688Z"
    },
    "hidden": true
   },
   "outputs": [
    {
     "data": {
      "image/png": "[encoded data removed]",
      "text/plain": [
       "<Figure size 1080x576 with 1 Axes>"
      ]
     },
     "metadata": {
      "needs_background": "light"
     },
     "output_type": "display_data"
    }
   ],
   "source": [
    "order = algos_res.argsort()[::-1]\n",
    "plt.figure(figsize=(15,8))\n",
    "for i in range(len(order)):\n",
    "    plt.bar(i, algos_res[order[i]],color=colors[algos_name[order[i]]])\n",
    "    \n",
    "plt.xticks(range(len(order)), [algos_name[i] for i in order])\n",
    "plt.xlim(-0.5,len(order)-0.5)\n",
    "plt.ylim(0.4)\n",
    "    \n",
    "plt.show()"
   ]
  },
  {
   "cell_type": "code",
   "execution_count": 31,
   "metadata": {
    "ExecuteTime": {
     "end_time": "2022-08-11T12:49:13.870124Z",
     "start_time": "2022-08-11T12:49:13.833664Z"
    },
    "hidden": true
   },
   "outputs": [
    {
     "data": {
      "text/plain": [
       "array([ 9,  7,  6,  0,  1,  2,  3,  4, 10,  5,  8], dtype=int64)"
      ]
     },
     "execution_count": 31,
     "metadata": {},
     "output_type": "execute_result"
    }
   ],
   "source": [
    "order"
   ]
  },
  {
   "cell_type": "code",
   "execution_count": 37,
   "metadata": {
    "ExecuteTime": {
     "end_time": "2022-08-04T15:07:10.082760Z",
     "start_time": "2022-08-04T15:07:10.076151Z"
    },
    "hidden": true
   },
   "outputs": [],
   "source": [
    "order_next = [5,4,0,1,2,3]"
   ]
  },
  {
   "cell_type": "markdown",
   "metadata": {
    "heading_collapsed": true
   },
   "source": [
    "# Evolution with training"
   ]
  },
  {
   "cell_type": "code",
   "execution_count": 12,
   "metadata": {
    "ExecuteTime": {
     "end_time": "2022-12-07T09:48:42.817860Z",
     "start_time": "2022-12-07T09:48:42.807886Z"
    },
    "hidden": true
   },
   "outputs": [],
   "source": [
    "\n",
    "list_agg = [ev.Aggregator(rule=ev.RuleRatingsHistory(rule=ev.RuleMLEGaussian(), f=f_renorm), name=\"MLE-t\"),\n",
    "            ev.Aggregator(rule=ev.RuleFastNash(), name=\"FastNash-t\")]"
   ]
  },
  {
   "cell_type": "code",
   "execution_count": 13,
   "metadata": {
    "ExecuteTime": {
     "end_time": "2022-12-07T10:31:31.711573Z",
     "start_time": "2022-12-07T09:48:46.677689Z"
    },
    "hidden": true
   },
   "outputs": [
    {
     "name": "stderr",
     "output_type": "stream",
     "text": [
      "100%|██████████| 10000/10000 [01:05<00:00, 151.61it/s]\n",
      "100%|██████████| 10000/10000 [01:13<00:00, 135.45it/s]\n",
      "100%|██████████| 10000/10000 [01:21<00:00, 123.03it/s]\n",
      "100%|██████████| 10000/10000 [01:22<00:00, 121.45it/s]\n",
      "100%|██████████| 10000/10000 [02:46<00:00, 60.18it/s]\n",
      "100%|██████████| 10000/10000 [02:37<00:00, 63.59it/s]\n",
      "100%|██████████| 10000/10000 [03:03<00:00, 54.40it/s]\n",
      "100%|██████████| 10000/10000 [06:33<00:00, 25.39it/s]\n",
      "100%|██████████| 10000/10000 [22:38<00:00,  7.36it/s]\n"
     ]
    }
   ],
   "source": [
    "n_agg = len(list_agg)\n",
    "list_train = [0,20,40,60,100,140,300,620,1260]\n",
    "l_train = len(list_train)\n",
    "max_candidates = 50\n",
    "n_candidates = 20\n",
    "results_exp = np.zeros((n_agg, l_train))\n",
    "\n",
    "for i in range(l_train):\n",
    "    size_train = list_train[i]\n",
    "    for agg in list_agg:\n",
    "        agg.reset()\n",
    "    if (size_train > 0):\n",
    "        training = ratings_training[11:35,:size_train]\n",
    "        _ = list_agg[0](training).winner_\n",
    "        list_agg[0].train()\n",
    "        _ = list_agg[1](training).winner_\n",
    "        list_agg[1].train()\n",
    "    \n",
    "    for index_try in tqdm(range(n_trys)):\n",
    "        \n",
    "        \n",
    "    \n",
    "        truth = ratings_testing[0,max_candidates*index_try:max_candidates*index_try+n_candidates]\n",
    "        ratings_candidates = ratings_testing[11:35,max_candidates*index_try:max_candidates*index_try+n_candidates]\n",
    "\n",
    "\n",
    "        ## training\n",
    "        welfare = ev.RuleSumRatings()(ev.Ratings([truth])).welfare_\n",
    "        # getting the results\n",
    "\n",
    "        for k,agg in enumerate(list_agg):\n",
    "            agg2 = copy.copy(agg)\n",
    "            w = agg2(ratings_candidates).winner_\n",
    "            results_exp[k][i] += welfare[w]\n",
    "            \n",
    "results_exp_4 = results_exp"
   ]
  },
  {
   "cell_type": "code",
   "execution_count": 14,
   "metadata": {
    "ExecuteTime": {
     "end_time": "2022-12-07T10:31:32.344232Z",
     "start_time": "2022-12-07T10:31:31.929944Z"
    },
    "hidden": true
   },
   "outputs": [],
   "source": [
    "np.savetxt(\"results_expe_4_normal.csv\", results_exp_4/n_trys, delimiter=\",\")"
   ]
  },
  {
   "cell_type": "markdown",
   "metadata": {
    "heading_collapsed": true
   },
   "source": [
    "# Evolution with groupe homogéne"
   ]
  },
  {
   "cell_type": "code",
   "execution_count": 17,
   "metadata": {
    "ExecuteTime": {
     "end_time": "2022-12-08T11:48:41.794827Z",
     "start_time": "2022-12-08T11:48:41.782893Z"
    },
    "hidden": true
   },
   "outputs": [],
   "source": [
    "n_trys = 10000\n",
    "\n",
    "list_agg = [ev.Aggregator(rule=ev.RuleFastNash(), name=\"FastNash\"),\n",
    "            ev.Aggregator(rule=ev.RuleRatingsHistory(rule=ev.RuleApprovalProduct(), f=f_max), name=\"ApprovalProduct\"),\n",
    "            ev.Aggregator(rule=ev.RuleRatingsHistory(rule=ev.RuleSumRatings(), f=f_renorm), name=\"Sum\"),\n",
    "            ev.Aggregator(rule=ev.RuleRatingsHistory(rule=ev.RuleMLEGaussian(), f=f_renorm), name=\"MLE\"),\n",
    "            ev.Aggregator(rule=ev.RuleRatingsHistory(rule=ev.RuleMLEGaussian(), f=f_renorm), name=\"MLE-t\", default_train=False, default_add=False),\n",
    "            ev.Aggregator(rule=ev.RuleFastNash(), name=\"FastNash-t\", default_train=False,default_add=False)]\n",
    "\n",
    "rules_names = [agg.name for agg in list_agg]"
   ]
  },
  {
   "cell_type": "code",
   "execution_count": 16,
   "metadata": {
    "ExecuteTime": {
     "end_time": "2022-12-07T11:05:18.503922Z",
     "start_time": "2022-12-07T10:31:32.687081Z"
    },
    "hidden": true
   },
   "outputs": [
    {
     "name": "stderr",
     "output_type": "stream",
     "text": [
      "100%|██████████| 10000/10000 [01:03<00:00, 157.85it/s]\n",
      "100%|██████████| 10000/10000 [01:15<00:00, 132.95it/s]\n",
      "100%|██████████| 10000/10000 [01:18<00:00, 127.43it/s]\n",
      "100%|██████████| 10000/10000 [01:13<00:00, 136.75it/s]\n",
      "100%|██████████| 10000/10000 [01:23<00:00, 119.52it/s]\n",
      "100%|██████████| 10000/10000 [01:35<00:00, 104.57it/s]\n",
      "100%|██████████| 10000/10000 [01:42<00:00, 97.22it/s]\n",
      "100%|██████████| 10000/10000 [02:00<00:00, 82.83it/s]\n",
      "100%|██████████| 10000/10000 [02:08<00:00, 78.02it/s]\n",
      "100%|██████████| 10000/10000 [02:16<00:00, 73.01it/s]\n",
      "100%|██████████| 10000/10000 [02:28<00:00, 67.56it/s]\n",
      "100%|██████████| 10000/10000 [02:37<00:00, 63.37it/s]\n",
      "100%|██████████| 10000/10000 [02:48<00:00, 59.50it/s]\n",
      "100%|██████████| 10000/10000 [03:12<00:00, 51.92it/s]\n",
      "100%|██████████| 10000/10000 [03:00<00:00, 55.55it/s]\n",
      "100%|██████████| 10000/10000 [03:35<00:00, 46.43it/s]\n"
     ]
    }
   ],
   "source": [
    "n_agg = len(list_agg)\n",
    "list_size = [1] + list(np.arange(2,31,2))\n",
    "l_size = len(list_size)\n",
    "max_candidates = 50\n",
    "n_candidates = 20\n",
    "results_exp = np.zeros((n_agg, l_size))\n",
    "\n",
    "res2 = np.zeros((n_agg, n_trys))\n",
    "for i in range(l_size):\n",
    "    size_group = list_size[i]\n",
    "    for agg in list_agg[-2:]:\n",
    "        agg.reset()\n",
    "    training = ratings_training[31-size_group:35]\n",
    "    _ = list_agg[-2](training).winner_\n",
    "    list_agg[-2].train()\n",
    "    _ = list_agg[-1](training).winner_\n",
    "    list_agg[-1].train()\n",
    "    \n",
    "    for index_try in tqdm(range(n_trys)):\n",
    "    \n",
    "        truth = ratings_testing[0,max_candidates*index_try:max_candidates*index_try+n_candidates]\n",
    "        ratings_candidates = ratings_testing[31-size_group:35,max_candidates*index_try:max_candidates*index_try+n_candidates]\n",
    "\n",
    "        for agg in list_agg[:-2]:\n",
    "            agg.reset()\n",
    "#         for agg in list_agg:\n",
    "#             agg.reset()\n",
    "\n",
    "        ## training\n",
    "        welfare = ev.RuleSumRatings()(ev.Ratings([truth])).welfare_\n",
    "        # getting the results\n",
    "\n",
    "        for k,agg in enumerate(list_agg):\n",
    "            w = agg(ratings_candidates).winner_\n",
    "            results_exp[k][i] += welfare[w]\n",
    "            \n",
    "results_exp_1 = results_exp"
   ]
  },
  {
   "cell_type": "code",
   "execution_count": 17,
   "metadata": {
    "ExecuteTime": {
     "end_time": "2022-12-07T11:05:18.562330Z",
     "start_time": "2022-12-07T11:05:18.525227Z"
    },
    "hidden": true
   },
   "outputs": [],
   "source": [
    "np.savetxt(\"results_expe_1_normal.csv\", results_exp_1/n_trys, delimiter=\",\")"
   ]
  },
  {
   "cell_type": "code",
   "execution_count": 10,
   "metadata": {
    "ExecuteTime": {
     "end_time": "2022-09-01T09:04:23.102823Z",
     "start_time": "2022-09-01T09:00:32.437169Z"
    },
    "hidden": true
   },
   "outputs": [
    {
     "name": "stderr",
     "output_type": "stream",
     "text": [
      "100%|██████████| 10000/10000 [00:06<00:00, 1514.01it/s]\n",
      "100%|██████████| 10000/10000 [00:09<00:00, 1027.00it/s]\n",
      "100%|██████████| 10000/10000 [00:09<00:00, 1101.84it/s]\n",
      "100%|██████████| 10000/10000 [00:08<00:00, 1136.29it/s]\n",
      "100%|██████████| 10000/10000 [00:10<00:00, 972.57it/s]\n",
      "100%|██████████| 10000/10000 [00:14<00:00, 713.58it/s]\n",
      "100%|██████████| 10000/10000 [00:13<00:00, 769.08it/s]\n",
      "100%|██████████| 10000/10000 [00:17<00:00, 581.26it/s]\n",
      "100%|██████████| 10000/10000 [00:15<00:00, 632.68it/s]\n",
      "100%|██████████| 10000/10000 [00:15<00:00, 663.83it/s]\n",
      "100%|██████████| 10000/10000 [00:15<00:00, 627.35it/s]\n",
      "100%|██████████| 10000/10000 [00:16<00:00, 592.91it/s]\n",
      "100%|██████████| 10000/10000 [00:19<00:00, 502.99it/s]\n",
      "100%|██████████| 10000/10000 [00:19<00:00, 512.43it/s]\n",
      "100%|██████████| 10000/10000 [00:18<00:00, 531.38it/s]\n",
      "100%|██████████| 10000/10000 [00:19<00:00, 500.14it/s]\n"
     ]
    }
   ],
   "source": [
    "\n",
    "rules_names = [agg.name for agg in list_agg]\n",
    "\n",
    "n_agg = len(list_agg)\n",
    "list_size = [1] + list(np.arange(2,31,2))\n",
    "l_size = len(list_size)\n",
    "max_candidates = 50\n",
    "n_candidates = 20\n",
    "results_exp = np.zeros((2, l_size))\n",
    "\n",
    "\n",
    "for i in range(l_size):\n",
    "    size_group = list_size[i]\n",
    "    #print(size_group)\n",
    "    algo_welfare = np.zeros(size_group+4)\n",
    "    \n",
    "    list_agg = [ev.Aggregator(rule=ev.RuleModelAware([size_group,1,1,1,1], np.eye(5), 10, 2))]\n",
    "    for index_try in tqdm(range(n_trys)):\n",
    "    \n",
    "        for agg in list_agg:\n",
    "            agg.reset()\n",
    "        truth = ratings_testing[0,max_candidates*index_try:max_candidates*index_try+n_candidates]\n",
    "        ratings_candidates = ratings_testing[31-size_group:35,max_candidates*index_try:max_candidates*index_try+n_candidates]\n",
    "\n",
    "        welfare = ev.RuleSumRatings()(ev.Ratings([truth])).welfare_\n",
    "        \n",
    "        for j in range(len(ratings_candidates)):\n",
    "            w = np.argsort(ratings_candidates[j])[-1]\n",
    "            algo_welfare[j] += welfare[w]\n",
    "        \n",
    "        \n",
    "        for k,agg in enumerate(list_agg):\n",
    "            w = agg(ratings_candidates).winner_\n",
    "            results_exp[k][i] += welfare[w]\n",
    "    \n",
    "    results_exp[1][i] = np.max(algo_welfare)\n"
   ]
  },
  {
   "cell_type": "code",
   "execution_count": 11,
   "metadata": {
    "ExecuteTime": {
     "end_time": "2022-09-01T09:04:30.589970Z",
     "start_time": "2022-09-01T09:04:30.578973Z"
    },
    "hidden": true
   },
   "outputs": [],
   "source": [
    "np.savetxt(\"results_expe_1_bounds.csv\", results_exp/n_trys, delimiter=\",\")"
   ]
  },
  {
   "cell_type": "markdown",
   "metadata": {
    "heading_collapsed": true
   },
   "source": [
    "# Evolution with number of groupes"
   ]
  },
  {
   "cell_type": "code",
   "execution_count": 18,
   "metadata": {
    "ExecuteTime": {
     "end_time": "2022-12-07T11:39:35.500088Z",
     "start_time": "2022-12-07T11:05:18.564313Z"
    },
    "hidden": true
   },
   "outputs": [
    {
     "name": "stderr",
     "output_type": "stream",
     "text": [
      "100%|██████████| 10000/10000 [02:07<00:00, 78.14it/s]\n",
      "100%|██████████| 10000/10000 [02:18<00:00, 72.06it/s]\n",
      "100%|██████████| 10000/10000 [02:24<00:00, 69.09it/s]\n",
      "100%|██████████| 10000/10000 [02:27<00:00, 68.01it/s]\n",
      "100%|██████████| 10000/10000 [02:25<00:00, 68.77it/s]\n",
      "100%|██████████| 10000/10000 [02:34<00:00, 64.83it/s]\n",
      "100%|██████████| 10000/10000 [02:42<00:00, 61.72it/s]\n",
      "100%|██████████| 10000/10000 [03:18<00:00, 50.26it/s]\n",
      "100%|██████████| 10000/10000 [03:19<00:00, 50.07it/s]\n",
      "100%|██████████| 10000/10000 [03:15<00:00, 51.15it/s]\n",
      "100%|██████████| 10000/10000 [03:26<00:00, 48.44it/s]\n",
      "100%|██████████| 10000/10000 [03:50<00:00, 43.40it/s]\n"
     ]
    }
   ],
   "source": [
    "n_agg = len(list_agg)\n",
    "list_groups = [0,1] + list(np.arange(2,21,2))\n",
    "l_groups = len(list_groups)\n",
    "max_candidates = 50\n",
    "results_exp = np.zeros((n_agg, l_size))\n",
    "\n",
    "\n",
    "for i in range(l_groups):\n",
    "    n_group = list_groups[i]\n",
    "    for agg in list_agg[-2:]:\n",
    "        agg.reset()\n",
    "    training = ratings_training[11:31+n_group]\n",
    "    _ = list_agg[-2](training).winner_\n",
    "    list_agg[-2].train()\n",
    "    _ = list_agg[-1](training).winner_\n",
    "    list_agg[-1].train()\n",
    "    \n",
    "    for index_try in tqdm(range(n_trys)):\n",
    "    \n",
    "        truth = ratings_testing[0,max_candidates*index_try:max_candidates*index_try+n_candidates]\n",
    "        ratings_candidates = ratings_testing[11:31+n_group,max_candidates*index_try:max_candidates*index_try+n_candidates]\n",
    "\n",
    "        for agg in list_agg[:-2]:\n",
    "            agg.reset()\n",
    "\n",
    "        ## training\n",
    "        welfare = ev.RuleSumRatings()(ev.Ratings([truth])).welfare_\n",
    "        # getting the results\n",
    "\n",
    "        for k,agg in enumerate(list_agg):\n",
    "            w = agg(ratings_candidates).winner_\n",
    "            results_exp[k][i] += welfare[w]\n",
    "            \n",
    "results_exp_2 = results_exp"
   ]
  },
  {
   "cell_type": "code",
   "execution_count": 19,
   "metadata": {
    "ExecuteTime": {
     "end_time": "2022-12-07T11:39:35.543971Z",
     "start_time": "2022-12-07T11:39:35.513052Z"
    },
    "hidden": true
   },
   "outputs": [],
   "source": [
    "np.savetxt(\"results_expe_2_normal.csv\", results_exp_2[:,:12]/n_trys, delimiter=\",\")"
   ]
  },
  {
   "cell_type": "code",
   "execution_count": 13,
   "metadata": {
    "ExecuteTime": {
     "end_time": "2022-09-01T09:11:42.964152Z",
     "start_time": "2022-09-01T09:07:40.822000Z"
    },
    "hidden": true
   },
   "outputs": [
    {
     "name": "stderr",
     "output_type": "stream",
     "text": [
      "100%|██████████| 10000/10000 [00:15<00:00, 649.95it/s]\n",
      "100%|██████████| 10000/10000 [00:15<00:00, 635.07it/s]\n",
      "100%|██████████| 10000/10000 [00:15<00:00, 631.02it/s]\n",
      "100%|██████████| 10000/10000 [00:17<00:00, 584.06it/s]\n",
      "100%|██████████| 10000/10000 [00:19<00:00, 519.54it/s]\n",
      "100%|██████████| 10000/10000 [00:18<00:00, 542.08it/s]\n",
      "100%|██████████| 10000/10000 [00:21<00:00, 471.91it/s]\n",
      "100%|██████████| 10000/10000 [00:20<00:00, 490.16it/s]\n",
      "100%|██████████| 10000/10000 [00:19<00:00, 505.65it/s]\n",
      "100%|██████████| 10000/10000 [00:21<00:00, 454.86it/s]\n",
      "100%|██████████| 10000/10000 [00:27<00:00, 363.73it/s]\n",
      "100%|██████████| 10000/10000 [00:29<00:00, 339.53it/s]\n"
     ]
    }
   ],
   "source": [
    "n_agg = len(list_agg)\n",
    "list_groups = [0,1] + list(np.arange(2,21,2))\n",
    "l_groups = len(list_groups)\n",
    "max_candidates = 50\n",
    "results_exp = np.zeros((2, l_groups))\n",
    "\n",
    "\n",
    "for i in range(l_groups):\n",
    "    n_group = list_groups[i]\n",
    "    \n",
    "    algo_welfare = np.zeros(n_group+20)\n",
    "    list_agg = [ev.Aggregator(rule=ev.RuleModelAware([20]+[1]*n_group, np.eye(1+n_group), 10, 2))]\n",
    "    for index_try in tqdm(range(n_trys)):\n",
    "    \n",
    "        for agg in list_agg:\n",
    "            agg.reset()\n",
    "        truth = ratings_testing[0,max_candidates*index_try:max_candidates*index_try+n_candidates]\n",
    "        ratings_candidates = ratings_testing[11:31+n_group,max_candidates*index_try:max_candidates*index_try+n_candidates]\n",
    "\n",
    "        ## training\n",
    "        welfare = ev.RuleSumRatings()(ev.Ratings([truth])).welfare_\n",
    "        # getting the results\n",
    "\n",
    "        \n",
    "        for j in range(len(ratings_candidates)):\n",
    "            w = np.argsort(ratings_candidates[j])[-1]\n",
    "            algo_welfare[j] += welfare[w]\n",
    "        \n",
    "        for k,agg in enumerate(list_agg):\n",
    "            w = agg(ratings_candidates).winner_\n",
    "            results_exp[k][i] += welfare[w]\n",
    "    \n",
    "    results_exp[1][i] = np.max(algo_welfare)\n",
    "            "
   ]
  },
  {
   "cell_type": "code",
   "execution_count": 14,
   "metadata": {
    "ExecuteTime": {
     "end_time": "2022-09-01T09:11:42.983102Z",
     "start_time": "2022-09-01T09:11:42.972129Z"
    },
    "hidden": true
   },
   "outputs": [],
   "source": [
    "np.savetxt(\"results_expe_2_bounds.csv\", results_exp/n_trys, delimiter=\",\")"
   ]
  },
  {
   "cell_type": "markdown",
   "metadata": {},
   "source": [
    "# Evolution nombre de candidats"
   ]
  },
  {
   "cell_type": "code",
   "execution_count": 4,
   "metadata": {
    "ExecuteTime": {
     "end_time": "2022-12-08T15:05:28.845455Z",
     "start_time": "2022-12-08T15:05:28.833489Z"
    }
   },
   "outputs": [],
   "source": [
    "algos_name = [\"GA\", \"FastNash\", \"AppProd\", \"Sum\", \"MLE\", \"MLE-t\", \"FastNash-t\"]"
   ]
  },
  {
   "cell_type": "code",
   "execution_count": 5,
   "metadata": {
    "ExecuteTime": {
     "end_time": "2022-12-08T15:05:29.229120Z",
     "start_time": "2022-12-08T15:05:28.850441Z"
    }
   },
   "outputs": [],
   "source": [
    "\n",
    "n_trys = 10000\n",
    "\n",
    "list_agg = [#ev.Aggregator(rule=ev.RuleModelAware([20,1,1,1,1], np.eye(5), 10, 2)),\n",
    "            ev.Aggregator(rule=ev.RuleFastNash(), name=\"FastNash\"),\n",
    "            ev.Aggregator(rule=ev.RuleRatingsHistory(rule=ev.RuleApprovalProduct(), f=f_max), name=\"ApprovalProduct\"),\n",
    "            ev.Aggregator(rule=ev.RuleRatingsHistory(rule=ev.RuleSumRatings(), f=f_renorm), name=\"Sum\"),\n",
    "            ev.Aggregator(rule=ev.RuleRatingsHistory(rule=ev.RuleMLEGaussian(), f=f_renorm), name=\"MLE\"),\n",
    "            ev.Aggregator(rule=ev.RuleRatingsHistory(rule=ev.RuleMLEGaussian(), f=f_renorm), name=\"MLE-t\", default_train=False, default_add=False),\n",
    "            ev.Aggregator(rule=ev.RuleFastNash(), name=\"FastNash-t\", default_train=False,default_add=False)\n",
    "            ]\n",
    "\n",
    "rules_names = [agg.name for agg in list_agg]"
   ]
  },
  {
   "cell_type": "code",
   "execution_count": 21,
   "metadata": {
    "ExecuteTime": {
     "end_time": "2022-12-08T16:29:02.560395Z",
     "start_time": "2022-12-08T16:28:15.359776Z"
    }
   },
   "outputs": [
    {
     "name": "stderr",
     "output_type": "stream",
     "text": [
      "  0%|          | 0/1000 [00:00<?, ?it/s]C:\\Users\\Theo Delemazure\\env\\lib\\site-packages\\ipykernel_launcher.py:5: RuntimeWarning: invalid value encountered in true_divide\n",
      "  \"\"\"\n",
      "100%|██████████| 1000/1000 [00:47<00:00, 21.19it/s]\n"
     ]
    }
   ],
   "source": [
    "n_agg = len(list_agg)\n",
    "list_candidates = [2,3,4,5,6,7,8,9] + list(np.arange(10,51,5))\n",
    "l_cand = len(list_candidates)\n",
    "max_candidates = 50\n",
    "n_voters = 10\n",
    "results_algo = np.zeros((l_cand))\n",
    "\n",
    "\n",
    "#19, 8, 20\n",
    "\n",
    "\n",
    "\n",
    "weights = np.zeros((l_cand, n_voters))\n",
    "welf = np.zeros(l_cand)\n",
    "for index_try in tqdm(range(1000)):\n",
    "    for i in range(l_cand):\n",
    "        n_candidates = list_candidates[i]\n",
    "        truth = ratings_testing[0,max_candidates*index_try:max_candidates*index_try+n_candidates]\n",
    "        ratings_candidates = ratings_testing[26:26+n_voters,max_candidates*index_try:max_candidates*index_try+n_candidates]\n",
    "#         print(\"ratings\",ratings_candidates)\n",
    "\n",
    "        welfare = ev.RuleSumRatings()(ev.Ratings([truth])).welfare_\n",
    "        list_agg[4].reset()\n",
    "\n",
    "        weights[i] += np.linalg.pinv(list_agg[4](ratings_candidates).embeddings_).sum(axis=0)\n",
    "        w = list_agg[4](ratings_candidates).winner_\n",
    "        welf[i] += (welfare[w])\n",
    "\n",
    "weights /= 1000\n",
    "welf /= 1000\n",
    "    \n",
    "\n",
    "    \n",
    "    "
   ]
  },
  {
   "cell_type": "code",
   "execution_count": 26,
   "metadata": {
    "ExecuteTime": {
     "end_time": "2022-12-08T16:36:05.685056Z",
     "start_time": "2022-12-08T16:35:59.858673Z"
    },
    "scrolled": false
   },
   "outputs": [
    {
     "name": "stdout",
     "output_type": "stream",
     "text": [
      "2\n"
     ]
    },
    {
     "data": {
      "image/png": "[encoded data removed]",
      "text/plain": [
       "<Figure size 432x288 with 1 Axes>"
      ]
     },
     "metadata": {
      "needs_background": "light"
     },
     "output_type": "display_data"
    },
    {
     "name": "stdout",
     "output_type": "stream",
     "text": [
      "3\n"
     ]
    },
    {
     "data": {
      "image/png": "[encoded data removed]",
      "text/plain": [
       "<Figure size 432x288 with 1 Axes>"
      ]
     },
     "metadata": {
      "needs_background": "light"
     },
     "output_type": "display_data"
    },
    {
     "name": "stdout",
     "output_type": "stream",
     "text": [
      "4\n"
     ]
    },
    {
     "data": {
      "image/png": "[encoded data removed]",
      "text/plain": [
       "<Figure size 432x288 with 1 Axes>"
      ]
     },
     "metadata": {
      "needs_background": "light"
     },
     "output_type": "display_data"
    },
    {
     "name": "stdout",
     "output_type": "stream",
     "text": [
      "5\n"
     ]
    },
    {
     "data": {
      "image/png": "[encoded data removed]",
      "text/plain": [
       "<Figure size 432x288 with 1 Axes>"
      ]
     },
     "metadata": {
      "needs_background": "light"
     },
     "output_type": "display_data"
    },
    {
     "name": "stdout",
     "output_type": "stream",
     "text": [
      "6\n"
     ]
    },
    {
     "data": {
      "image/png": "[encoded data removed]",
      "text/plain": [
       "<Figure size 432x288 with 1 Axes>"
      ]
     },
     "metadata": {
      "needs_background": "light"
     },
     "output_type": "display_data"
    },
    {
     "name": "stdout",
     "output_type": "stream",
     "text": [
      "7\n"
     ]
    },
    {
     "data": {
      "image/png": "[encoded data removed]",
      "text/plain": [
       "<Figure size 432x288 with 1 Axes>"
      ]
     },
     "metadata": {
      "needs_background": "light"
     },
     "output_type": "display_data"
    },
    {
     "name": "stdout",
     "output_type": "stream",
     "text": [
      "8\n"
     ]
    },
    {
     "data": {
      "image/png": "[encoded data removed]",
      "text/plain": [
       "<Figure size 432x288 with 1 Axes>"
      ]
     },
     "metadata": {
      "needs_background": "light"
     },
     "output_type": "display_data"
    },
    {
     "name": "stdout",
     "output_type": "stream",
     "text": [
      "9\n"
     ]
    },
    {
     "data": {
      "image/png": "[encoded data removed]",
      "text/plain": [
       "<Figure size 432x288 with 1 Axes>"
      ]
     },
     "metadata": {
      "needs_background": "light"
     },
     "output_type": "display_data"
    },
    {
     "name": "stdout",
     "output_type": "stream",
     "text": [
      "10\n"
     ]
    },
    {
     "data": {
      "image/png": "[encoded data removed]",
      "text/plain": [
       "<Figure size 432x288 with 1 Axes>"
      ]
     },
     "metadata": {
      "needs_background": "light"
     },
     "output_type": "display_data"
    },
    {
     "name": "stdout",
     "output_type": "stream",
     "text": [
      "15\n"
     ]
    },
    {
     "data": {
      "image/png": "[encoded data removed]",
      "text/plain": [
       "<Figure size 432x288 with 1 Axes>"
      ]
     },
     "metadata": {
      "needs_background": "light"
     },
     "output_type": "display_data"
    },
    {
     "name": "stdout",
     "output_type": "stream",
     "text": [
      "20\n"
     ]
    },
    {
     "data": {
      "image/png": "[encoded data removed]",
      "text/plain": [
       "<Figure size 432x288 with 1 Axes>"
      ]
     },
     "metadata": {
      "needs_background": "light"
     },
     "output_type": "display_data"
    },
    {
     "name": "stdout",
     "output_type": "stream",
     "text": [
      "25\n"
     ]
    },
    {
     "data": {
      "image/png": "[encoded data removed]",
      "text/plain": [
       "<Figure size 432x288 with 1 Axes>"
      ]
     },
     "metadata": {
      "needs_background": "light"
     },
     "output_type": "display_data"
    },
    {
     "name": "stdout",
     "output_type": "stream",
     "text": [
      "30\n"
     ]
    },
    {
     "data": {
      "image/png": "[encoded data removed]",
      "text/plain": [
       "<Figure size 432x288 with 1 Axes>"
      ]
     },
     "metadata": {
      "needs_background": "light"
     },
     "output_type": "display_data"
    },
    {
     "name": "stdout",
     "output_type": "stream",
     "text": [
      "35\n"
     ]
    },
    {
     "data": {
      "image/png": "[encoded data removed]",
      "text/plain": [
       "<Figure size 432x288 with 1 Axes>"
      ]
     },
     "metadata": {
      "needs_background": "light"
     },
     "output_type": "display_data"
    },
    {
     "name": "stdout",
     "output_type": "stream",
     "text": [
      "40\n"
     ]
    },
    {
     "data": {
      "image/png": "[encoded data removed]",
      "text/plain": [
       "<Figure size 432x288 with 1 Axes>"
      ]
     },
     "metadata": {
      "needs_background": "light"
     },
     "output_type": "display_data"
    },
    {
     "name": "stdout",
     "output_type": "stream",
     "text": [
      "45\n"
     ]
    },
    {
     "data": {
      "image/png": "[encoded data removed]",
      "text/plain": [
       "<Figure size 432x288 with 1 Axes>"
      ]
     },
     "metadata": {
      "needs_background": "light"
     },
     "output_type": "display_data"
    },
    {
     "name": "stdout",
     "output_type": "stream",
     "text": [
      "50\n"
     ]
    },
    {
     "data": {
      "image/png": "[encoded data removed]",
      "text/plain": [
       "<Figure size 432x288 with 1 Axes>"
      ]
     },
     "metadata": {
      "needs_background": "light"
     },
     "output_type": "display_data"
    }
   ],
   "source": [
    "list_candidates = [2,3,4,5,6,7,8,9] + list(np.arange(10,51,5))\n",
    "l_cand = len(list_candidates)\n",
    "max_candidates = 50\n",
    "n_voters = 10\n",
    "results_algo = np.zeros((l_cand))\n",
    "\n",
    "\n",
    "#19, 8, 20\n",
    "\n",
    "index_try=19\n",
    "\n",
    "\n",
    "weights = np.zeros((l_cand, n_voters))\n",
    "welf = np.zeros(l_cand)\n",
    "for i in range(l_cand):\n",
    "    n_candidates = list_candidates[i]\n",
    "    truth = ratings_testing[0,max_candidates*index_try:max_candidates*index_try+n_candidates]\n",
    "    ratings_candidates = ratings_testing[26:26+n_voters,max_candidates*index_try:max_candidates*index_try+n_candidates]\n",
    "#         print(\"ratings\",ratings_candidates)\n",
    "\n",
    "    welfare = ev.RuleSumRatings()(ev.Ratings([truth])).welfare_\n",
    "    list_agg[4].reset()\n",
    "\n",
    "    print(list_candidates[i])\n",
    "#     plt.imshow(list_agg[4](ratings_candidates).embeddings_)\n",
    "    plt.imshow(np.linalg.pinv(list_agg[4](ratings_candidates).embeddings_), vmin=-50,vmax=50)\n",
    "    plt.show()\n",
    "    weights[i] += np.linalg.pinv(list_agg[4](ratings_candidates).embeddings_).sum(axis=0)\n",
    "    w = list_agg[4](ratings_candidates).winner_\n",
    "    welf[i] += (welfare[w])\n"
   ]
  },
  {
   "cell_type": "code",
   "execution_count": 22,
   "metadata": {
    "ExecuteTime": {
     "end_time": "2022-12-08T16:30:01.338151Z",
     "start_time": "2022-12-08T16:29:59.903440Z"
    },
    "scrolled": false
   },
   "outputs": [
    {
     "data": {
      "image/png": "[encoded data removed]",
      "text/plain": [
       "<Figure size 1080x504 with 1 Axes>"
      ]
     },
     "metadata": {
      "needs_background": "light"
     },
     "output_type": "display_data"
    },
    {
     "data": {
      "image/png": "[encoded data removed]",
      "text/plain": [
       "<Figure size 1080x504 with 1 Axes>"
      ]
     },
     "metadata": {
      "needs_background": "light"
     },
     "output_type": "display_data"
    },
    {
     "data": {
      "image/png": "[encoded data removed]",
      "text/plain": [
       "<Figure size 1080x504 with 1 Axes>"
      ]
     },
     "metadata": {
      "needs_background": "light"
     },
     "output_type": "display_data"
    },
    {
     "data": {
      "image/png": "[encoded data removed]",
      "text/plain": [
       "<Figure size 1080x504 with 1 Axes>"
      ]
     },
     "metadata": {
      "needs_background": "light"
     },
     "output_type": "display_data"
    }
   ],
   "source": [
    "\n",
    "plt.figure(figsize=(15,7))\n",
    "plt.plot(list_candidates,welf,\"o-\")\n",
    "    \n",
    "plt.show()\n",
    "\n",
    "plt.figure(figsize=(15,7))\n",
    "for i in range(n_voters):\n",
    "    plt.plot(list_candidates,weights[:,i]/np.abs(weights).sum(1), 'o-')\n",
    "\n",
    "plt.xlabel(\"candidats (m)\")\n",
    "plt.ylabel(\"poids (w)\")\n",
    "plt.title(\"Evolution du poid avec le nombre de candidat\")\n",
    "# plt.xlim(0,10)\n",
    "plt.show()\n",
    "\n",
    "\n",
    "plt.figure(figsize=(15,7))\n",
    "for i in range(n_voters):\n",
    "    if i <= 5:\n",
    "        plt.plot(list_candidates,weights[:,i]/np.abs(weights).sum(1), 'o-', color='k')\n",
    "    else:\n",
    "        plt.plot(list_candidates,weights[:,i]/np.abs(weights).sum(1), 'o-')\n",
    "\n",
    "plt.xlabel(\"candidats (m)\")\n",
    "plt.ylabel(\"poids (w)\")\n",
    "plt.title(\"Evolution du poid avec le nombre de candidat\")\n",
    "# plt.xlim(0,10)\n",
    "plt.show()\n",
    "\n",
    "\n",
    "\n",
    "plt.figure(figsize=(15,7))\n",
    "tab = np.zeros((l_cand))\n",
    "for i in range(5):\n",
    "    tab += weights[:,i]/np.abs(weights).sum(1)\n",
    "    \n",
    "plt.plot(list_candidates, tab, 'o-', c='k')\n",
    "for i in range(5,n_voters):\n",
    "    plt.plot(list_candidates,weights[:,i]/np.abs(weights).sum(1), 'o-')\n",
    "    \n",
    "plt.plot([0,50],[0,0], \"grey\")\n",
    "\n",
    "plt.xlabel(\"candidats (m)\")\n",
    "plt.ylabel(\"poids (w)\")\n",
    "plt.title(\"Evolution du poid avec le nombre de candidat\")\n",
    "plt.xlim(0)\n",
    "# plt.xlim(0,10)\n",
    "plt.show()"
   ]
  },
  {
   "cell_type": "code",
   "execution_count": 19,
   "metadata": {
    "ExecuteTime": {
     "end_time": "2022-12-08T11:49:04.924305Z",
     "start_time": "2022-12-08T11:48:54.850918Z"
    },
    "scrolled": true
   },
   "outputs": [
    {
     "name": "stderr",
     "output_type": "stream",
     "text": [
      " 47%|████▋     | 4671/10000 [00:10<00:11, 466.33it/s]\n"
     ]
    },
    {
     "ename": "KeyboardInterrupt",
     "evalue": "",
     "output_type": "error",
     "traceback": [
      "\u001b[1;31m---------------------------------------------------------------------------\u001b[0m",
      "\u001b[1;31mKeyError\u001b[0m                                  Traceback (most recent call last)",
      "\u001b[1;32mc:\\users\\theo delemazure\\documents\\ens\\stage nokia\\git\\embedded_voting\\embedded_voting\\utils\\cached.py\u001b[0m in \u001b[0;36m_f\u001b[1;34m(*args)\u001b[0m\n\u001b[0;32m     18\u001b[0m         \u001b[1;32mtry\u001b[0m\u001b[1;33m:\u001b[0m\u001b[1;33m\u001b[0m\u001b[1;33m\u001b[0m\u001b[0m\n\u001b[1;32m---> 19\u001b[1;33m             \u001b[1;32mreturn\u001b[0m \u001b[0margs\u001b[0m\u001b[1;33m[\u001b[0m\u001b[1;36m0\u001b[0m\u001b[1;33m]\u001b[0m\u001b[1;33m.\u001b[0m\u001b[0m_cached_properties\u001b[0m\u001b[1;33m[\u001b[0m\u001b[0mname\u001b[0m\u001b[1;33m]\u001b[0m\u001b[1;33m\u001b[0m\u001b[1;33m\u001b[0m\u001b[0m\n\u001b[0m\u001b[0;32m     20\u001b[0m         \u001b[1;32mexcept\u001b[0m \u001b[0mKeyError\u001b[0m\u001b[1;33m:\u001b[0m\u001b[1;33m\u001b[0m\u001b[1;33m\u001b[0m\u001b[0m\n",
      "\u001b[1;31mKeyError\u001b[0m: 'welfare_'",
      "\nDuring handling of the above exception, another exception occurred:\n",
      "\u001b[1;31mKeyError\u001b[0m                                  Traceback (most recent call last)",
      "\u001b[1;32mc:\\users\\theo delemazure\\documents\\ens\\stage nokia\\git\\embedded_voting\\embedded_voting\\utils\\cached.py\u001b[0m in \u001b[0;36m_f\u001b[1;34m(*args)\u001b[0m\n\u001b[0;32m     18\u001b[0m         \u001b[1;32mtry\u001b[0m\u001b[1;33m:\u001b[0m\u001b[1;33m\u001b[0m\u001b[1;33m\u001b[0m\u001b[0m\n\u001b[1;32m---> 19\u001b[1;33m             \u001b[1;32mreturn\u001b[0m \u001b[0margs\u001b[0m\u001b[1;33m[\u001b[0m\u001b[1;36m0\u001b[0m\u001b[1;33m]\u001b[0m\u001b[1;33m.\u001b[0m\u001b[0m_cached_properties\u001b[0m\u001b[1;33m[\u001b[0m\u001b[0mname\u001b[0m\u001b[1;33m]\u001b[0m\u001b[1;33m\u001b[0m\u001b[1;33m\u001b[0m\u001b[0m\n\u001b[0m\u001b[0;32m     20\u001b[0m         \u001b[1;32mexcept\u001b[0m \u001b[0mKeyError\u001b[0m\u001b[1;33m:\u001b[0m\u001b[1;33m\u001b[0m\u001b[1;33m\u001b[0m\u001b[0m\n",
      "\u001b[1;31mKeyError\u001b[0m: 'scores_focus_on_last_'",
      "\nDuring handling of the above exception, another exception occurred:\n",
      "\u001b[1;31mKeyError\u001b[0m                                  Traceback (most recent call last)",
      "\u001b[1;32mc:\\users\\theo delemazure\\documents\\ens\\stage nokia\\git\\embedded_voting\\embedded_voting\\utils\\cached.py\u001b[0m in \u001b[0;36m_f\u001b[1;34m(*args)\u001b[0m\n\u001b[0;32m     18\u001b[0m         \u001b[1;32mtry\u001b[0m\u001b[1;33m:\u001b[0m\u001b[1;33m\u001b[0m\u001b[1;33m\u001b[0m\u001b[0m\n\u001b[1;32m---> 19\u001b[1;33m             \u001b[1;32mreturn\u001b[0m \u001b[0margs\u001b[0m\u001b[1;33m[\u001b[0m\u001b[1;36m0\u001b[0m\u001b[1;33m]\u001b[0m\u001b[1;33m.\u001b[0m\u001b[0m_cached_properties\u001b[0m\u001b[1;33m[\u001b[0m\u001b[0mname\u001b[0m\u001b[1;33m]\u001b[0m\u001b[1;33m\u001b[0m\u001b[1;33m\u001b[0m\u001b[0m\n\u001b[0m\u001b[0;32m     20\u001b[0m         \u001b[1;32mexcept\u001b[0m \u001b[0mKeyError\u001b[0m\u001b[1;33m:\u001b[0m\u001b[1;33m\u001b[0m\u001b[1;33m\u001b[0m\u001b[0m\n",
      "\u001b[1;31mKeyError\u001b[0m: 'scores_'",
      "\nDuring handling of the above exception, another exception occurred:\n",
      "\u001b[1;31mKeyboardInterrupt\u001b[0m                         Traceback (most recent call last)",
      "\u001b[1;32m<ipython-input-19-35d1d15392b6>\u001b[0m in \u001b[0;36m<module>\u001b[1;34m\u001b[0m\n\u001b[0;32m     15\u001b[0m         \u001b[0mratings_candidates\u001b[0m \u001b[1;33m=\u001b[0m \u001b[0mratings_testing\u001b[0m\u001b[1;33m[\u001b[0m\u001b[1;36m11\u001b[0m\u001b[1;33m:\u001b[0m\u001b[1;36m11\u001b[0m\u001b[1;33m+\u001b[0m\u001b[0mn_voters\u001b[0m\u001b[1;33m,\u001b[0m\u001b[0mmax_candidates\u001b[0m\u001b[1;33m*\u001b[0m\u001b[0mindex_try\u001b[0m\u001b[1;33m:\u001b[0m\u001b[0mmax_candidates\u001b[0m\u001b[1;33m*\u001b[0m\u001b[0mindex_try\u001b[0m\u001b[1;33m+\u001b[0m\u001b[0mn_candidates\u001b[0m\u001b[1;33m]\u001b[0m\u001b[1;33m\u001b[0m\u001b[1;33m\u001b[0m\u001b[0m\n\u001b[0;32m     16\u001b[0m \u001b[1;33m\u001b[0m\u001b[0m\n\u001b[1;32m---> 17\u001b[1;33m         \u001b[0mwelfare\u001b[0m \u001b[1;33m=\u001b[0m \u001b[0mev\u001b[0m\u001b[1;33m.\u001b[0m\u001b[0mRuleSumRatings\u001b[0m\u001b[1;33m(\u001b[0m\u001b[1;33m)\u001b[0m\u001b[1;33m(\u001b[0m\u001b[0mev\u001b[0m\u001b[1;33m.\u001b[0m\u001b[0mRatings\u001b[0m\u001b[1;33m(\u001b[0m\u001b[1;33m[\u001b[0m\u001b[0mtruth\u001b[0m\u001b[1;33m]\u001b[0m\u001b[1;33m)\u001b[0m\u001b[1;33m)\u001b[0m\u001b[1;33m.\u001b[0m\u001b[0mwelfare_\u001b[0m\u001b[1;33m\u001b[0m\u001b[1;33m\u001b[0m\u001b[0m\n\u001b[0m\u001b[0;32m     18\u001b[0m \u001b[1;33m\u001b[0m\u001b[0m\n\u001b[0;32m     19\u001b[0m \u001b[1;33m\u001b[0m\u001b[0m\n",
      "\u001b[1;32mc:\\users\\theo delemazure\\documents\\ens\\stage nokia\\git\\embedded_voting\\embedded_voting\\utils\\cached.py\u001b[0m in \u001b[0;36m_f\u001b[1;34m(*args)\u001b[0m\n\u001b[0;32m     20\u001b[0m         \u001b[1;32mexcept\u001b[0m \u001b[0mKeyError\u001b[0m\u001b[1;33m:\u001b[0m\u001b[1;33m\u001b[0m\u001b[1;33m\u001b[0m\u001b[0m\n\u001b[0;32m     21\u001b[0m             \u001b[1;31m# Not stored in cache\u001b[0m\u001b[1;33m\u001b[0m\u001b[1;33m\u001b[0m\u001b[1;33m\u001b[0m\u001b[0m\n\u001b[1;32m---> 22\u001b[1;33m             \u001b[0mvalue\u001b[0m \u001b[1;33m=\u001b[0m \u001b[0mf\u001b[0m\u001b[1;33m(\u001b[0m\u001b[1;33m*\u001b[0m\u001b[0margs\u001b[0m\u001b[1;33m)\u001b[0m\u001b[1;33m\u001b[0m\u001b[1;33m\u001b[0m\u001b[0m\n\u001b[0m\u001b[0;32m     23\u001b[0m             \u001b[0margs\u001b[0m\u001b[1;33m[\u001b[0m\u001b[1;36m0\u001b[0m\u001b[1;33m]\u001b[0m\u001b[1;33m.\u001b[0m\u001b[0m_cached_properties\u001b[0m\u001b[1;33m[\u001b[0m\u001b[0mname\u001b[0m\u001b[1;33m]\u001b[0m \u001b[1;33m=\u001b[0m \u001b[0mvalue\u001b[0m\u001b[1;33m\u001b[0m\u001b[1;33m\u001b[0m\u001b[0m\n\u001b[0;32m     24\u001b[0m             \u001b[1;32mreturn\u001b[0m \u001b[0mvalue\u001b[0m\u001b[1;33m\u001b[0m\u001b[1;33m\u001b[0m\u001b[0m\n",
      "\u001b[1;32mc:\\users\\theo delemazure\\documents\\ens\\stage nokia\\git\\embedded_voting\\embedded_voting\\rules\\singlewinner_rules\\rule.py\u001b[0m in \u001b[0;36mwelfare_\u001b[1;34m(self)\u001b[0m\n\u001b[0;32m    185\u001b[0m             \u001b[0mWelfare\u001b[0m \u001b[0mof\u001b[0m \u001b[0mall\u001b[0m \u001b[0mcandidates\u001b[0m\u001b[1;33m.\u001b[0m\u001b[1;33m\u001b[0m\u001b[1;33m\u001b[0m\u001b[0m\n\u001b[0;32m    186\u001b[0m         \"\"\"\n\u001b[1;32m--> 187\u001b[1;33m         \u001b[0mmax_score\u001b[0m \u001b[1;33m=\u001b[0m \u001b[0mnp\u001b[0m\u001b[1;33m.\u001b[0m\u001b[0mmax\u001b[0m\u001b[1;33m(\u001b[0m\u001b[0mself\u001b[0m\u001b[1;33m.\u001b[0m\u001b[0mscores_focus_on_last_\u001b[0m\u001b[1;33m)\u001b[0m\u001b[1;33m\u001b[0m\u001b[1;33m\u001b[0m\u001b[0m\n\u001b[0m\u001b[0;32m    188\u001b[0m         \u001b[0mmin_score\u001b[0m \u001b[1;33m=\u001b[0m \u001b[0mnp\u001b[0m\u001b[1;33m.\u001b[0m\u001b[0mmin\u001b[0m\u001b[1;33m(\u001b[0m\u001b[0mself\u001b[0m\u001b[1;33m.\u001b[0m\u001b[0mscores_focus_on_last_\u001b[0m\u001b[1;33m)\u001b[0m\u001b[1;33m\u001b[0m\u001b[1;33m\u001b[0m\u001b[0m\n\u001b[0;32m    189\u001b[0m         \u001b[1;32mif\u001b[0m \u001b[0mmax_score\u001b[0m \u001b[1;33m==\u001b[0m \u001b[0mmin_score\u001b[0m\u001b[1;33m:\u001b[0m\u001b[1;33m\u001b[0m\u001b[1;33m\u001b[0m\u001b[0m\n",
      "\u001b[1;32mc:\\users\\theo delemazure\\documents\\ens\\stage nokia\\git\\embedded_voting\\embedded_voting\\utils\\cached.py\u001b[0m in \u001b[0;36m_f\u001b[1;34m(*args)\u001b[0m\n\u001b[0;32m     20\u001b[0m         \u001b[1;32mexcept\u001b[0m \u001b[0mKeyError\u001b[0m\u001b[1;33m:\u001b[0m\u001b[1;33m\u001b[0m\u001b[1;33m\u001b[0m\u001b[0m\n\u001b[0;32m     21\u001b[0m             \u001b[1;31m# Not stored in cache\u001b[0m\u001b[1;33m\u001b[0m\u001b[1;33m\u001b[0m\u001b[1;33m\u001b[0m\u001b[0m\n\u001b[1;32m---> 22\u001b[1;33m             \u001b[0mvalue\u001b[0m \u001b[1;33m=\u001b[0m \u001b[0mf\u001b[0m\u001b[1;33m(\u001b[0m\u001b[1;33m*\u001b[0m\u001b[0margs\u001b[0m\u001b[1;33m)\u001b[0m\u001b[1;33m\u001b[0m\u001b[1;33m\u001b[0m\u001b[0m\n\u001b[0m\u001b[0;32m     23\u001b[0m             \u001b[0margs\u001b[0m\u001b[1;33m[\u001b[0m\u001b[1;36m0\u001b[0m\u001b[1;33m]\u001b[0m\u001b[1;33m.\u001b[0m\u001b[0m_cached_properties\u001b[0m\u001b[1;33m[\u001b[0m\u001b[0mname\u001b[0m\u001b[1;33m]\u001b[0m \u001b[1;33m=\u001b[0m \u001b[0mvalue\u001b[0m\u001b[1;33m\u001b[0m\u001b[1;33m\u001b[0m\u001b[0m\n\u001b[0;32m     24\u001b[0m             \u001b[1;32mreturn\u001b[0m \u001b[0mvalue\u001b[0m\u001b[1;33m\u001b[0m\u001b[1;33m\u001b[0m\u001b[0m\n",
      "\u001b[1;32mc:\\users\\theo delemazure\\documents\\ens\\stage nokia\\git\\embedded_voting\\embedded_voting\\rules\\singlewinner_rules\\rule.py\u001b[0m in \u001b[0;36mscores_focus_on_last_\u001b[1;34m(self)\u001b[0m\n\u001b[0;32m    141\u001b[0m         \"\"\"\n\u001b[0;32m    142\u001b[0m         \u001b[1;32mif\u001b[0m \u001b[0mself\u001b[0m\u001b[1;33m.\u001b[0m\u001b[0mscore_components\u001b[0m \u001b[1;33m==\u001b[0m \u001b[1;36m1\u001b[0m\u001b[1;33m:\u001b[0m\u001b[1;33m\u001b[0m\u001b[1;33m\u001b[0m\u001b[0m\n\u001b[1;32m--> 143\u001b[1;33m             \u001b[1;32mreturn\u001b[0m \u001b[0mself\u001b[0m\u001b[1;33m.\u001b[0m\u001b[0mscores_\u001b[0m\u001b[1;33m\u001b[0m\u001b[1;33m\u001b[0m\u001b[0m\n\u001b[0m\u001b[0;32m    144\u001b[0m         \u001b[1;32melse\u001b[0m\u001b[1;33m:\u001b[0m\u001b[1;33m\u001b[0m\u001b[1;33m\u001b[0m\u001b[0m\n\u001b[0;32m    145\u001b[0m             \u001b[0mmax_comp\u001b[0m \u001b[1;33m=\u001b[0m \u001b[0mmax\u001b[0m\u001b[1;33m(\u001b[0m\u001b[0mself\u001b[0m\u001b[1;33m.\u001b[0m\u001b[0mscores_\u001b[0m\u001b[1;33m)\u001b[0m\u001b[1;33m\u001b[0m\u001b[1;33m\u001b[0m\u001b[0m\n",
      "\u001b[1;32mc:\\users\\theo delemazure\\documents\\ens\\stage nokia\\git\\embedded_voting\\embedded_voting\\utils\\cached.py\u001b[0m in \u001b[0;36m_f\u001b[1;34m(*args)\u001b[0m\n\u001b[0;32m     20\u001b[0m         \u001b[1;32mexcept\u001b[0m \u001b[0mKeyError\u001b[0m\u001b[1;33m:\u001b[0m\u001b[1;33m\u001b[0m\u001b[1;33m\u001b[0m\u001b[0m\n\u001b[0;32m     21\u001b[0m             \u001b[1;31m# Not stored in cache\u001b[0m\u001b[1;33m\u001b[0m\u001b[1;33m\u001b[0m\u001b[1;33m\u001b[0m\u001b[0m\n\u001b[1;32m---> 22\u001b[1;33m             \u001b[0mvalue\u001b[0m \u001b[1;33m=\u001b[0m \u001b[0mf\u001b[0m\u001b[1;33m(\u001b[0m\u001b[1;33m*\u001b[0m\u001b[0margs\u001b[0m\u001b[1;33m)\u001b[0m\u001b[1;33m\u001b[0m\u001b[1;33m\u001b[0m\u001b[0m\n\u001b[0m\u001b[0;32m     23\u001b[0m             \u001b[0margs\u001b[0m\u001b[1;33m[\u001b[0m\u001b[1;36m0\u001b[0m\u001b[1;33m]\u001b[0m\u001b[1;33m.\u001b[0m\u001b[0m_cached_properties\u001b[0m\u001b[1;33m[\u001b[0m\u001b[0mname\u001b[0m\u001b[1;33m]\u001b[0m \u001b[1;33m=\u001b[0m \u001b[0mvalue\u001b[0m\u001b[1;33m\u001b[0m\u001b[1;33m\u001b[0m\u001b[0m\n\u001b[0;32m     24\u001b[0m             \u001b[1;32mreturn\u001b[0m \u001b[0mvalue\u001b[0m\u001b[1;33m\u001b[0m\u001b[1;33m\u001b[0m\u001b[0m\n",
      "\u001b[1;32mc:\\users\\theo delemazure\\documents\\ens\\stage nokia\\git\\embedded_voting\\embedded_voting\\rules\\singlewinner_rules\\rule.py\u001b[0m in \u001b[0;36mscores_\u001b[1;34m(self)\u001b[0m\n\u001b[0;32m     97\u001b[0m             \u001b[1;32mand\u001b[0m \u001b[0ma\u001b[0m \u001b[0mtuple\u001b[0m \u001b[0mof\u001b[0m \u001b[0mlength\u001b[0m \u001b[1;33m:\u001b[0m\u001b[0mattr\u001b[0m\u001b[1;33m:\u001b[0m\u001b[0;31m`\u001b[0m\u001b[0mscore_components\u001b[0m\u001b[0;31m`\u001b[0m \u001b[0motherwise\u001b[0m\u001b[1;33m.\u001b[0m\u001b[1;33m\u001b[0m\u001b[1;33m\u001b[0m\u001b[0m\n\u001b[0;32m     98\u001b[0m         \"\"\"\n\u001b[1;32m---> 99\u001b[1;33m         \u001b[1;32mreturn\u001b[0m \u001b[1;33m[\u001b[0m\u001b[0mself\u001b[0m\u001b[1;33m.\u001b[0m\u001b[0m_score_\u001b[0m\u001b[1;33m(\u001b[0m\u001b[0mcandidate\u001b[0m\u001b[1;33m)\u001b[0m \u001b[1;32mfor\u001b[0m \u001b[0mcandidate\u001b[0m \u001b[1;32min\u001b[0m \u001b[0mrange\u001b[0m\u001b[1;33m(\u001b[0m\u001b[0mself\u001b[0m\u001b[1;33m.\u001b[0m\u001b[0mratings_\u001b[0m\u001b[1;33m.\u001b[0m\u001b[0mn_candidates\u001b[0m\u001b[1;33m)\u001b[0m\u001b[1;33m]\u001b[0m\u001b[1;33m\u001b[0m\u001b[1;33m\u001b[0m\u001b[0m\n\u001b[0m\u001b[0;32m    100\u001b[0m \u001b[1;33m\u001b[0m\u001b[0m\n\u001b[0;32m    101\u001b[0m     \u001b[1;32mdef\u001b[0m \u001b[0mscore_\u001b[0m\u001b[1;33m(\u001b[0m\u001b[0mself\u001b[0m\u001b[1;33m,\u001b[0m \u001b[0mcandidate\u001b[0m\u001b[1;33m)\u001b[0m\u001b[1;33m:\u001b[0m\u001b[1;33m\u001b[0m\u001b[1;33m\u001b[0m\u001b[0m\n",
      "\u001b[1;32mc:\\users\\theo delemazure\\documents\\ens\\stage nokia\\git\\embedded_voting\\embedded_voting\\rules\\singlewinner_rules\\rule.py\u001b[0m in \u001b[0;36m<listcomp>\u001b[1;34m(.0)\u001b[0m\n\u001b[0;32m     97\u001b[0m             \u001b[1;32mand\u001b[0m \u001b[0ma\u001b[0m \u001b[0mtuple\u001b[0m \u001b[0mof\u001b[0m \u001b[0mlength\u001b[0m \u001b[1;33m:\u001b[0m\u001b[0mattr\u001b[0m\u001b[1;33m:\u001b[0m\u001b[0;31m`\u001b[0m\u001b[0mscore_components\u001b[0m\u001b[0;31m`\u001b[0m \u001b[0motherwise\u001b[0m\u001b[1;33m.\u001b[0m\u001b[1;33m\u001b[0m\u001b[1;33m\u001b[0m\u001b[0m\n\u001b[0;32m     98\u001b[0m         \"\"\"\n\u001b[1;32m---> 99\u001b[1;33m         \u001b[1;32mreturn\u001b[0m \u001b[1;33m[\u001b[0m\u001b[0mself\u001b[0m\u001b[1;33m.\u001b[0m\u001b[0m_score_\u001b[0m\u001b[1;33m(\u001b[0m\u001b[0mcandidate\u001b[0m\u001b[1;33m)\u001b[0m \u001b[1;32mfor\u001b[0m \u001b[0mcandidate\u001b[0m \u001b[1;32min\u001b[0m \u001b[0mrange\u001b[0m\u001b[1;33m(\u001b[0m\u001b[0mself\u001b[0m\u001b[1;33m.\u001b[0m\u001b[0mratings_\u001b[0m\u001b[1;33m.\u001b[0m\u001b[0mn_candidates\u001b[0m\u001b[1;33m)\u001b[0m\u001b[1;33m]\u001b[0m\u001b[1;33m\u001b[0m\u001b[1;33m\u001b[0m\u001b[0m\n\u001b[0m\u001b[0;32m    100\u001b[0m \u001b[1;33m\u001b[0m\u001b[0m\n\u001b[0;32m    101\u001b[0m     \u001b[1;32mdef\u001b[0m \u001b[0mscore_\u001b[0m\u001b[1;33m(\u001b[0m\u001b[0mself\u001b[0m\u001b[1;33m,\u001b[0m \u001b[0mcandidate\u001b[0m\u001b[1;33m)\u001b[0m\u001b[1;33m:\u001b[0m\u001b[1;33m\u001b[0m\u001b[1;33m\u001b[0m\u001b[0m\n",
      "\u001b[1;32mc:\\users\\theo delemazure\\documents\\ens\\stage nokia\\git\\embedded_voting\\embedded_voting\\rules\\singlewinner_rules\\rule_sum_ratings.py\u001b[0m in \u001b[0;36m_score_\u001b[1;34m(self, candidate)\u001b[0m\n\u001b[0;32m     28\u001b[0m     \"\"\"\n\u001b[0;32m     29\u001b[0m     \u001b[1;32mdef\u001b[0m \u001b[0m_score_\u001b[0m\u001b[1;33m(\u001b[0m\u001b[0mself\u001b[0m\u001b[1;33m,\u001b[0m \u001b[0mcandidate\u001b[0m\u001b[1;33m)\u001b[0m\u001b[1;33m:\u001b[0m\u001b[1;33m\u001b[0m\u001b[1;33m\u001b[0m\u001b[0m\n\u001b[1;32m---> 30\u001b[1;33m         \u001b[1;32mreturn\u001b[0m \u001b[0mself\u001b[0m\u001b[1;33m.\u001b[0m\u001b[0mratings_\u001b[0m\u001b[1;33m.\u001b[0m\u001b[0mcandidate_ratings\u001b[0m\u001b[1;33m(\u001b[0m\u001b[0mcandidate\u001b[0m\u001b[1;33m)\u001b[0m\u001b[1;33m.\u001b[0m\u001b[0msum\u001b[0m\u001b[1;33m(\u001b[0m\u001b[1;33m)\u001b[0m\u001b[1;33m\u001b[0m\u001b[1;33m\u001b[0m\u001b[0m\n\u001b[0m",
      "\u001b[1;32mc:\\users\\theo delemazure\\documents\\ens\\stage nokia\\git\\embedded_voting\\embedded_voting\\ratings\\ratings.py\u001b[0m in \u001b[0;36mcandidate_ratings\u001b[1;34m(self, i)\u001b[0m\n\u001b[0;32m     55\u001b[0m \u001b[1;33m\u001b[0m\u001b[0m\n\u001b[0;32m     56\u001b[0m     \u001b[1;32mdef\u001b[0m \u001b[0mcandidate_ratings\u001b[0m\u001b[1;33m(\u001b[0m\u001b[0mself\u001b[0m\u001b[1;33m,\u001b[0m \u001b[0mi\u001b[0m\u001b[1;33m)\u001b[0m\u001b[1;33m:\u001b[0m\u001b[1;33m\u001b[0m\u001b[1;33m\u001b[0m\u001b[0m\n\u001b[1;32m---> 57\u001b[1;33m         \u001b[1;32mreturn\u001b[0m \u001b[0mnp\u001b[0m\u001b[1;33m.\u001b[0m\u001b[0marray\u001b[0m\u001b[1;33m(\u001b[0m\u001b[0mself\u001b[0m\u001b[1;33m[\u001b[0m\u001b[1;33m:\u001b[0m\u001b[1;33m,\u001b[0m \u001b[0mi\u001b[0m\u001b[1;33m:\u001b[0m\u001b[0mi\u001b[0m\u001b[1;33m+\u001b[0m\u001b[1;36m1\u001b[0m\u001b[1;33m]\u001b[0m\u001b[1;33m)\u001b[0m\u001b[1;33m.\u001b[0m\u001b[0mT\u001b[0m\u001b[1;33m[\u001b[0m\u001b[1;36m0\u001b[0m\u001b[1;33m]\u001b[0m\u001b[1;33m\u001b[0m\u001b[1;33m\u001b[0m\u001b[0m\n\u001b[0m",
      "\u001b[1;31mKeyboardInterrupt\u001b[0m: "
     ]
    }
   ],
   "source": [
    "n_agg = len(list_agg)\n",
    "list_candidates = [2,3,4] + list(np.arange(5,51,5))\n",
    "l_cand = len(list_candidates)\n",
    "max_candidates = 50\n",
    "n_voters = 24\n",
    "results_algo = np.zeros((l_cand))\n",
    "\n",
    "\n",
    "\n",
    "for index_try in tqdm(range(n_trys)):\n",
    "    \n",
    "    for i in range(l_cand):\n",
    "        n_candidates = list_candidates[i]\n",
    "        truth = ratings_testing[0,max_candidates*index_try:max_candidates*index_try+n_candidates]\n",
    "        ratings_candidates = ratings_testing[11:11+n_voters,max_candidates*index_try:max_candidates*index_try+n_candidates]\n",
    "\n",
    "        welfare = ev.RuleSumRatings()(ev.Ratings([truth])).welfare_\n",
    "\n",
    "\n",
    "        w = np.argmax(ratings_candidates[0])\n",
    "        results_algo[i] += welfare[w]\n",
    "            \n",
    "results_algo/n_trys"
   ]
  },
  {
   "cell_type": "code",
   "execution_count": 24,
   "metadata": {
    "ExecuteTime": {
     "end_time": "2022-10-24T15:24:57.793805Z",
     "start_time": "2022-10-24T15:24:57.786824Z"
    }
   },
   "outputs": [
    {
     "name": "stdout",
     "output_type": "stream",
     "text": [
      "2 0.5764\n",
      "3 0.608775939770273\n",
      "4 0.6188116708739182\n",
      "5 0.6222528494556046\n",
      "10 0.6399266848394259\n",
      "15 0.6492231455654601\n",
      "20 0.654869210573013\n",
      "25 0.6604193417713734\n",
      "30 0.6639371423478481\n",
      "35 0.6666235678136397\n",
      "40 0.6702430307685925\n",
      "45 0.6750097713442761\n",
      "50 0.6788517311954338\n"
     ]
    }
   ],
   "source": [
    "tab = [2,3,4] + [i*5 for i in range(1,11)]\n",
    "for i in range(len(tab)):\n",
    "    print(tab[i], (results_algo/n_trys)[i])"
   ]
  },
  {
   "cell_type": "code",
   "execution_count": 20,
   "metadata": {
    "ExecuteTime": {
     "end_time": "2022-12-08T12:06:41.363985Z",
     "start_time": "2022-12-08T11:49:09.746395Z"
    },
    "scrolled": false
   },
   "outputs": [
    {
     "name": "stderr",
     "output_type": "stream",
     "text": [
      "  0%|          | 1/10000 [00:00<16:41,  9.98it/s]C:\\Users\\Theo Delemazure\\env\\lib\\site-packages\\ipykernel_launcher.py:2: RuntimeWarning: invalid value encountered in true_divide\n",
      "  \n",
      "C:\\Users\\Theo Delemazure\\env\\lib\\site-packages\\ipykernel_launcher.py:5: RuntimeWarning: invalid value encountered in true_divide\n",
      "  \"\"\"\n",
      "100%|██████████| 10000/10000 [17:31<00:00,  9.51it/s]\n"
     ]
    }
   ],
   "source": [
    "n_agg = len(list_agg)\n",
    "list_candidates = [2,3,4] + list(np.arange(5,51,5))\n",
    "l_cand = len(list_candidates)\n",
    "max_candidates = 50\n",
    "n_voters = 10\n",
    "results_exp = np.zeros((n_agg, l_cand))\n",
    "\n",
    "training = ratings_training[26:26+n_voters]\n",
    "_ = list_agg[-2](training).winner_\n",
    "list_agg[-2].train()\n",
    "_ = list_agg[-1](training).winner_\n",
    "list_agg[-1].train()\n",
    "\n",
    "\n",
    "for index_try in tqdm(range(n_trys)):\n",
    "    \n",
    "    for i in range(l_cand):\n",
    "        n_candidates = list_candidates[i]\n",
    "        truth = ratings_testing[0,max_candidates*index_try:max_candidates*index_try+n_candidates]\n",
    "        ratings_candidates = ratings_testing[26:26+n_voters,max_candidates*index_try:max_candidates*index_try+n_candidates]\n",
    "\n",
    "        for agg in list_agg[:-2]:\n",
    "            agg.reset()\n",
    "\n",
    "        ## training\n",
    "        welfare = ev.RuleSumRatings()(ev.Ratings([truth])).welfare_\n",
    "        # getting the results\n",
    "\n",
    "        for k,agg in enumerate(list_agg):\n",
    "            w = agg(ratings_candidates).winner_\n",
    "            results_exp[k][i] += welfare[w]\n",
    "            \n",
    "results_exp_3 = results_exp"
   ]
  },
  {
   "cell_type": "code",
   "execution_count": 10,
   "metadata": {
    "ExecuteTime": {
     "end_time": "2022-12-08T11:39:19.276500Z",
     "start_time": "2022-12-08T11:39:19.265790Z"
    }
   },
   "outputs": [
    {
     "data": {
      "text/plain": [
       "array([[6659.        , 7589.39780727, 7844.62040344, 7820.34414759,\n",
       "        6567.71929215, 7511.50878851, 8045.75520381, 8277.26688231,\n",
       "        8377.90548037, 8473.16000767, 8536.71544904, 8572.57084729,\n",
       "        8597.18889227]])"
      ]
     },
     "execution_count": 10,
     "metadata": {},
     "output_type": "execute_result"
    }
   ],
   "source": [
    "results_exp_3"
   ]
  },
  {
   "cell_type": "code",
   "execution_count": 40,
   "metadata": {
    "ExecuteTime": {
     "end_time": "2022-12-07T17:46:01.741516Z",
     "start_time": "2022-12-07T17:46:01.314657Z"
    }
   },
   "outputs": [
    {
     "ename": "NameError",
     "evalue": "name 'order_next' is not defined",
     "output_type": "error",
     "traceback": [
      "\u001b[1;31m---------------------------------------------------------------------------\u001b[0m",
      "\u001b[1;31mNameError\u001b[0m                                 Traceback (most recent call last)",
      "\u001b[1;32m<ipython-input-40-6f7aa3462d3b>\u001b[0m in \u001b[0;36m<module>\u001b[1;34m\u001b[0m\n\u001b[0;32m      3\u001b[0m \u001b[1;32mfor\u001b[0m \u001b[0mi\u001b[0m \u001b[1;32min\u001b[0m \u001b[0mrange\u001b[0m\u001b[1;33m(\u001b[0m\u001b[0mlen\u001b[0m\u001b[1;33m(\u001b[0m\u001b[0mresults_exp\u001b[0m\u001b[1;33m)\u001b[0m\u001b[1;33m)\u001b[0m\u001b[1;33m:\u001b[0m\u001b[1;33m\u001b[0m\u001b[1;33m\u001b[0m\u001b[0m\n\u001b[0;32m      4\u001b[0m     plt.plot(list_candidates, \n\u001b[1;32m----> 5\u001b[1;33m              \u001b[0mresults_exp\u001b[0m\u001b[1;33m[\u001b[0m\u001b[0morder_next\u001b[0m\u001b[1;33m[\u001b[0m\u001b[0mi\u001b[0m\u001b[1;33m]\u001b[0m\u001b[1;33m]\u001b[0m\u001b[1;33m/\u001b[0m\u001b[0mn_trys\u001b[0m\u001b[1;33m,\u001b[0m\u001b[1;33m\u001b[0m\u001b[1;33m\u001b[0m\u001b[0m\n\u001b[0m\u001b[0;32m      6\u001b[0m              \u001b[1;34m'o-'\u001b[0m\u001b[1;33m,\u001b[0m\u001b[1;33m\u001b[0m\u001b[1;33m\u001b[0m\u001b[0m\n\u001b[0;32m      7\u001b[0m              \u001b[0mlabel\u001b[0m\u001b[1;33m=\u001b[0m\u001b[0mrules_names\u001b[0m\u001b[1;33m[\u001b[0m\u001b[0morder_next\u001b[0m\u001b[1;33m[\u001b[0m\u001b[0mi\u001b[0m\u001b[1;33m]\u001b[0m\u001b[1;33m]\u001b[0m\u001b[1;33m,\u001b[0m\u001b[1;33m\u001b[0m\u001b[1;33m\u001b[0m\u001b[0m\n",
      "\u001b[1;31mNameError\u001b[0m: name 'order_next' is not defined"
     ]
    },
    {
     "data": {
      "text/plain": [
       "<Figure size 1440x576 with 0 Axes>"
      ]
     },
     "metadata": {},
     "output_type": "display_data"
    }
   ],
   "source": [
    "rules_names = [agg.name for agg in list_agg]\n",
    "_ = plt.figure(figsize=(20, 8))\n",
    "for i in range(len(results_exp)):\n",
    "    plt.plot(list_candidates, \n",
    "             results_exp[order_next[i]]/n_trys, \n",
    "             'o-', \n",
    "             label=rules_names[order_next[i]],\n",
    "             color=colors[algos_name[order_next[i]]], \n",
    "             linewidth=3)\n",
    "\n",
    "#plt.ylim(0.8, 1)\n",
    "plt.xlim(2,50)\n",
    "plt.xlabel(\"Number of candidates\")\n",
    "plt.ylabel(\"Average relative welfare\")\n",
    "# plt.title(\"Evolution of the welfare with number of candidates\")\n",
    "plt.legend()\n",
    "plt.grid(0.3)\n",
    "plt.show()"
   ]
  },
  {
   "cell_type": "code",
   "execution_count": 21,
   "metadata": {
    "ExecuteTime": {
     "end_time": "2022-12-08T12:06:48.659679Z",
     "start_time": "2022-12-08T12:06:48.642665Z"
    }
   },
   "outputs": [],
   "source": [
    "np.savetxt(\"results_expe_3_small3.csv\", results_exp_3/n_trys, delimiter=\",\")"
   ]
  },
  {
   "cell_type": "code",
   "execution_count": 15,
   "metadata": {
    "ExecuteTime": {
     "end_time": "2022-09-01T09:16:34.188380Z",
     "start_time": "2022-09-01T09:11:42.986136Z"
    }
   },
   "outputs": [
    {
     "name": "stderr",
     "output_type": "stream",
     "text": [
      "100%|██████████| 10000/10000 [00:17<00:00, 557.87it/s]\n",
      "100%|██████████| 10000/10000 [00:13<00:00, 755.80it/s]\n",
      "100%|██████████| 10000/10000 [00:24<00:00, 403.19it/s]\n",
      "100%|██████████| 10000/10000 [00:26<00:00, 377.35it/s]\n",
      "100%|██████████| 10000/10000 [00:20<00:00, 499.49it/s]\n",
      "100%|██████████| 10000/10000 [00:16<00:00, 611.38it/s]\n",
      "100%|██████████| 10000/10000 [00:21<00:00, 473.31it/s]\n",
      "100%|██████████| 10000/10000 [00:22<00:00, 436.26it/s]\n",
      "100%|██████████| 10000/10000 [00:26<00:00, 371.73it/s]\n",
      "100%|██████████| 10000/10000 [00:25<00:00, 387.14it/s]\n",
      "100%|██████████| 10000/10000 [00:22<00:00, 445.06it/s]\n",
      "100%|██████████| 10000/10000 [00:23<00:00, 420.99it/s]\n",
      "100%|██████████| 10000/10000 [00:29<00:00, 341.15it/s]\n"
     ]
    }
   ],
   "source": [
    "n_agg = len(list_agg)\n",
    "list_candidates = [2,3,4] + list(np.arange(5,51,5))\n",
    "l_cand = len(list_candidates)\n",
    "max_candidates = 50\n",
    "n_voters = 24\n",
    "results_exp = np.zeros((2, l_cand))\n",
    "\n",
    "for i in range(l_cand):\n",
    "    n_candidates = list_candidates[i]\n",
    "    \n",
    "    algo_welfare = np.zeros(n_voters)\n",
    "    list_agg = [ev.Aggregator(rule=ev.RuleModelAware([20,1,1,1,1], np.eye(5), 10, 2))]\n",
    "    \n",
    "    for index_try in tqdm(range(n_trys)):\n",
    "        truth = ratings_testing[0,max_candidates*index_try:max_candidates*index_try+n_candidates]\n",
    "        ratings_candidates = ratings_testing[11:11+n_voters,max_candidates*index_try:max_candidates*index_try+n_candidates]\n",
    "\n",
    "        for agg in list_agg:\n",
    "            agg.reset()\n",
    "        welfare = ev.RuleSumRatings()(ev.Ratings([truth])).welfare_\n",
    "        \n",
    "        for j in range(len(ratings_candidates)):\n",
    "            w = np.argsort(ratings_candidates[j])[-1]\n",
    "            algo_welfare[j] += welfare[w]\n",
    "            \n",
    "        for k,agg in enumerate(list_agg):\n",
    "            w = agg(ratings_candidates).winner_\n",
    "            results_exp[k][i] += welfare[w]\n",
    "            \n",
    "    results_exp[1][i] = np.max(algo_welfare)"
   ]
  },
  {
   "cell_type": "code",
   "execution_count": 16,
   "metadata": {
    "ExecuteTime": {
     "end_time": "2022-09-01T09:16:34.202263Z",
     "start_time": "2022-09-01T09:16:34.191373Z"
    }
   },
   "outputs": [],
   "source": [
    "np.savetxt(\"results_expe_3_bounds.csv\", results_exp/n_trys, delimiter=\",\")"
   ]
  },
  {
   "cell_type": "markdown",
   "metadata": {},
   "source": [
    "# Groups noise"
   ]
  },
  {
   "cell_type": "code",
   "execution_count": 24,
   "metadata": {
    "ExecuteTime": {
     "end_time": "2022-12-07T12:14:30.475714Z",
     "start_time": "2022-12-07T12:12:43.233910Z"
    }
   },
   "outputs": [
    {
     "name": "stderr",
     "output_type": "stream",
     "text": [
      "100%|██████████| 10000/10000 [00:01<00:00, 7151.59it/s]\n",
      "100%|██████████| 10000/10000 [00:01<00:00, 7060.95it/s]\n",
      "100%|██████████| 10000/10000 [00:01<00:00, 7065.46it/s]\n",
      "100%|██████████| 10000/10000 [00:01<00:00, 7071.06it/s]\n",
      "100%|██████████| 10000/10000 [00:01<00:00, 7095.91it/s]\n",
      "100%|██████████| 10000/10000 [00:01<00:00, 6953.59it/s]\n",
      "100%|██████████| 10000/10000 [00:01<00:00, 6905.48it/s]\n",
      "100%|██████████| 10000/10000 [00:01<00:00, 6982.46it/s]\n",
      "100%|██████████| 10000/10000 [00:01<00:00, 6891.09it/s]\n",
      "100%|██████████| 10000/10000 [00:01<00:00, 6911.68it/s]\n",
      "100%|██████████| 10000/10000 [00:01<00:00, 5664.72it/s]\n"
     ]
    }
   ],
   "source": [
    "list_gnoises = list(np.arange(0,21,2))\n",
    "l_gnoises = len(list_gnoises)\n",
    "max_candidates = 50\n",
    "n_voters = 24\n",
    "n_candidates = 20\n",
    "results_algo = np.zeros((l_gnoises))\n",
    "\n",
    "for i in range(l_gnoises):\n",
    "    noise = list_gnoises[i]\n",
    "    \n",
    "    if noise == 10:\n",
    "        ratings_training = np.loadtxt(\"ratings_base_case_training_normal.csv\",dtype=float,delimiter=\",\")\n",
    "        ratings_testing = np.loadtxt(\"ratings_base_case_testing_normal.csv\",dtype=float,delimiter=\",\")\n",
    "        training = ratings_training[11:35]\n",
    "    else:\n",
    "        ratings_training = np.loadtxt(\"ratings_gnoise_%i_training_normal.csv\"%noise,dtype=float,delimiter=\",\")\n",
    "        ratings_testing = np.loadtxt(\"ratings_gnoise_%i_testing_normal.csv\"%noise,dtype=float,delimiter=\",\")\n",
    "        training = ratings_training[1:]\n",
    "    \n",
    "    for index_try in tqdm(range(n_trys)):\n",
    "    \n",
    "        if noise == 10:\n",
    "            truth = ratings_testing[0,max_candidates*index_try:max_candidates*index_try+n_candidates]\n",
    "            ratings_candidates = ratings_testing[11:35,max_candidates*index_try:max_candidates*index_try+n_candidates]\n",
    "        else:\n",
    "            truth = ratings_testing[0,n_candidates*index_try:n_candidates*index_try+n_candidates]\n",
    "            ratings_candidates = ratings_testing[1:,n_candidates*index_try:n_candidates*index_try+n_candidates]\n",
    "            \n",
    "        ## training\n",
    "        welfare = ev.RuleSumRatings()(ev.Ratings([truth])).welfare_\n",
    "        # getting the results\n",
    "\n",
    "\n",
    "        w = np.argmax(ratings_candidates[0])\n",
    "        results_algo[i] += welfare[w]\n",
    "            \n"
   ]
  },
  {
   "cell_type": "code",
   "execution_count": 32,
   "metadata": {
    "ExecuteTime": {
     "end_time": "2022-10-24T15:40:44.067676Z",
     "start_time": "2022-10-24T15:40:44.060694Z"
    }
   },
   "outputs": [
    {
     "name": "stdout",
     "output_type": "stream",
     "text": [
      "0 0.910746124377702\n",
      "2 0.8683476714004779\n",
      "4 0.7938131966226283\n",
      "6 0.7356718440401965\n",
      "8 0.6917552954598909\n",
      "10 0.654869210573013\n",
      "12 0.6336371975228282\n",
      "14 0.6131733158481762\n",
      "16 0.6028307065167292\n",
      "18 0.5957334030420606\n",
      "20 0.5838869227930436\n"
     ]
    }
   ],
   "source": [
    "for i in range(len(list_gnoises)):\n",
    "    print(list_gnoises[i], (results_algo/n_trys)[i])"
   ]
  },
  {
   "cell_type": "code",
   "execution_count": 26,
   "metadata": {
    "ExecuteTime": {
     "end_time": "2022-12-07T12:49:49.045633Z",
     "start_time": "2022-12-07T12:36:19.376173Z"
    }
   },
   "outputs": [
    {
     "name": "stderr",
     "output_type": "stream",
     "text": [
      "100%|██████████| 10000/10000 [03:03<00:00, 54.47it/s]\n",
      "100%|██████████| 10000/10000 [02:37<00:00, 63.37it/s]\n",
      "100%|██████████| 10000/10000 [02:57<00:00, 56.34it/s]\n",
      "100%|██████████| 10000/10000 [02:31<00:00, 66.00it/s]\n",
      " 71%|███████▏  | 7127/10000 [01:46<00:43, 66.73it/s]\n"
     ]
    },
    {
     "ename": "KeyboardInterrupt",
     "evalue": "",
     "output_type": "error",
     "traceback": [
      "\u001b[1;31m---------------------------------------------------------------------------\u001b[0m",
      "\u001b[1;31mKeyboardInterrupt\u001b[0m                         Traceback (most recent call last)",
      "\u001b[1;32m<ipython-input-26-dfdf37fce8cb>\u001b[0m in \u001b[0;36m<module>\u001b[1;34m\u001b[0m\n\u001b[0;32m     45\u001b[0m \u001b[1;33m\u001b[0m\u001b[0m\n\u001b[0;32m     46\u001b[0m         \u001b[1;32mfor\u001b[0m \u001b[0mk\u001b[0m\u001b[1;33m,\u001b[0m\u001b[0magg\u001b[0m \u001b[1;32min\u001b[0m \u001b[0menumerate\u001b[0m\u001b[1;33m(\u001b[0m\u001b[0mlist_agg\u001b[0m\u001b[1;33m)\u001b[0m\u001b[1;33m:\u001b[0m\u001b[1;33m\u001b[0m\u001b[1;33m\u001b[0m\u001b[0m\n\u001b[1;32m---> 47\u001b[1;33m             \u001b[0mw\u001b[0m \u001b[1;33m=\u001b[0m \u001b[0magg\u001b[0m\u001b[1;33m(\u001b[0m\u001b[0mratings_candidates\u001b[0m\u001b[1;33m)\u001b[0m\u001b[1;33m.\u001b[0m\u001b[0mwinner_\u001b[0m\u001b[1;33m\u001b[0m\u001b[1;33m\u001b[0m\u001b[0m\n\u001b[0m\u001b[0;32m     48\u001b[0m             \u001b[0mresults_exp\u001b[0m\u001b[1;33m[\u001b[0m\u001b[0mk\u001b[0m\u001b[1;33m]\u001b[0m\u001b[1;33m[\u001b[0m\u001b[0mi\u001b[0m\u001b[1;33m]\u001b[0m \u001b[1;33m+=\u001b[0m \u001b[0mwelfare\u001b[0m\u001b[1;33m[\u001b[0m\u001b[0mw\u001b[0m\u001b[1;33m]\u001b[0m\u001b[1;33m\u001b[0m\u001b[1;33m\u001b[0m\u001b[0m\n\u001b[0;32m     49\u001b[0m \u001b[1;33m\u001b[0m\u001b[0m\n",
      "\u001b[1;32mc:\\users\\theo delemazure\\documents\\ens\\stage nokia\\git\\embedded_voting\\embedded_voting\\aggregation\\aggregator.py\u001b[0m in \u001b[0;36m__call__\u001b[1;34m(self, ratings, train)\u001b[0m\n\u001b[0;32m     93\u001b[0m             \u001b[0mself\u001b[0m\u001b[1;33m.\u001b[0m\u001b[0mratings_history\u001b[0m \u001b[1;33m=\u001b[0m \u001b[0mnp\u001b[0m\u001b[1;33m.\u001b[0m\u001b[0mconcatenate\u001b[0m\u001b[1;33m(\u001b[0m\u001b[1;33m[\u001b[0m\u001b[0mself\u001b[0m\u001b[1;33m.\u001b[0m\u001b[0mratings_history\u001b[0m\u001b[1;33m,\u001b[0m \u001b[0mratings\u001b[0m\u001b[1;33m]\u001b[0m\u001b[1;33m,\u001b[0m \u001b[0maxis\u001b[0m\u001b[1;33m=\u001b[0m\u001b[1;36m1\u001b[0m\u001b[1;33m)\u001b[0m\u001b[1;33m\u001b[0m\u001b[1;33m\u001b[0m\u001b[0m\n\u001b[0;32m     94\u001b[0m         \u001b[1;32mif\u001b[0m \u001b[0mself\u001b[0m\u001b[1;33m.\u001b[0m\u001b[0membeddings\u001b[0m \u001b[1;32mis\u001b[0m \u001b[1;32mNone\u001b[0m \u001b[1;32mor\u001b[0m \u001b[0mtrain\u001b[0m \u001b[1;32mor\u001b[0m \u001b[1;33m(\u001b[0m\u001b[0mtrain\u001b[0m \u001b[1;32mis\u001b[0m \u001b[1;32mNone\u001b[0m \u001b[1;32mand\u001b[0m \u001b[0mself\u001b[0m\u001b[1;33m.\u001b[0m\u001b[0mdefault_train\u001b[0m\u001b[1;33m)\u001b[0m\u001b[1;33m:\u001b[0m\u001b[1;33m\u001b[0m\u001b[1;33m\u001b[0m\u001b[0m\n\u001b[1;32m---> 95\u001b[1;33m             \u001b[0mself\u001b[0m\u001b[1;33m.\u001b[0m\u001b[0mtrain\u001b[0m\u001b[1;33m(\u001b[0m\u001b[1;33m)\u001b[0m\u001b[1;33m\u001b[0m\u001b[1;33m\u001b[0m\u001b[0m\n\u001b[0m\u001b[0;32m     96\u001b[0m         \u001b[1;32mreturn\u001b[0m \u001b[0mself\u001b[0m\u001b[1;33m.\u001b[0m\u001b[0mrule\u001b[0m\u001b[1;33m(\u001b[0m\u001b[0mratings\u001b[0m\u001b[1;33m,\u001b[0m \u001b[0mself\u001b[0m\u001b[1;33m.\u001b[0m\u001b[0membeddings\u001b[0m\u001b[1;33m)\u001b[0m\u001b[1;33m\u001b[0m\u001b[1;33m\u001b[0m\u001b[0m\n\u001b[0;32m     97\u001b[0m \u001b[1;33m\u001b[0m\u001b[0m\n",
      "\u001b[1;32mc:\\users\\theo delemazure\\documents\\ens\\stage nokia\\git\\embedded_voting\\embedded_voting\\aggregation\\aggregator.py\u001b[0m in \u001b[0;36mtrain\u001b[1;34m(self)\u001b[0m\n\u001b[0;32m    105\u001b[0m             \u001b[0mThe\u001b[0m \u001b[0mobject\u001b[0m \u001b[0mitself\u001b[0m\u001b[1;33m.\u001b[0m\u001b[1;33m\u001b[0m\u001b[1;33m\u001b[0m\u001b[0m\n\u001b[0;32m    106\u001b[0m         \"\"\"\n\u001b[1;32m--> 107\u001b[1;33m         \u001b[0mself\u001b[0m\u001b[1;33m.\u001b[0m\u001b[0membeddings\u001b[0m \u001b[1;33m=\u001b[0m \u001b[0mself\u001b[0m\u001b[1;33m.\u001b[0m\u001b[0membeddings_from_ratings\u001b[0m\u001b[1;33m(\u001b[0m\u001b[0mself\u001b[0m\u001b[1;33m.\u001b[0m\u001b[0mratings_history\u001b[0m\u001b[1;33m)\u001b[0m\u001b[1;33m\u001b[0m\u001b[1;33m\u001b[0m\u001b[0m\n\u001b[0m\u001b[0;32m    108\u001b[0m         \u001b[1;32mreturn\u001b[0m \u001b[0mself\u001b[0m\u001b[1;33m\u001b[0m\u001b[1;33m\u001b[0m\u001b[0m\n\u001b[0;32m    109\u001b[0m \u001b[1;33m\u001b[0m\u001b[0m\n",
      "\u001b[1;32mc:\\users\\theo delemazure\\documents\\ens\\stage nokia\\git\\embedded_voting\\embedded_voting\\embeddings_from_ratings\\embeddings_from_ratings_correlation.py\u001b[0m in \u001b[0;36m__call__\u001b[1;34m(self, ratings)\u001b[0m\n\u001b[0;32m     62\u001b[0m             \u001b[0mratings_preprocessed\u001b[0m \u001b[1;33m=\u001b[0m \u001b[0mratings\u001b[0m\u001b[1;33m\u001b[0m\u001b[1;33m\u001b[0m\u001b[0m\n\u001b[0;32m     63\u001b[0m         \u001b[1;32melse\u001b[0m\u001b[1;33m:\u001b[0m\u001b[1;33m\u001b[0m\u001b[1;33m\u001b[0m\u001b[0m\n\u001b[1;32m---> 64\u001b[1;33m             \u001b[0mratings_preprocessed\u001b[0m \u001b[1;33m=\u001b[0m \u001b[0mRatings\u001b[0m\u001b[1;33m(\u001b[0m\u001b[1;33m[\u001b[0m\u001b[0mself\u001b[0m\u001b[1;33m.\u001b[0m\u001b[0mpreprocess_ratings\u001b[0m\u001b[1;33m(\u001b[0m\u001b[0mratings_voter\u001b[0m\u001b[1;33m)\u001b[0m \u001b[1;32mfor\u001b[0m \u001b[0mratings_voter\u001b[0m \u001b[1;32min\u001b[0m \u001b[0mratings\u001b[0m\u001b[1;33m]\u001b[0m\u001b[1;33m)\u001b[0m\u001b[1;33m\u001b[0m\u001b[1;33m\u001b[0m\u001b[0m\n\u001b[0m\u001b[0;32m     65\u001b[0m \u001b[1;33m\u001b[0m\u001b[0m\n\u001b[0;32m     66\u001b[0m         \u001b[0mu\u001b[0m\u001b[1;33m,\u001b[0m \u001b[0ms\u001b[0m\u001b[1;33m,\u001b[0m \u001b[0mv\u001b[0m \u001b[1;33m=\u001b[0m \u001b[0mnp\u001b[0m\u001b[1;33m.\u001b[0m\u001b[0mlinalg\u001b[0m\u001b[1;33m.\u001b[0m\u001b[0msvd\u001b[0m\u001b[1;33m(\u001b[0m\u001b[0mratings_preprocessed\u001b[0m\u001b[1;33m)\u001b[0m\u001b[1;33m\u001b[0m\u001b[1;33m\u001b[0m\u001b[0m\n",
      "\u001b[1;32mc:\\users\\theo delemazure\\documents\\ens\\stage nokia\\git\\embedded_voting\\embedded_voting\\ratings\\ratings.py\u001b[0m in \u001b[0;36m__new__\u001b[1;34m(cls, ratings)\u001b[0m\n\u001b[0;32m     41\u001b[0m     \"\"\"\n\u001b[0;32m     42\u001b[0m     \u001b[1;32mdef\u001b[0m \u001b[0m__new__\u001b[0m\u001b[1;33m(\u001b[0m\u001b[0mcls\u001b[0m\u001b[1;33m,\u001b[0m \u001b[0mratings\u001b[0m\u001b[1;33m)\u001b[0m\u001b[1;33m:\u001b[0m\u001b[1;33m\u001b[0m\u001b[1;33m\u001b[0m\u001b[0m\n\u001b[1;32m---> 43\u001b[1;33m         \u001b[0mobj\u001b[0m \u001b[1;33m=\u001b[0m \u001b[0mnp\u001b[0m\u001b[1;33m.\u001b[0m\u001b[0masarray\u001b[0m\u001b[1;33m(\u001b[0m\u001b[0mratings\u001b[0m\u001b[1;33m)\u001b[0m\u001b[1;33m.\u001b[0m\u001b[0mview\u001b[0m\u001b[1;33m(\u001b[0m\u001b[0mcls\u001b[0m\u001b[1;33m)\u001b[0m\u001b[1;33m\u001b[0m\u001b[1;33m\u001b[0m\u001b[0m\n\u001b[0m\u001b[0;32m     44\u001b[0m         \u001b[1;32mreturn\u001b[0m \u001b[0mobj\u001b[0m\u001b[1;33m\u001b[0m\u001b[1;33m\u001b[0m\u001b[0m\n\u001b[0;32m     45\u001b[0m \u001b[1;33m\u001b[0m\u001b[0m\n",
      "\u001b[1;32m~\\env\\lib\\site-packages\\numpy\\core\\_asarray.py\u001b[0m in \u001b[0;36masarray\u001b[1;34m(a, dtype, order, like)\u001b[0m\n\u001b[0;32m    100\u001b[0m         \u001b[1;32mreturn\u001b[0m \u001b[0m_asarray_with_like\u001b[0m\u001b[1;33m(\u001b[0m\u001b[0ma\u001b[0m\u001b[1;33m,\u001b[0m \u001b[0mdtype\u001b[0m\u001b[1;33m=\u001b[0m\u001b[0mdtype\u001b[0m\u001b[1;33m,\u001b[0m \u001b[0morder\u001b[0m\u001b[1;33m=\u001b[0m\u001b[0morder\u001b[0m\u001b[1;33m,\u001b[0m \u001b[0mlike\u001b[0m\u001b[1;33m=\u001b[0m\u001b[0mlike\u001b[0m\u001b[1;33m)\u001b[0m\u001b[1;33m\u001b[0m\u001b[1;33m\u001b[0m\u001b[0m\n\u001b[0;32m    101\u001b[0m \u001b[1;33m\u001b[0m\u001b[0m\n\u001b[1;32m--> 102\u001b[1;33m     \u001b[1;32mreturn\u001b[0m \u001b[0marray\u001b[0m\u001b[1;33m(\u001b[0m\u001b[0ma\u001b[0m\u001b[1;33m,\u001b[0m \u001b[0mdtype\u001b[0m\u001b[1;33m,\u001b[0m \u001b[0mcopy\u001b[0m\u001b[1;33m=\u001b[0m\u001b[1;32mFalse\u001b[0m\u001b[1;33m,\u001b[0m \u001b[0morder\u001b[0m\u001b[1;33m=\u001b[0m\u001b[0morder\u001b[0m\u001b[1;33m)\u001b[0m\u001b[1;33m\u001b[0m\u001b[1;33m\u001b[0m\u001b[0m\n\u001b[0m\u001b[0;32m    103\u001b[0m \u001b[1;33m\u001b[0m\u001b[0m\n\u001b[0;32m    104\u001b[0m \u001b[1;33m\u001b[0m\u001b[0m\n",
      "\u001b[1;31mKeyboardInterrupt\u001b[0m: "
     ]
    }
   ],
   "source": [
    "#ratings_training = np.loadtxt(\"data_paper/ratings_base_case_training.csv\",dtype=float,delimiter=\",\")\n",
    "#ratings_testing = np.loadtxt(\"data_paper/ratings_base_case_testing.csv\",dtype=float,delimiter=\",\")\n",
    "n_agg = len(list_agg)\n",
    "list_gnoises = list(np.arange(0,21,2))\n",
    "l_gnoises = len(list_gnoises)\n",
    "max_candidates = 50\n",
    "n_voters = 24\n",
    "n_candidates = 20\n",
    "results_exp = np.zeros((n_agg, l_gnoises))\n",
    "\n",
    "for i in range(l_gnoises):\n",
    "    noise = list_gnoises[i]\n",
    "    for agg in list_agg[-2:]:\n",
    "        agg.reset()\n",
    "    \n",
    "    if noise == 10:\n",
    "        ratings_training = np.loadtxt(\"ratings_base_case_training_normal.csv\",dtype=float,delimiter=\",\")\n",
    "        ratings_testing = np.loadtxt(\"ratings_base_case_testing_normal.csv\",dtype=float,delimiter=\",\")\n",
    "        training = ratings_training[11:35]\n",
    "    else:\n",
    "        ratings_training = np.loadtxt(\"ratings_gnoise_%i_training_normal.csv\"%noise,dtype=float,delimiter=\",\")\n",
    "        ratings_testing = np.loadtxt(\"ratings_gnoise_%i_testing_normal.csv\"%noise,dtype=float,delimiter=\",\")\n",
    "        training = ratings_training[1:]\n",
    "        \n",
    "    _ = list_agg[-2](training).winner_\n",
    "    list_agg[-2].train()\n",
    "    _ = list_agg[-1](training).winner_\n",
    "    list_agg[-1].train()\n",
    "    \n",
    "    for index_try in tqdm(range(n_trys)):\n",
    "    \n",
    "        if noise == 10:\n",
    "            truth = ratings_testing[0,max_candidates*index_try:max_candidates*index_try+n_candidates]\n",
    "            ratings_candidates = ratings_testing[11:35,max_candidates*index_try:max_candidates*index_try+n_candidates]\n",
    "        else:\n",
    "            truth = ratings_testing[0,n_candidates*index_try:n_candidates*index_try+n_candidates]\n",
    "            ratings_candidates = ratings_testing[1:,n_candidates*index_try:n_candidates*index_try+n_candidates]\n",
    "            \n",
    "        for agg in list_agg[:-2]:\n",
    "            agg.reset()\n",
    "\n",
    "        ## training\n",
    "        welfare = ev.RuleSumRatings()(ev.Ratings([truth])).welfare_\n",
    "        # getting the results\n",
    "\n",
    "        for k,agg in enumerate(list_agg):\n",
    "            w = agg(ratings_candidates).winner_\n",
    "            results_exp[k][i] += welfare[w]\n",
    "            \n",
    "results_exp_5 = results_exp"
   ]
  },
  {
   "cell_type": "code",
   "execution_count": null,
   "metadata": {
    "ExecuteTime": {
     "end_time": "2022-12-07T12:49:49.052613Z",
     "start_time": "2022-12-07T12:36:23.831Z"
    }
   },
   "outputs": [],
   "source": [
    "np.savetxt(\"results_expe_5_normal.csv\", results_exp_5/n_trys, delimiter=\",\")"
   ]
  },
  {
   "cell_type": "code",
   "execution_count": 19,
   "metadata": {
    "ExecuteTime": {
     "end_time": "2022-09-01T09:26:05.533038Z",
     "start_time": "2022-09-01T09:21:11.030816Z"
    }
   },
   "outputs": [
    {
     "name": "stderr",
     "output_type": "stream",
     "text": [
      "100%|██████████| 10000/10000 [00:17<00:00, 567.90it/s]\n",
      "100%|██████████| 10000/10000 [00:17<00:00, 582.78it/s]\n",
      "100%|██████████| 10000/10000 [00:17<00:00, 585.68it/s]\n",
      "100%|██████████| 10000/10000 [00:16<00:00, 604.02it/s]\n",
      "100%|██████████| 10000/10000 [00:17<00:00, 567.89it/s]\n",
      "100%|██████████| 10000/10000 [00:17<00:00, 579.90it/s]\n",
      "100%|██████████| 10000/10000 [00:20<00:00, 496.64it/s]\n",
      "100%|██████████| 10000/10000 [00:18<00:00, 541.78it/s]\n",
      "100%|██████████| 10000/10000 [00:18<00:00, 526.81it/s]\n",
      "100%|██████████| 10000/10000 [00:19<00:00, 502.86it/s]\n",
      "100%|██████████| 10000/10000 [00:15<00:00, 643.29it/s]\n"
     ]
    }
   ],
   "source": [
    "#ratings_training = np.loadtxt(\"data_paper/ratings_base_case_training.csv\",dtype=float,delimiter=\",\")\n",
    "#ratings_testing = np.loadtxt(\"data_paper/ratings_base_case_testing.csv\",dtype=float,delimiter=\",\")\n",
    "n_agg = len(list_agg)\n",
    "list_gnoises = list(np.arange(0,21,2))\n",
    "l_gnoises = len(list_gnoises)\n",
    "max_candidates = 50\n",
    "n_candidates = 20\n",
    "n_voters = 24\n",
    "results_exp = np.zeros((2, l_gnoises))\n",
    "\n",
    "for i in range(l_gnoises):\n",
    "    noise = list_gnoises[i]\n",
    "    algo_welfare = np.zeros(n_voters)\n",
    "    if noise == 10:\n",
    "        ratings_testing = np.loadtxt(\"data_paper/ratings_base_case_testing.csv\",dtype=float,delimiter=\",\")\n",
    "        training = ratings_training[11:35]\n",
    "    else:\n",
    "        ratings_testing = np.loadtxt(\"data_paper/ratings_gnoise_%i_testing.csv\"%noise,dtype=float,delimiter=\",\")\n",
    "        training = ratings_training[1:]\n",
    "    \n",
    "    list_agg = [ev.Aggregator(rule=ev.RuleModelAware([20,1,1,1,1], np.eye(5), noise, 2))]\n",
    "    \n",
    "    for index_try in tqdm(range(n_trys)):\n",
    "    \n",
    "        if noise == 10:\n",
    "            truth = ratings_testing[0,max_candidates*index_try:max_candidates*index_try+n_candidates]\n",
    "            ratings_candidates = ratings_testing[11:35,max_candidates*index_try:max_candidates*index_try+n_candidates]\n",
    "        else:\n",
    "            truth = ratings_testing[0,n_candidates*index_try:n_candidates*index_try+n_candidates]\n",
    "            ratings_candidates = ratings_testing[1:,n_candidates*index_try:n_candidates*index_try+n_candidates]\n",
    "            \n",
    "        for agg in list_agg:\n",
    "            agg.reset()\n",
    "\n",
    "        ## training\n",
    "        welfare = ev.RuleSumRatings()(ev.Ratings([truth])).welfare_\n",
    "        # getting the results\n",
    "\n",
    "        for j in range(len(ratings_candidates)):\n",
    "            w = np.argsort(ratings_candidates[j])[-1]\n",
    "            algo_welfare[j] += welfare[w]\n",
    "            \n",
    "        for k,agg in enumerate(list_agg):\n",
    "            w = agg(ratings_candidates).winner_\n",
    "            results_exp[k][i] += welfare[w]\n",
    "        \n",
    "    results_exp[1][i] = np.max(algo_welfare)\n",
    "            "
   ]
  },
  {
   "cell_type": "code",
   "execution_count": 20,
   "metadata": {
    "ExecuteTime": {
     "end_time": "2022-09-01T09:26:05.548995Z",
     "start_time": "2022-09-01T09:26:05.541016Z"
    }
   },
   "outputs": [],
   "source": [
    "np.savetxt(\"results_expe_5_bounds.csv\", results_exp/n_trys, delimiter=\",\")"
   ]
  },
  {
   "cell_type": "markdown",
   "metadata": {},
   "source": [
    "# Independent noise"
   ]
  },
  {
   "cell_type": "code",
   "execution_count": null,
   "metadata": {
    "ExecuteTime": {
     "end_time": "2022-12-07T12:14:31.476785Z",
     "start_time": "2022-12-07T11:25:25.159Z"
    }
   },
   "outputs": [],
   "source": [
    "#ratings_training = np.loadtxt(\"data_paper/ratings_base_case_training.csv\",dtype=float,delimiter=\",\")\n",
    "#ratings_testing = np.loadtxt(\"data_paper/ratings_base_case_testing.csv\",dtype=float,delimiter=\",\")\n",
    "n_agg = len(list_agg)\n",
    "list_inoises = [0,1] + list(np.arange(2,21,2))\n",
    "l_inoises = len(list_inoises)\n",
    "max_candidates = 50\n",
    "n_voters = 24\n",
    "results_exp = np.zeros((n_agg, l_inoises))\n",
    "\n",
    "for i in range(l_inoises):\n",
    "    noise = list_inoises[i]\n",
    "    for agg in list_agg[-2:]:\n",
    "        agg.reset()\n",
    "    \n",
    "    if noise == 2:\n",
    "        ratings_training = np.loadtxt(\"data_paper/ratings_base_case_training_normal.csv\",dtype=float,delimiter=\",\")\n",
    "        ratings_testing = np.loadtxt(\"data_paper/ratings_base_case_testing_normal.csv\",dtype=float,delimiter=\",\")\n",
    "        training = ratings_training[11:35]\n",
    "    else:\n",
    "        ratings_training = np.loadtxt(\"data_paper/ratings_inoise_%i_training_normal.csv\"%noise,dtype=float,delimiter=\",\")\n",
    "        ratings_testing = np.loadtxt(\"data_paper/ratings_inoise_%i_testing_normal.csv\"%noise,dtype=float,delimiter=\",\")\n",
    "        training = ratings_training[1:]\n",
    "        \n",
    "    print(i, len(list_inoises))\n",
    "    _ = list_agg[-2](training).winner_\n",
    "    list_agg[-2].train()\n",
    "    _ = list_agg[-1](training).winner_\n",
    "    list_agg[-1].train()\n",
    "    \n",
    "    for index_try in tqdm(range(n_trys)):\n",
    "    \n",
    "        if noise == 2:\n",
    "            truth = ratings_testing[0,max_candidates*index_try:max_candidates*index_try+n_candidates]\n",
    "            ratings_candidates = ratings_testing[11:35,max_candidates*index_try:max_candidates*index_try+n_candidates]\n",
    "        else:\n",
    "            truth = ratings_testing[0,n_candidates*index_try:n_candidates*index_try+n_candidates]\n",
    "            ratings_candidates = ratings_testing[1:,n_candidates*index_try:n_candidates*index_try+n_candidates]\n",
    "            \n",
    "        for agg in list_agg[:-2]:\n",
    "            agg.reset()\n",
    "\n",
    "        ## training\n",
    "        welfare = ev.RuleSumRatings()(ev.Ratings([truth])).welfare_\n",
    "        # getting the results\n",
    "\n",
    "        for k,agg in enumerate(list_agg):\n",
    "            w = agg(ratings_candidates).winner_\n",
    "            results_exp[k][i] += welfare[w]\n",
    "            \n",
    "results_exp_6 = results_exp"
   ]
  },
  {
   "cell_type": "code",
   "execution_count": 35,
   "metadata": {
    "ExecuteTime": {
     "end_time": "2022-10-24T15:45:08.254251Z",
     "start_time": "2022-10-24T15:42:57.363089Z"
    }
   },
   "outputs": [
    {
     "name": "stderr",
     "output_type": "stream",
     "text": [
      "100%|██████████| 10000/10000 [00:02<00:00, 3668.77it/s]\n",
      "100%|██████████| 10000/10000 [00:02<00:00, 3527.88it/s]\n",
      "100%|██████████| 10000/10000 [00:01<00:00, 6139.90it/s]\n",
      "100%|██████████| 10000/10000 [00:01<00:00, 6173.33it/s]\n",
      "100%|██████████| 10000/10000 [00:01<00:00, 6544.89it/s]\n",
      "100%|██████████| 10000/10000 [00:01<00:00, 5485.08it/s]\n",
      "100%|██████████| 10000/10000 [00:01<00:00, 5860.18it/s]\n",
      "100%|██████████| 10000/10000 [00:02<00:00, 4751.93it/s]\n",
      "100%|██████████| 10000/10000 [00:01<00:00, 6132.46it/s]\n",
      "100%|██████████| 10000/10000 [00:01<00:00, 5244.01it/s]\n",
      "100%|██████████| 10000/10000 [00:01<00:00, 6254.99it/s]\n",
      "100%|██████████| 10000/10000 [00:01<00:00, 5799.16it/s]\n"
     ]
    }
   ],
   "source": [
    "list_inoises = [0,1] + list(np.arange(2,21,2))\n",
    "l_inoises = len(list_inoises)\n",
    "max_candidates = 50\n",
    "n_voters = 24\n",
    "results_algo = np.zeros((l_inoises))\n",
    "\n",
    "for i in range(l_inoises):\n",
    "    noise = list_inoises[i]\n",
    "    \n",
    "    if noise == 2:\n",
    "        ratings_training = np.loadtxt(\"ratings_base_case_training_3.csv\",dtype=float,delimiter=\",\")\n",
    "        ratings_testing = np.loadtxt(\"ratings_base_case_testing_3.csv\",dtype=float,delimiter=\",\")\n",
    "        training = ratings_training[11:35]\n",
    "    else:\n",
    "        ratings_training = np.loadtxt(\"ratings_inoise_%i_training.csv\"%noise,dtype=float,delimiter=\",\")\n",
    "        ratings_testing = np.loadtxt(\"ratings_inoise_%i_testing.csv\"%noise,dtype=float,delimiter=\",\")\n",
    "        training = ratings_training[1:]\n",
    "        \n",
    "\n",
    "    for index_try in tqdm(range(n_trys)):\n",
    "    \n",
    "        if noise == 2:\n",
    "            truth = ratings_testing[0,max_candidates*index_try:max_candidates*index_try+n_candidates]\n",
    "            ratings_candidates = ratings_testing[11:35,max_candidates*index_try:max_candidates*index_try+n_candidates]\n",
    "        else:\n",
    "            truth = ratings_testing[0,n_candidates*index_try:n_candidates*index_try+n_candidates]\n",
    "            ratings_candidates = ratings_testing[1:,n_candidates*index_try:n_candidates*index_try+n_candidates]\n",
    "        \n",
    "        ## training\n",
    "        welfare = ev.RuleSumRatings()(ev.Ratings([truth])).welfare_\n",
    "        # getting the results\n",
    "\n",
    "\n",
    "        w = np.argmax(ratings_candidates[0])\n",
    "        results_algo[i] += welfare[w]\n",
    "        "
   ]
  },
  {
   "cell_type": "code",
   "execution_count": 36,
   "metadata": {
    "ExecuteTime": {
     "end_time": "2022-10-24T15:45:10.856824Z",
     "start_time": "2022-10-24T15:45:10.836904Z"
    }
   },
   "outputs": [
    {
     "name": "stdout",
     "output_type": "stream",
     "text": [
      "0 0.6567058607741034\n",
      "1 0.6653441288329929\n",
      "2 0.654869210573013\n",
      "4 0.6471170973104495\n",
      "6 0.6437489544088271\n",
      "8 0.6237662714582557\n",
      "10 0.617093207902351\n",
      "12 0.605099710237619\n",
      "14 0.595116811218917\n",
      "16 0.585415784391639\n",
      "18 0.5831264067967521\n",
      "20 0.5826381124060238\n"
     ]
    }
   ],
   "source": [
    "for i in range(len(list_inoises)):\n",
    "    print(list_inoises[i], (results_algo/n_trys)[i])"
   ]
  },
  {
   "cell_type": "code",
   "execution_count": null,
   "metadata": {
    "ExecuteTime": {
     "end_time": "2022-12-07T12:14:31.477784Z",
     "start_time": "2022-12-07T11:25:38.555Z"
    }
   },
   "outputs": [],
   "source": [
    "np.savetxt(\"results_expe_6_normal.csv\", results_exp_6/n_trys, delimiter=\",\")"
   ]
  },
  {
   "cell_type": "code",
   "execution_count": 4,
   "metadata": {
    "ExecuteTime": {
     "end_time": "2022-09-01T09:42:22.716172Z",
     "start_time": "2022-09-01T09:37:05.022020Z"
    }
   },
   "outputs": [
    {
     "name": "stderr",
     "output_type": "stream",
     "text": [
      "100%|██████████| 10000/10000 [00:17<00:00, 582.65it/s]\n",
      "100%|██████████| 10000/10000 [00:18<00:00, 527.77it/s]\n",
      "100%|██████████| 10000/10000 [00:17<00:00, 587.55it/s]\n",
      "100%|██████████| 10000/10000 [00:17<00:00, 585.97it/s]\n",
      "100%|██████████| 10000/10000 [00:20<00:00, 497.69it/s]\n",
      "100%|██████████| 10000/10000 [00:17<00:00, 567.20it/s]\n",
      "100%|██████████| 10000/10000 [00:16<00:00, 597.25it/s]\n",
      "100%|██████████| 10000/10000 [00:16<00:00, 593.35it/s]\n",
      "100%|██████████| 10000/10000 [00:16<00:00, 592.87it/s]\n",
      "100%|██████████| 10000/10000 [00:16<00:00, 595.81it/s]\n",
      "100%|██████████| 10000/10000 [00:17<00:00, 582.99it/s]\n",
      "100%|██████████| 10000/10000 [00:18<00:00, 544.58it/s]\n"
     ]
    }
   ],
   "source": [
    "#ratings_training = np.loadtxt(\"data_paper/ratings_base_case_training.csv\",dtype=float,delimiter=\",\")\n",
    "#ratings_testing = np.loadtxt(\"data_paper/ratings_base_case_testing.csv\",dtype=float,delimiter=\",\")\n",
    "n_agg = len(list_agg)\n",
    "list_inoises = [0,1] + list(np.arange(2,21,2))\n",
    "l_inoises = len(list_inoises)\n",
    "max_candidates = 50\n",
    "n_candidates = 20\n",
    "n_voters = 24\n",
    "results_exp = np.zeros((2, l_inoises))\n",
    "\n",
    "for i in range(l_inoises):\n",
    "    noise = list_inoises[i]\n",
    "    algo_welfare = np.zeros(n_voters)\n",
    "    if noise == 2:\n",
    "        ratings_testing = np.loadtxt(\"data_paper/ratings_base_case_testing.csv\",dtype=float,delimiter=\",\")\n",
    "        training = ratings_training[11:35]\n",
    "    else:\n",
    "        ratings_testing = np.loadtxt(\"data_paper/ratings_inoise_%i_testing.csv\"%noise,dtype=float,delimiter=\",\")\n",
    "        training = ratings_training[1:]\n",
    "    \n",
    "    list_agg = [ev.Aggregator(rule=ev.RuleModelAware([20,1,1,1,1], np.eye(5), 10, noise))]\n",
    "    \n",
    "    for index_try in tqdm(range(n_trys)):\n",
    "    \n",
    "        if noise == 2:\n",
    "            truth = ratings_testing[0,max_candidates*index_try:max_candidates*index_try+n_candidates]\n",
    "            ratings_candidates = ratings_testing[11:35,max_candidates*index_try:max_candidates*index_try+n_candidates]\n",
    "        else:\n",
    "            truth = ratings_testing[0,n_candidates*index_try:n_candidates*index_try+n_candidates]\n",
    "            ratings_candidates = ratings_testing[1:,n_candidates*index_try:n_candidates*index_try+n_candidates]\n",
    "            \n",
    "        ## training\n",
    "        welfare = ev.RuleSumRatings()(ev.Ratings([truth])).welfare_\n",
    "        # getting the results\n",
    "\n",
    "        for agg in list_agg:\n",
    "            agg.reset()\n",
    "            \n",
    "        for j in range(len(ratings_candidates)):\n",
    "            w = np.argsort(ratings_candidates[j])[-1]\n",
    "            algo_welfare[j] += welfare[w]\n",
    "        \n",
    "\n",
    "        for k,agg in enumerate(list_agg):\n",
    "            w = agg(ratings_candidates).winner_\n",
    "            results_exp[k][i] += welfare[w]\n",
    "            \n",
    "    results_exp[1][i] = np.max(algo_welfare)"
   ]
  },
  {
   "cell_type": "code",
   "execution_count": 6,
   "metadata": {
    "ExecuteTime": {
     "end_time": "2022-09-01T09:43:46.002301Z",
     "start_time": "2022-09-01T09:43:45.995285Z"
    }
   },
   "outputs": [],
   "source": [
    "np.savetxt(\"results_expe_6_bounds.csv\", results_exp/n_trys, delimiter=\",\")"
   ]
  },
  {
   "cell_type": "markdown",
   "metadata": {},
   "source": [
    "# Groupe noise function"
   ]
  },
  {
   "cell_type": "code",
   "execution_count": 8,
   "metadata": {
    "ExecuteTime": {
     "end_time": "2022-10-28T21:07:44.059667Z",
     "start_time": "2022-10-28T20:54:11.663106Z"
    }
   },
   "outputs": [
    {
     "name": "stdout",
     "output_type": "stream",
     "text": [
      "7\n",
      "(24, 1000) (51, 500000)\n"
     ]
    },
    {
     "name": "stderr",
     "output_type": "stream",
     "text": [
      "100%|██████████| 10000/10000 [02:25<00:00, 68.50it/s]\n"
     ]
    },
    {
     "name": "stdout",
     "output_type": "stream",
     "text": [
      "(24, 1000) (25, 200000)\n"
     ]
    },
    {
     "name": "stderr",
     "output_type": "stream",
     "text": [
      "100%|██████████| 10000/10000 [02:29<00:00, 67.11it/s]\n"
     ]
    },
    {
     "name": "stdout",
     "output_type": "stream",
     "text": [
      "(24, 1000) (25, 200000)\n"
     ]
    },
    {
     "name": "stderr",
     "output_type": "stream",
     "text": [
      "100%|██████████| 10000/10000 [02:29<00:00, 66.77it/s]\n"
     ]
    },
    {
     "name": "stdout",
     "output_type": "stream",
     "text": [
      "(24, 1000) (25, 200000)\n"
     ]
    },
    {
     "name": "stderr",
     "output_type": "stream",
     "text": [
      "100%|██████████| 10000/10000 [02:33<00:00, 65.14it/s]\n"
     ]
    },
    {
     "name": "stdout",
     "output_type": "stream",
     "text": [
      "(24, 1000) (25, 200000)\n"
     ]
    },
    {
     "name": "stderr",
     "output_type": "stream",
     "text": [
      "100%|██████████| 10000/10000 [02:33<00:00, 65.19it/s]\n"
     ]
    }
   ],
   "source": [
    "#ratings_training = np.loadtxt(\"data_paper/ratings_base_case_training.csv\",dtype=float,delimiter=\",\")\n",
    "#ratings_testing = np.loadtxt(\"data_paper/ratings_base_case_testing.csv\",dtype=float,delimiter=\",\")\n",
    "n_agg = len(list_agg)\n",
    "print(n_agg)\n",
    "list_gnoises = [\"Normal\", \"GenNormLarge\", \"GenNormSmall\", \"SkewNormLeft\", \"SkewNormRight\"]\n",
    "l_gnoises = len(list_gnoises)\n",
    "max_candidates = 50\n",
    "n_voters = 24\n",
    "results_exp = np.zeros((n_agg, l_gnoises))\n",
    "n_candidates = 20\n",
    "\n",
    "for i in range(l_gnoises):\n",
    "    noise = list_gnoises[i]\n",
    "    for agg in list_agg[-2:]:\n",
    "        agg.reset()\n",
    "    \n",
    "    if noise == \"Normal\":\n",
    "        ratings_training = np.loadtxt(\"ratings_base_case_training_3.csv\",dtype=float,delimiter=\",\")\n",
    "        ratings_testing = np.loadtxt(\"ratings_base_case_testing_3.csv\",dtype=float,delimiter=\",\")\n",
    "        training = ratings_training[11:35]\n",
    "    else:\n",
    "        ratings_training = np.loadtxt(\"ratings_noisef_%s_training.csv\"%noise,dtype=float,delimiter=\",\")\n",
    "        ratings_testing = np.loadtxt(\"ratings_noisef_%s_testing.csv\"%noise,dtype=float,delimiter=\",\")\n",
    "        training = ratings_training[1:]\n",
    "        \n",
    "    print(training.shape, ratings_testing.shape)\n",
    "    _ = list_agg[-2](training).winner_\n",
    "    list_agg[-2].train()\n",
    "    _ = list_agg[-1](training).winner_\n",
    "    list_agg[-1].train()\n",
    "    \n",
    "    for index_try in tqdm(range(n_trys)):\n",
    "    \n",
    "        if noise == \"Normal\":\n",
    "            truth = ratings_testing[0,max_candidates*index_try:max_candidates*index_try+n_candidates]\n",
    "            ratings_candidates = ratings_testing[11:35,max_candidates*index_try:max_candidates*index_try+n_candidates]\n",
    "        else:\n",
    "            truth = ratings_testing[0,n_candidates*index_try:n_candidates*index_try+n_candidates]\n",
    "            ratings_candidates = ratings_testing[1:,n_candidates*index_try:n_candidates*index_try+n_candidates]\n",
    "            \n",
    "        for agg in list_agg[:-2]:\n",
    "            agg.reset()\n",
    "\n",
    "        ## training\n",
    "        welfare = ev.RuleSumRatings()(ev.Ratings([truth])).welfare_\n",
    "        # getting the results\n",
    "\n",
    "        for k,agg in enumerate(list_agg):\n",
    "            w = agg(ratings_candidates).winner_\n",
    "            results_exp[k][i] += welfare[w]\n",
    "            \n",
    "results_exp_7 = results_exp"
   ]
  },
  {
   "cell_type": "code",
   "execution_count": 9,
   "metadata": {
    "ExecuteTime": {
     "end_time": "2022-10-28T21:28:38.852938Z",
     "start_time": "2022-10-28T21:28:38.791070Z"
    }
   },
   "outputs": [],
   "source": [
    "np.savetxt(\"results_expe_7_1028.csv\", results_exp_7/n_trys, delimiter=\",\")"
   ]
  },
  {
   "cell_type": "markdown",
   "metadata": {},
   "source": [
    "# Indep noise function"
   ]
  },
  {
   "cell_type": "code",
   "execution_count": 60,
   "metadata": {
    "ExecuteTime": {
     "end_time": "2022-10-25T08:23:15.945091Z",
     "start_time": "2022-10-25T08:09:46.037683Z"
    }
   },
   "outputs": [
    {
     "name": "stdout",
     "output_type": "stream",
     "text": [
      "(24, 1000) (51, 500000)\n"
     ]
    },
    {
     "name": "stderr",
     "output_type": "stream",
     "text": [
      "100%|██████████| 10000/10000 [02:28<00:00, 67.34it/s]\n"
     ]
    },
    {
     "name": "stdout",
     "output_type": "stream",
     "text": [
      "(24, 1000) (25, 200000)\n"
     ]
    },
    {
     "name": "stderr",
     "output_type": "stream",
     "text": [
      "100%|██████████| 10000/10000 [02:28<00:00, 67.16it/s]\n"
     ]
    },
    {
     "name": "stdout",
     "output_type": "stream",
     "text": [
      "(24, 1000) (25, 200000)\n"
     ]
    },
    {
     "name": "stderr",
     "output_type": "stream",
     "text": [
      "100%|██████████| 10000/10000 [02:26<00:00, 68.41it/s]\n"
     ]
    },
    {
     "name": "stdout",
     "output_type": "stream",
     "text": [
      "(24, 1000) (25, 200000)\n"
     ]
    },
    {
     "name": "stderr",
     "output_type": "stream",
     "text": [
      "100%|██████████| 10000/10000 [02:36<00:00, 64.07it/s]\n"
     ]
    },
    {
     "name": "stdout",
     "output_type": "stream",
     "text": [
      "(24, 1000) (25, 200000)\n"
     ]
    },
    {
     "name": "stderr",
     "output_type": "stream",
     "text": [
      "100%|██████████| 10000/10000 [02:36<00:00, 63.75it/s]\n"
     ]
    }
   ],
   "source": [
    "#ratings_training = np.loadtxt(\"data_paper/ratings_base_case_training.csv\",dtype=float,delimiter=\",\")\n",
    "#ratings_testing = np.loadtxt(\"data_paper/ratings_base_case_testing.csv\",dtype=float,delimiter=\",\")\n",
    "n_agg = len(list_agg)\n",
    "list_gnoises = [\"Normal\", \"GenNormLarge\", \"GenNormSmall\", \"SkewNormLeft\", \"SkewNormRight\"]\n",
    "l_gnoises = len(list_gnoises)\n",
    "max_candidates = 50\n",
    "n_voters = 24\n",
    "n_candidates = 20\n",
    "results_exp = np.zeros((n_agg, l_gnoises))\n",
    "\n",
    "for i in range(l_gnoises):\n",
    "    noise = list_gnoises[i]\n",
    "    for agg in list_agg[-2:]:\n",
    "        agg.reset()\n",
    "    \n",
    "    if noise == \"Normal\":\n",
    "        ratings_training = np.loadtxt(\"ratings_base_case_training_3.csv\",dtype=float,delimiter=\",\")\n",
    "        ratings_testing = np.loadtxt(\"ratings_base_case_testing_3.csv\",dtype=float,delimiter=\",\")\n",
    "        training = ratings_training[11:35]\n",
    "    else:\n",
    "        ratings_training = np.loadtxt(\"ratings_inoisef_%s_training.csv\"%noise,dtype=float,delimiter=\",\")\n",
    "        ratings_testing = np.loadtxt(\"ratings_inoisef_%s_testing.csv\"%noise,dtype=float,delimiter=\",\")\n",
    "        training = ratings_training[1:]\n",
    "        \n",
    "    print(training.shape, ratings_testing.shape)\n",
    "    _ = list_agg[-2](training).winner_\n",
    "    list_agg[-2].train()\n",
    "    _ = list_agg[-1](training).winner_\n",
    "    list_agg[-1].train()\n",
    "    \n",
    "    for index_try in tqdm(range(n_trys)):\n",
    "    \n",
    "        if noise == \"Normal\":\n",
    "            truth = ratings_testing[0,max_candidates*index_try:max_candidates*index_try+n_candidates]\n",
    "            ratings_candidates = ratings_testing[11:35,max_candidates*index_try:max_candidates*index_try+n_candidates]\n",
    "        else:\n",
    "            truth = ratings_testing[0,n_candidates*index_try:n_candidates*index_try+n_candidates]\n",
    "            ratings_candidates = ratings_testing[1:,n_candidates*index_try:n_candidates*index_try+n_candidates]\n",
    "            \n",
    "        for agg in list_agg[:-2]:\n",
    "            agg.reset()\n",
    "\n",
    "        ## training\n",
    "        welfare = ev.RuleSumRatings()(ev.Ratings([truth])).welfare_\n",
    "        # getting the results\n",
    "\n",
    "        for k,agg in enumerate(list_agg):\n",
    "            w = agg(ratings_candidates).winner_\n",
    "            results_exp[k][i] += welfare[w]\n",
    "            \n",
    "results_exp_8 = results_exp"
   ]
  },
  {
   "cell_type": "code",
   "execution_count": 63,
   "metadata": {
    "ExecuteTime": {
     "end_time": "2022-10-25T08:27:45.737717Z",
     "start_time": "2022-10-25T08:27:45.733728Z"
    }
   },
   "outputs": [],
   "source": [
    "np.savetxt(\"results_expe_8_1024.csv\", results_exp_8/n_trys, delimiter=\",\")"
   ]
  },
  {
   "cell_type": "markdown",
   "metadata": {},
   "source": [
    "# Badly trained algos"
   ]
  },
  {
   "cell_type": "code",
   "execution_count": 34,
   "metadata": {
    "ExecuteTime": {
     "end_time": "2022-09-21T13:35:27.867575Z",
     "start_time": "2022-09-21T13:35:27.861590Z"
    }
   },
   "outputs": [],
   "source": [
    "\n",
    "list_agg = [ev.Aggregator(rule=ev.RuleRatingsHistory(rule=ev.RuleMLEGaussian(), f=f_renorm), name=\"MLE-t\", default_train=False, default_add=False),\n",
    "            ev.Aggregator(rule=ev.RuleFastNash(), name=\"FastNash-t\", default_train=False,default_add=False)]"
   ]
  },
  {
   "cell_type": "code",
   "execution_count": 15,
   "metadata": {
    "ExecuteTime": {
     "end_time": "2022-08-19T10:13:43.753335Z",
     "start_time": "2022-08-19T10:13:43.662929Z"
    }
   },
   "outputs": [
    {
     "data": {
      "text/plain": [
       "array([[7, 8, 9],\n",
       "       [4, 5, 6],\n",
       "       [1, 2, 3]])"
      ]
     },
     "execution_count": 15,
     "metadata": {},
     "output_type": "execute_result"
    }
   ],
   "source": [
    " np.random.permutation(np.array([[1,2,3],[4,5,6],[7,8,9]]))"
   ]
  },
  {
   "cell_type": "code",
   "execution_count": 16,
   "metadata": {
    "ExecuteTime": {
     "end_time": "2022-08-19T10:13:44.867447Z",
     "start_time": "2022-08-19T10:13:44.860431Z"
    }
   },
   "outputs": [
    {
     "data": {
      "text/plain": [
       "(25, 1000)"
      ]
     },
     "execution_count": 16,
     "metadata": {},
     "output_type": "execute_result"
    }
   ],
   "source": [
    "ratings_training.shape"
   ]
  },
  {
   "cell_type": "code",
   "execution_count": 37,
   "metadata": {
    "ExecuteTime": {
     "end_time": "2022-09-21T13:36:48.640167Z",
     "start_time": "2022-09-21T13:36:22.069678Z"
    }
   },
   "outputs": [
    {
     "name": "stderr",
     "output_type": "stream",
     "text": [
      "100%|██████████| 10000/10000 [00:26<00:00, 379.15it/s]\n"
     ]
    }
   ],
   "source": [
    "n_agg = len(list_agg)\n",
    "n_voters = 24\n",
    "results_exp = np.zeros((2, n_trys))\n",
    "accuracy_exp = np.zeros((2, n_trys))\n",
    "\n",
    "training = ratings_training[11:11+n_voters]\n",
    "for i in range(50):\n",
    "    training[:,i*20:(i+1)*20] = np.random.permutation(training[:,i*20:(i+1)*20])\n",
    "    \n",
    "_ = list_agg[-2](training).winner_\n",
    "list_agg[-2].train()\n",
    "_ = list_agg[-1](training).winner_\n",
    "list_agg[-1].train()\n",
    "\n",
    "\n",
    "for index_try in tqdm(range(n_trys)):\n",
    "    truth = ratings_testing[0,max_candidates*index_try:max_candidates*index_try+n_candidates]\n",
    "    ratings_candidates = ratings_testing[11:11+n_voters,max_candidates*index_try:max_candidates*index_try+n_candidates]\n",
    "    i = 20\n",
    "\n",
    "    ## training\n",
    "    welfare = ev.RuleSumRatings()(ev.Ratings([truth])).welfare_\n",
    "    # getting the results\n",
    "\n",
    "    for k,agg in enumerate(list_agg):\n",
    "        w = agg(ratings_candidates).winner_\n",
    "        results_exp[k][index_try] += welfare[w]\n",
    "        if w == np.argmax(welfare):\n",
    "            accuracy_exp[k][index_try] += 1\n",
    "            \n"
   ]
  },
  {
   "cell_type": "code",
   "execution_count": 38,
   "metadata": {
    "ExecuteTime": {
     "end_time": "2022-09-21T13:36:51.108478Z",
     "start_time": "2022-09-21T13:36:51.088532Z"
    }
   },
   "outputs": [
    {
     "data": {
      "text/plain": [
       "array([0.65799917, 0.65683669])"
      ]
     },
     "execution_count": 38,
     "metadata": {},
     "output_type": "execute_result"
    }
   ],
   "source": [
    "results_exp.mean(1)"
   ]
  },
  {
   "cell_type": "code",
   "execution_count": 39,
   "metadata": {
    "ExecuteTime": {
     "end_time": "2022-09-21T13:36:51.257389Z",
     "start_time": "2022-09-21T13:36:51.211530Z"
    }
   },
   "outputs": [],
   "source": [
    "np.savetxt(\"results_expe_base_badly_0921.csv\", results_exp, delimiter=\",\")\n",
    "np.savetxt(\"accuracy_expe_base_badly_0921.csv\", accuracy_exp, delimiter=\",\")"
   ]
  },
  {
   "cell_type": "markdown",
   "metadata": {},
   "source": [
    "# Cross Corell 1"
   ]
  },
  {
   "cell_type": "code",
   "execution_count": 41,
   "metadata": {
    "ExecuteTime": {
     "end_time": "2022-09-21T14:09:31.673342Z",
     "start_time": "2022-09-21T13:37:20.429077Z"
    }
   },
   "outputs": [
    {
     "name": "stderr",
     "output_type": "stream",
     "text": [
      "100%|██████████| 10000/10000 [02:37<00:00, 63.62it/s]\n",
      "100%|██████████| 10000/10000 [02:39<00:00, 62.51it/s]\n",
      "100%|██████████| 10000/10000 [02:44<00:00, 60.70it/s]\n",
      "100%|██████████| 10000/10000 [02:24<00:00, 69.05it/s]\n",
      "100%|██████████| 10000/10000 [02:21<00:00, 70.53it/s]\n",
      "100%|██████████| 10000/10000 [02:16<00:00, 73.45it/s]\n",
      "100%|██████████| 10000/10000 [02:15<00:00, 73.59it/s]\n",
      "100%|██████████| 10000/10000 [02:17<00:00, 72.48it/s]\n",
      "100%|██████████| 10000/10000 [02:16<00:00, 73.00it/s]\n",
      "100%|██████████| 10000/10000 [02:19<00:00, 71.49it/s]\n",
      "100%|██████████| 10000/10000 [02:18<00:00, 72.17it/s]\n",
      "100%|██████████| 10000/10000 [02:16<00:00, 73.08it/s]\n"
     ]
    }
   ],
   "source": [
    "#ratings_training = np.loadtxt(\"data_paper/ratings_base_case_training.csv\",dtype=float,delimiter=\",\")\n",
    "#ratings_testing = np.loadtxt(\"data_paper/ratings_base_case_testing.csv\",dtype=float,delimiter=\",\")\n",
    "n_agg = len(list_agg)\n",
    "list_alpha = [0.1*i for i in range(12)]\n",
    "l_alpha = len(list_alpha)\n",
    "max_candidates = 50\n",
    "n_voters = 24\n",
    "n_candidates = 20\n",
    "results_exp = np.zeros((n_agg, l_alpha))\n",
    "n_trys = 10000\n",
    "\n",
    "for i in range(l_alpha):\n",
    "    alpha = list_alpha[i]\n",
    "    for agg in list_agg[-2:]:\n",
    "        agg.reset()\n",
    "    \n",
    "    if alpha == 1.1:\n",
    "        ratings_training = np.loadtxt(\"data_paper/ratings_base_case_training.csv\",dtype=float,delimiter=\",\")\n",
    "        ratings_testing = np.loadtxt(\"data_paper/ratings_base_case_testing.csv\",dtype=float,delimiter=\",\")\n",
    "        training = ratings_training[11:35]\n",
    "    else:\n",
    "        ratings_training = np.loadtxt(\"data_paper/ratings_cc1_%.2f_training.csv\"%alpha,dtype=float,delimiter=\",\")\n",
    "        ratings_testing = np.loadtxt(\"data_paper/ratings_cc1_%.2f_testing.csv\"%alpha,dtype=float,delimiter=\",\")\n",
    "        training = ratings_training[1:]\n",
    "        \n",
    "    _ = list_agg[-2](training).winner_\n",
    "    list_agg[-2].train()\n",
    "    _ = list_agg[-1](training).winner_\n",
    "    list_agg[-1].train()\n",
    "    \n",
    "    for index_try in tqdm(range(n_trys)):\n",
    "    \n",
    "        if alpha == 1.1:\n",
    "            truth = ratings_testing[0,max_candidates*index_try:max_candidates*index_try+n_candidates]\n",
    "            ratings_candidates = ratings_testing[11:35,max_candidates*index_try:max_candidates*index_try+n_candidates]\n",
    "        else:\n",
    "            truth = ratings_testing[0,n_candidates*index_try:n_candidates*index_try+n_candidates]\n",
    "            ratings_candidates = ratings_testing[1:,n_candidates*index_try:n_candidates*index_try+n_candidates]\n",
    "            \n",
    "        for agg in list_agg[:-2]:\n",
    "            agg.reset()\n",
    "\n",
    "        ## training\n",
    "        welfare = ev.RuleSumRatings()(ev.Ratings([truth])).welfare_\n",
    "        # getting the results\n",
    "\n",
    "        for k,agg in enumerate(list_agg):\n",
    "            w = agg(ratings_candidates).winner_\n",
    "            results_exp[k][i] += welfare[w]\n",
    "            \n",
    "results_exp_10 = results_exp"
   ]
  },
  {
   "cell_type": "code",
   "execution_count": 42,
   "metadata": {
    "ExecuteTime": {
     "end_time": "2022-09-21T14:09:31.704954Z",
     "start_time": "2022-09-21T14:09:31.688007Z"
    }
   },
   "outputs": [],
   "source": [
    "np.savetxt(\"results_expe_10_0921.csv\", results_exp_10/n_trys, delimiter=\",\")"
   ]
  },
  {
   "cell_type": "code",
   "execution_count": null,
   "metadata": {
    "ExecuteTime": {
     "end_time": "2022-09-10T13:54:24.896128Z",
     "start_time": "2022-09-10T13:54:02.776Z"
    }
   },
   "outputs": [],
   "source": [
    "def mymatrix(alpha):\n",
    "    M = np.eye(24)\n",
    "    for i in range(20):\n",
    "        M[i] = [alpha**(np.abs(j-i)) for j in range(20)]+[0]*4\n",
    "    return M\n",
    "\n",
    "\n",
    "n_agg = len(list_agg)\n",
    "list_alpha = [0.1*i for i in range(12)]\n",
    "l_alpha = len(list_alpha)\n",
    "max_candidates = 50\n",
    "n_candidates = 20\n",
    "n_voters = 24\n",
    "results_exp = np.zeros((3, l_alpha))\n",
    "\n",
    "\n",
    "for i in range(l_alpha):\n",
    "    alpha = list_alpha[i]\n",
    "    algo_welfare = np.zeros(n_voters)\n",
    "    list_agg = [ev.Aggregator(rule=ev.RuleModelAware([20,1,1,1,1], np.eye(5), 10, 2)),\n",
    "               ev.Aggregator(rule=ev.RuleModelAware([1]*24, mymatrix(alpha), 10, 2))]\n",
    "    \n",
    "    if alpha == 1.1:\n",
    "        ratings_training = np.loadtxt(\"data_paper/ratings_base_case_training.csv\",dtype=float,delimiter=\",\")\n",
    "        ratings_testing = np.loadtxt(\"data_paper/ratings_base_case_testing.csv\",dtype=float,delimiter=\",\")\n",
    "        training = ratings_training[11:35]\n",
    "    else:\n",
    "        ratings_training = np.loadtxt(\"data_paper/ratings_cc1_%.2f_training.csv\"%alpha,dtype=float,delimiter=\",\")\n",
    "        ratings_testing = np.loadtxt(\"data_paper/ratings_cc1_%.2f_testing.csv\"%alpha,dtype=float,delimiter=\",\")\n",
    "        training = ratings_training[1:]\n",
    "        \n",
    "    for index_try in tqdm(range(n_trys)):\n",
    "    \n",
    "        if alpha == 1.1:\n",
    "            truth = ratings_testing[0,max_candidates*index_try:max_candidates*index_try+n_candidates]\n",
    "            ratings_candidates = ratings_testing[11:35,max_candidates*index_try:max_candidates*index_try+n_candidates]\n",
    "        else:\n",
    "            truth = ratings_testing[0,n_candidates*index_try:n_candidates*index_try+n_candidates]\n",
    "            ratings_candidates = ratings_testing[1:,n_candidates*index_try:n_candidates*index_try+n_candidates]\n",
    "            \n",
    "        for agg in list_agg:\n",
    "            agg.reset()\n",
    "\n",
    "        ## training\n",
    "        welfare = ev.RuleSumRatings()(ev.Ratings([truth])).welfare_\n",
    "        # getting the results\n",
    "\n",
    "        for agg in list_agg:\n",
    "            agg.reset()\n",
    "            \n",
    "        for j in range(len(ratings_candidates)):\n",
    "            w = np.argsort(ratings_candidates[j])[-1]\n",
    "            algo_welfare[j] += welfare[w]\n",
    "        \n",
    "\n",
    "        for k,agg in enumerate(list_agg):\n",
    "            w = agg(ratings_candidates).winner_\n",
    "            results_exp[k][i] += welfare[w]\n",
    "            \n",
    "    results_exp[2][i] = np.max(algo_welfare)"
   ]
  },
  {
   "cell_type": "code",
   "execution_count": 10,
   "metadata": {
    "ExecuteTime": {
     "end_time": "2022-09-01T10:03:07.984059Z",
     "start_time": "2022-09-01T10:03:07.973039Z"
    }
   },
   "outputs": [],
   "source": [
    "np.savetxt(\"results_expe_10_bounds.csv\", results_exp/n_trys, delimiter=\",\")"
   ]
  },
  {
   "cell_type": "code",
   "execution_count": 20,
   "metadata": {
    "ExecuteTime": {
     "end_time": "2022-08-24T20:45:25.889956Z",
     "start_time": "2022-08-24T20:45:10.697474Z"
    }
   },
   "outputs": [],
   "source": [
    "ratings_training = np.loadtxt(\"data_paper/ratings_cc2_%.2f_training.csv\"%1,dtype=float,delimiter=\",\")\n",
    "ratings_testing = np.loadtxt(\"data_paper/ratings_cc2_%.2f_testing.csv\"%1,dtype=float,delimiter=\",\")"
   ]
  },
  {
   "cell_type": "code",
   "execution_count": 23,
   "metadata": {
    "ExecuteTime": {
     "end_time": "2022-08-24T20:45:46.589467Z",
     "start_time": "2022-08-24T20:45:46.583482Z"
    }
   },
   "outputs": [
    {
     "data": {
      "text/plain": [
       "(25, 500000)"
      ]
     },
     "execution_count": 23,
     "metadata": {},
     "output_type": "execute_result"
    }
   ],
   "source": [
    "ratings_testing.shape"
   ]
  },
  {
   "cell_type": "code",
   "execution_count": 43,
   "metadata": {
    "ExecuteTime": {
     "end_time": "2022-09-21T14:38:34.723007Z",
     "start_time": "2022-09-21T14:09:31.706949Z"
    }
   },
   "outputs": [
    {
     "name": "stderr",
     "output_type": "stream",
     "text": [
      "100%|██████████| 10000/10000 [02:17<00:00, 72.58it/s]\n",
      "100%|██████████| 10000/10000 [02:17<00:00, 72.49it/s]\n",
      "100%|██████████| 10000/10000 [02:17<00:00, 72.64it/s]\n",
      "100%|██████████| 10000/10000 [02:22<00:00, 70.30it/s]\n",
      "100%|██████████| 10000/10000 [02:40<00:00, 62.28it/s]\n",
      "100%|██████████| 10000/10000 [02:20<00:00, 71.28it/s]\n",
      "100%|██████████| 10000/10000 [02:33<00:00, 65.02it/s]\n",
      "100%|██████████| 10000/10000 [02:15<00:00, 73.60it/s]\n",
      "100%|██████████| 10000/10000 [02:17<00:00, 72.92it/s]\n",
      "100%|██████████| 10000/10000 [02:15<00:00, 73.82it/s]\n",
      "100%|██████████| 10000/10000 [02:20<00:00, 71.03it/s]\n"
     ]
    }
   ],
   "source": [
    "#ratings_training = np.loadtxt(\"data_paper/ratings_base_case_training.csv\",dtype=float,delimiter=\",\")\n",
    "#ratings_testing = np.loadtxt(\"data_paper/ratings_base_case_testing.csv\",dtype=float,delimiter=\",\")\n",
    "n_agg = len(list_agg)\n",
    "list_alpha = [0.1*i for i in range(11)]\n",
    "l_alpha = len(list_alpha)\n",
    "max_candidates = 50\n",
    "n_voters = 24\n",
    "n_candidates = 20\n",
    "results_exp = np.zeros((n_agg, l_alpha))\n",
    "\n",
    "n_trys = 10000\n",
    "for i in range(l_alpha):\n",
    "    alpha = list_alpha[i]\n",
    "    for agg in list_agg[-2:]:\n",
    "        agg.reset()\n",
    "    \n",
    "    if alpha == 0:\n",
    "        ratings_training = np.loadtxt(\"data_paper/ratings_base_case_training.csv\",dtype=float,delimiter=\",\")\n",
    "        ratings_testing = np.loadtxt(\"data_paper/ratings_base_case_testing.csv\",dtype=float,delimiter=\",\")\n",
    "        training = ratings_training[11:35]\n",
    "    else:\n",
    "        ratings_training = np.loadtxt(\"data_paper/ratings_cc2_%.2f_training.csv\"%alpha,dtype=float,delimiter=\",\")\n",
    "        ratings_testing = np.loadtxt(\"data_paper/ratings_cc2_%.2f_testing.csv\"%alpha,dtype=float,delimiter=\",\")\n",
    "        training = ratings_training[1:]\n",
    "        \n",
    "    _ = list_agg[-2](training).winner_\n",
    "    list_agg[-2].train()\n",
    "    _ = list_agg[-1](training).winner_\n",
    "    list_agg[-1].train()\n",
    "    \n",
    "    for index_try in tqdm(range(n_trys)):\n",
    "    \n",
    "        if alpha == 0:\n",
    "            truth = ratings_testing[0,max_candidates*index_try:max_candidates*index_try+n_candidates]\n",
    "            ratings_candidates = ratings_testing[11:35,max_candidates*index_try:max_candidates*index_try+n_candidates]\n",
    "        else:\n",
    "            truth = ratings_testing[0,n_candidates*index_try:n_candidates*index_try+n_candidates]\n",
    "            ratings_candidates = ratings_testing[1:,n_candidates*index_try:n_candidates*index_try+n_candidates]\n",
    "            \n",
    "        for agg in list_agg[:-2]:\n",
    "            agg.reset()\n",
    "\n",
    "        ## training\n",
    "        welfare = ev.RuleSumRatings()(ev.Ratings([truth])).welfare_\n",
    "        # getting the results\n",
    "\n",
    "        for k,agg in enumerate(list_agg):\n",
    "            w = agg(ratings_candidates).winner_\n",
    "            results_exp[k][i] += welfare[w]\n",
    "            \n",
    "results_exp_11 = results_exp"
   ]
  },
  {
   "cell_type": "code",
   "execution_count": 44,
   "metadata": {
    "ExecuteTime": {
     "end_time": "2022-09-21T14:38:34.748945Z",
     "start_time": "2022-09-21T14:38:34.734975Z"
    }
   },
   "outputs": [],
   "source": [
    "np.savetxt(\"results_expe_11_0921.csv\", results_exp_11/n_trys, delimiter=\",\")"
   ]
  },
  {
   "cell_type": "code",
   "execution_count": 49,
   "metadata": {
    "ExecuteTime": {
     "end_time": "2022-09-13T11:57:23.834222Z",
     "start_time": "2022-09-13T11:47:26.262373Z"
    }
   },
   "outputs": [
    {
     "name": "stderr",
     "output_type": "stream",
     "text": [
      "100%|██████████| 10000/10000 [00:31<00:00, 315.05it/s]\n",
      "100%|██████████| 10000/10000 [00:29<00:00, 334.74it/s]\n",
      "100%|██████████| 10000/10000 [00:34<00:00, 290.19it/s]\n",
      "100%|██████████| 10000/10000 [00:30<00:00, 330.82it/s]\n",
      "100%|██████████| 10000/10000 [00:29<00:00, 336.18it/s]\n",
      "100%|██████████| 10000/10000 [00:30<00:00, 333.09it/s]\n",
      "100%|██████████| 10000/10000 [00:30<00:00, 332.47it/s]\n",
      "100%|██████████| 10000/10000 [00:30<00:00, 332.37it/s]\n",
      "100%|██████████| 10000/10000 [00:29<00:00, 333.46it/s]\n",
      "100%|██████████| 10000/10000 [00:30<00:00, 332.10it/s]\n",
      "100%|██████████| 10000/10000 [00:29<00:00, 334.80it/s]\n"
     ]
    }
   ],
   "source": [
    "def mymatrix(alpha):\n",
    "    M = np.eye(5)\n",
    "    for i in range(4):\n",
    "        M[i+1,0] = alpha\n",
    "        M[i+1,i+1] = 1-alpha\n",
    "        \n",
    "    return M\n",
    "\n",
    "n_agg = len(list_agg)\n",
    "list_alpha = [0.1*i for i in range(11)]\n",
    "l_alpha = len(list_alpha)\n",
    "max_candidates = 50\n",
    "n_candidates = 20\n",
    "n_voters = 24\n",
    "results_exp = np.zeros((3, l_alpha))\n",
    "\n",
    "\n",
    "for i in range(l_alpha):\n",
    "    alpha = list_alpha[i]\n",
    "    algo_welfare = np.zeros(n_voters)\n",
    "    \n",
    "    list_agg = [ev.Aggregator(rule=ev.RuleModelAware([20,1,1,1,1], np.eye(5), 10, 2)),\n",
    "               ev.Aggregator(rule=ev.RuleModelAware([20,1,1,1,1], mymatrix(alpha), 10, 2))]\n",
    "    \n",
    "    if alpha == 0:\n",
    "        ratings_training = np.loadtxt(\"data_paper/ratings_base_case_training.csv\",dtype=float,delimiter=\",\")\n",
    "        ratings_testing = np.loadtxt(\"data_paper/ratings_base_case_testing.csv\",dtype=float,delimiter=\",\")\n",
    "        training = ratings_training[11:35]\n",
    "    else:\n",
    "        ratings_training = np.loadtxt(\"data_paper/ratings_cc2_%.2f_training.csv\"%alpha,dtype=float,delimiter=\",\")\n",
    "        ratings_testing = np.loadtxt(\"data_paper/ratings_cc2_%.2f_testing.csv\"%alpha,dtype=float,delimiter=\",\")\n",
    "        training = ratings_training[1:]\n",
    "        \n",
    "    for index_try in tqdm(range(n_trys)):\n",
    "    \n",
    "        if alpha == 0:\n",
    "            truth = ratings_testing[0,max_candidates*index_try:max_candidates*index_try+n_candidates]\n",
    "            ratings_candidates = ratings_testing[11:35,max_candidates*index_try:max_candidates*index_try+n_candidates]\n",
    "        else:\n",
    "            truth = ratings_testing[0,n_candidates*index_try:n_candidates*index_try+n_candidates]\n",
    "            ratings_candidates = ratings_testing[1:,n_candidates*index_try:n_candidates*index_try+n_candidates]\n",
    "            \n",
    "        for agg in list_agg:\n",
    "            agg.reset()\n",
    "\n",
    "        ## training\n",
    "        welfare = ev.RuleSumRatings()(ev.Ratings([truth])).welfare_\n",
    "        # getting the results\n",
    "\n",
    "        for agg in list_agg:\n",
    "            agg.reset()\n",
    "            \n",
    "        for j in range(len(ratings_candidates)):\n",
    "            w = np.argsort(ratings_candidates[j])[-1]\n",
    "            algo_welfare[j] += welfare[w]\n",
    "        \n",
    "\n",
    "        for k,agg in enumerate(list_agg):\n",
    "            w = agg(ratings_candidates).winner_\n",
    "            results_exp[k][i] += welfare[w]\n",
    "            \n",
    "    results_exp[2][i] = np.max(algo_welfare)"
   ]
  },
  {
   "cell_type": "code",
   "execution_count": 50,
   "metadata": {
    "ExecuteTime": {
     "end_time": "2022-09-13T12:18:33.822006Z",
     "start_time": "2022-09-13T12:18:33.677271Z"
    }
   },
   "outputs": [],
   "source": [
    "np.savetxt(\"results_expe_11_bounds.csv\", results_exp/n_trys, delimiter=\",\")"
   ]
  },
  {
   "cell_type": "code",
   "execution_count": null,
   "metadata": {},
   "outputs": [],
   "source": []
  }
 ],
 "metadata": {
  "kernelspec": {
   "display_name": "Python 3 (ipykernel)",
   "language": "python",
   "name": "python3"
  },
  "language_info": {
   "codemirror_mode": {
    "name": "ipython",
    "version": 3
   },
   "file_extension": ".py",
   "mimetype": "text/x-python",
   "name": "python",
   "nbconvert_exporter": "python",
   "pygments_lexer": "ipython3",
   "version": "3.7.3"
  }
 },
 "nbformat": 4,
 "nbformat_minor": 2
}
