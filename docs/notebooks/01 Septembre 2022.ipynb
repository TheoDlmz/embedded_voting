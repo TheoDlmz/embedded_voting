{
 "cells": [
  {
   "cell_type": "code",
   "execution_count": 1,
   "metadata": {
    "ExecuteTime": {
     "end_time": "2022-09-08T08:38:17.787897Z",
     "start_time": "2022-09-08T08:38:10.405091Z"
    }
   },
   "outputs": [],
   "source": [
    "import numpy as np\n",
    "import embedded_voting as ev\n",
    "import matplotlib.pyplot as plt\n",
    "from tqdm import tqdm\n",
    "np.random.seed(42)"
   ]
  },
  {
   "cell_type": "code",
   "execution_count": 2,
   "metadata": {
    "ExecuteTime": {
     "end_time": "2022-09-05T17:21:58.013244Z",
     "start_time": "2022-09-05T17:21:58.009222Z"
    }
   },
   "outputs": [],
   "source": [
    "agg = ev.Aggregator(rule=ev.RuleFastNash(), name=\"FastNash\")"
   ]
  },
  {
   "cell_type": "code",
   "execution_count": 3,
   "metadata": {
    "ExecuteTime": {
     "end_time": "2022-09-05T17:21:58.028172Z",
     "start_time": "2022-09-05T17:21:58.015233Z"
    }
   },
   "outputs": [],
   "source": [
    "n_candidates = 50\n",
    "n_trys = 10000\n",
    "default_group_noise = 10\n",
    "n_training = 1000\n",
    "default_indep_noise = 2"
   ]
  },
  {
   "cell_type": "code",
   "execution_count": 88,
   "metadata": {
    "ExecuteTime": {
     "end_time": "2022-09-05T17:30:33.794794Z",
     "start_time": "2022-09-05T17:30:33.787780Z"
    }
   },
   "outputs": [],
   "source": [
    "n_v = 3\n",
    "groups_sizes = [n_v] + [1]*(20-n_v)\n",
    "features = np.eye(20-n_v+1)\n",
    "generator = ev.RatingsGeneratorEpistemicGroupsMixFree(groups_sizes, \n",
    "                                                      features, \n",
    "                                                      group_noise=default_group_noise, \n",
    "                                                      independent_noise=default_indep_noise,\n",
    "                                                      center_gap=0, \n",
    "                                                      max_scale=1,\n",
    "                                                      truth_generator=ev.TruthGeneratorUniform(seed=42),\n",
    "                                                      group_noise_f=np.random.normal,\n",
    "                                                      independent_noise_f=np.random.normal)"
   ]
  },
  {
   "cell_type": "code",
   "execution_count": 89,
   "metadata": {
    "ExecuteTime": {
     "end_time": "2022-09-05T17:30:35.048374Z",
     "start_time": "2022-09-05T17:30:35.028429Z"
    }
   },
   "outputs": [
    {
     "name": "stdout",
     "output_type": "stream",
     "text": [
      "20 100 0.047619047619047616 0.05\n",
      "sklearn : 18\n",
      "[0.07429338 0.06404964 0.06059716 0.05918141 0.0564217  0.05598572\n",
      " 0.05478771 0.05365725 0.0531295  0.05229615 0.0507156  0.04944881\n",
      " 0.04827265 0.04752788 0.04595722 0.04533837 0.04506825 0.04189054\n",
      " 0.0207328  0.02064825] 13\n"
     ]
    },
    {
     "data": {
      "text/plain": [
       "<embedded_voting.rules.singlewinner_rules.rule_fast_nash.RuleFastNash at 0x21d49445668>"
      ]
     },
     "execution_count": 89,
     "metadata": {},
     "output_type": "execute_result"
    }
   ],
   "source": [
    "v = generator(100)\n",
    "agg.reset()\n",
    "agg(v)"
   ]
  },
  {
   "cell_type": "code",
   "execution_count": 90,
   "metadata": {
    "ExecuteTime": {
     "end_time": "2022-09-05T17:30:36.367866Z",
     "start_time": "2022-09-05T17:30:36.359848Z"
    }
   },
   "outputs": [
    {
     "data": {
      "text/plain": [
       "[0.75, 0.7, 0.68, 0.66, 0.64, 0.62]"
      ]
     },
     "execution_count": 90,
     "metadata": {},
     "output_type": "execute_result"
    }
   ],
   "source": [
    "[100,200,400,800,1600,3200]\n",
    "\n",
    "[0.12,0.58,0.73,0.83, 0.87,0.91] # [2] + [1]*98\n",
    "[0,0.36,0.42,0.43,0.44,0.44]\n",
    "[54,52,53,53,55,55]\n",
    "\n",
    "[2.4,2.2,2.2,2.1,2.1,2.1] # [99] + [1]\n",
    "[1.5,1.3,1.2,1.1,1.0,1.0]\n",
    "[44,40,36,30,21,8]\n",
    "\n",
    "[0.87,1.0,1.1,1.2,1.2,1.3] # [50] + [1]*50\n",
    "[0.75,0.7,0.68,0.66,0.64,0.62]"
   ]
  },
  {
   "cell_type": "code",
   "execution_count": 22,
   "metadata": {
    "ExecuteTime": {
     "end_time": "2022-09-05T16:55:33.453665Z",
     "start_time": "2022-09-05T16:55:33.213307Z"
    }
   },
   "outputs": [
    {
     "data": {
      "image/png": "[encoded data removed]",
      "text/plain": [
       "<Figure size 432x288 with 1 Axes>"
      ]
     },
     "metadata": {
      "needs_background": "light"
     },
     "output_type": "display_data"
    }
   ],
   "source": [
    "import matplotlib.pyplot as plt\n",
    "\n",
    "plt.plot([100,200,400,800,1600,3200],[2.4,2.2,2.2,2.1,2.1,2.1], \"o-\", label=\"minimum good\")\n",
    "plt.plot([100,200,400,800,1600,3200],[1.5,1.3,1.2,1.1,1.0,1.0],  \"o-\",label=\"maximum wrong\")\n",
    "plt.xlabel(\"training size\")\n",
    "plt.xscale(\"log\")\n",
    "plt.ylim(0)\n",
    "plt.xlim(100,3200)\n",
    "plt.legend()\n",
    "plt.show()"
   ]
  },
  {
   "cell_type": "code",
   "execution_count": null,
   "metadata": {},
   "outputs": [],
   "source": [
    "# Enquete en faisant un groupe de 2 et que des groupes de 1 pour voir si ça évoluait en proportion ou en 1/(n+1) e ça évolue en\n",
    "# proportion, i.e. peu importe le nombre de votant n de départ, l'évolution pour t(k) = nk iterations sera la même. \n",
    "# les \"mauvaise\" v.p vont tendre vers au plus 44% du seuil, alors que les autrs vont tendre vers 100% (mais pas rapidement)\n",
    "\n",
    "# Par contre, avec 1 gros groupe et 1 autre algo, c'est pas la même histoire ! Cette fois on se retrouve avec trop\n",
    "# de valeur propres au dessus du seuil\n",
    "\n",
    "# Solution 1 : autre méthode pour trouver les vp\n",
    "# SOlution 2 : j'ai pas de solution 2"
   ]
  }
 ],
 "metadata": {
  "kernelspec": {
   "display_name": "Python 3",
   "language": "python",
   "name": "python3"
  },
  "language_info": {
   "codemirror_mode": {
    "name": "ipython",
    "version": 3
   },
   "file_extension": ".py",
   "mimetype": "text/x-python",
   "name": "python",
   "nbconvert_exporter": "python",
   "pygments_lexer": "ipython3",
   "version": "3.7.3"
  }
 },
 "nbformat": 4,
 "nbformat_minor": 2
}
