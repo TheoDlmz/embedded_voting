{
 "cells": [
  {
   "cell_type": "code",
   "execution_count": 1,
   "metadata": {
    "ExecuteTime": {
     "end_time": "2022-12-07T09:25:54.164672Z",
     "start_time": "2022-12-07T09:25:50.606529Z"
    }
   },
   "outputs": [],
   "source": [
    "import numpy as np\n",
    "import embedded_voting as ev\n",
    "import matplotlib.pyplot as plt\n",
    "from tqdm import tqdm\n",
    "from scipy.stats import gennorm, skewnorm\n",
    "import tikzplotlib"
   ]
  },
  {
   "cell_type": "code",
   "execution_count": 2,
   "metadata": {
    "ExecuteTime": {
     "end_time": "2022-12-07T09:25:54.170492Z",
     "start_time": "2022-12-07T09:25:54.166500Z"
    }
   },
   "outputs": [],
   "source": [
    "n_candidates = 50\n",
    "n_trys = 10000\n",
    "default_group_noise = 10\n",
    "n_training = 1000\n",
    "default_indep_noise = 2"
   ]
  },
  {
   "cell_type": "code",
   "execution_count": 4,
   "metadata": {
    "ExecuteTime": {
     "end_time": "2022-12-07T09:26:00.630920Z",
     "start_time": "2022-12-07T09:26:00.617956Z"
    }
   },
   "outputs": [],
   "source": [
    "groups_sizes = [30] + [1]*20\n",
    "features = np.eye(21)\n",
    "generator = ev.RatingsGeneratorEpistemicGroupsMixFree(groups_sizes, \n",
    "                                                      features, \n",
    "                                                      group_noise=default_group_noise, \n",
    "                                                      independent_noise=default_indep_noise,\n",
    "                                                      center_gap=0, \n",
    "                                                      max_scale=1,\n",
    "                                                      truth_generator=ev.TruthGeneratorNormal(),\n",
    "                                                      group_noise_f=np.random.normal,\n",
    "                                                      independent_noise_f=np.random.normal)"
   ]
  },
  {
   "cell_type": "code",
   "execution_count": 6,
   "metadata": {
    "ExecuteTime": {
     "end_time": "2022-12-07T09:26:49.172702Z",
     "start_time": "2022-12-07T09:26:48.952560Z"
    }
   },
   "outputs": [],
   "source": [
    "ratings_training = generator(n_training)\n",
    "ratings_training = np.maximum(ratings_training, 0)\n",
    "truth = generator.ground_truth_\n",
    "ratings_training = np.concatenate([[truth], ratings_training])\n",
    "np.savetxt(\"ratings_base_case_training_normal.csv\", ratings_training, delimiter=\",\")"
   ]
  },
  {
   "cell_type": "code",
   "execution_count": 5,
   "metadata": {
    "ExecuteTime": {
     "end_time": "2022-12-07T09:26:48.940594Z",
     "start_time": "2022-12-07T09:26:04.753795Z"
    }
   },
   "outputs": [],
   "source": [
    "ratings_testing = generator(n_candidates*n_trys)\n",
    "ratings_testing = np.maximum(ratings_testing, 0)\n",
    "truth = generator.ground_truth_\n",
    "ratings_testing = np.concatenate([[truth], ratings_testing])\n",
    "np.savetxt(\"ratings_base_case_testing_normal.csv\", ratings_testing, delimiter=\",\")"
   ]
  },
  {
   "cell_type": "code",
   "execution_count": 7,
   "metadata": {
    "ExecuteTime": {
     "end_time": "2022-12-07T09:26:49.184671Z",
     "start_time": "2022-12-07T09:26:49.178687Z"
    }
   },
   "outputs": [],
   "source": [
    "n_candidates = 20"
   ]
  },
  {
   "cell_type": "code",
   "execution_count": 10,
   "metadata": {
    "ExecuteTime": {
     "end_time": "2022-12-07T09:29:24.223273Z",
     "start_time": "2022-12-07T09:27:43.381870Z"
    }
   },
   "outputs": [
    {
     "name": "stderr",
     "output_type": "stream",
     "text": [
      "100%|██████████| 11/11 [01:40<00:00,  9.17s/it]\n"
     ]
    }
   ],
   "source": [
    "def create_generator_gnoise(gnoise=1):\n",
    "    groups_sizes = [20, 1, 1, 1, 1]\n",
    "    features = np.eye(5)\n",
    "    generator =  ev.RatingsGeneratorEpistemicGroupsMixFree(groups_sizes, \n",
    "                                                      features, \n",
    "                                                      group_noise=gnoise, \n",
    "                                                      independent_noise=default_indep_noise,\n",
    "                                                     center_gap=0, \n",
    "                                                     max_scale=1,\n",
    "                                                     truth_generator=ev.TruthGeneratorNormal(),\n",
    "                                                     group_noise_f=np.random.normal,\n",
    "                                                     independent_noise_f=np.random.normal)\n",
    "    \n",
    "    ratings_training = generator(n_training)\n",
    "    ratings_training = np.maximum(ratings_training, 0)\n",
    "    truth = generator.ground_truth_\n",
    "    ratings_training = np.concatenate([[truth], ratings_training])\n",
    "    np.savetxt(\"ratings_gnoise_%i_training_normal.csv\"%gnoise, ratings_training, delimiter=\",\")\n",
    "    \n",
    "    ratings_testing = generator(n_candidates*n_trys)\n",
    "    ratings_testing = np.maximum(ratings_testing, 0)\n",
    "    truth = generator.ground_truth_\n",
    "    ratings_testing = np.concatenate([[truth], ratings_testing])\n",
    "    np.savetxt(\"ratings_gnoise_%i_testing_normal.csv\"%gnoise, ratings_testing, delimiter=\",\")\n",
    "    \n",
    "\n",
    "for i in tqdm(range(0,21,2)):\n",
    "    if i != 10:\n",
    "        create_generator_gnoise(i)"
   ]
  },
  {
   "cell_type": "code",
   "execution_count": 11,
   "metadata": {
    "ExecuteTime": {
     "end_time": "2022-12-07T09:31:21.944732Z",
     "start_time": "2022-12-07T09:29:24.262369Z"
    }
   },
   "outputs": [
    {
     "name": "stderr",
     "output_type": "stream",
     "text": [
      "100%|██████████| 12/12 [01:57<00:00,  9.80s/it]\n"
     ]
    }
   ],
   "source": [
    "def create_generator_inoise(inoise=1):\n",
    "    groups_sizes = [20, 1, 1, 1, 1]\n",
    "    features = np.eye(5)\n",
    "    generator =  ev.RatingsGeneratorEpistemicGroupsMixFree(groups_sizes, \n",
    "                                                      features, \n",
    "                                                      group_noise=default_group_noise, \n",
    "                                                      independent_noise=inoise,\n",
    "                                                     center_gap=0, \n",
    "                                                     max_scale=1,\n",
    "                                                     truth_generator=ev.TruthGeneratorNormal(),\n",
    "                                                     group_noise_f=np.random.normal,\n",
    "                                                     independent_noise_f=np.random.normal)\n",
    "    \n",
    "    ratings_training = generator(n_training)\n",
    "    ratings_training = np.maximum(ratings_training, 0)\n",
    "    truth = generator.ground_truth_\n",
    "    ratings_training = np.concatenate([[truth], ratings_training])\n",
    "    np.savetxt(\"ratings_inoise_%i_training_normal.csv\"%inoise, ratings_training, delimiter=\",\")\n",
    "    \n",
    "    ratings_testing = generator(n_candidates*n_trys)\n",
    "    ratings_testing = np.maximum(ratings_testing, 0)\n",
    "    truth = generator.ground_truth_\n",
    "    ratings_testing = np.concatenate([[truth], ratings_testing])\n",
    "    np.savetxt(\"ratings_inoise_%i_testing_normal.csv\"%inoise, ratings_testing, delimiter=\",\")\n",
    "    \n",
    "\n",
    "for i in tqdm([0,1] + list(range(2,21,2))):\n",
    "    if i != default_indep_noise:\n",
    "        create_generator_inoise(i)"
   ]
  },
  {
   "cell_type": "code",
   "execution_count": 6,
   "metadata": {
    "ExecuteTime": {
     "end_time": "2022-10-28T20:47:38.789256Z",
     "start_time": "2022-10-28T20:47:36.921955Z"
    }
   },
   "outputs": [
    {
     "data": {
      "image/png": "[encoded data removed]",
      "text/plain": [
       "<Figure size 432x288 with 1 Axes>"
      ]
     },
     "metadata": {
      "needs_background": "light"
     },
     "output_type": "display_data"
    },
    {
     "data": {
      "image/png": "[encoded data removed]",
      "text/plain": [
       "<Figure size 432x288 with 1 Axes>"
      ]
     },
     "metadata": {
      "needs_background": "light"
     },
     "output_type": "display_data"
    },
    {
     "data": {
      "image/png": "[encoded data removed]",
      "text/plain": [
       "<Figure size 432x288 with 1 Axes>"
      ]
     },
     "metadata": {
      "needs_background": "light"
     },
     "output_type": "display_data"
    },
    {
     "data": {
      "image/png": "[encoded data removed]",
      "text/plain": [
       "<Figure size 432x288 with 1 Axes>"
      ]
     },
     "metadata": {
      "needs_background": "light"
     },
     "output_type": "display_data"
    }
   ],
   "source": [
    "\n",
    "\n",
    "def create_gennorm(beta=1):\n",
    "    std = gennorm.rvs(beta, scale=1, size=100000).std()\n",
    "    scale = 1/std\n",
    "    def f1(size):\n",
    "        return gennorm.rvs(beta, scale=scale, size=size)\n",
    "    return f1\n",
    "\n",
    "\n",
    "def plot_gennorm(beta=1):\n",
    "    std = gennorm.rvs(beta, scale=1, size=100000).std()\n",
    "    scale = 1/std\n",
    "    fig, ax = plt.subplots(1, 1)\n",
    "    x = np.linspace(gennorm.ppf(0.01, beta, scale=scale),\n",
    "\n",
    "                    gennorm.ppf(0.99, beta, scale=scale), 100)\n",
    "\n",
    "    ax.plot(x, gennorm.pdf(x, beta, scale=scale),\n",
    "\n",
    "           'r-', lw=5, alpha=0.6, label='gennorm pdf')\n",
    "\n",
    "    \n",
    "    tikzplotlib.save(\"gennorm_%2f.tex\"%beta)\n",
    "    plt.show()\n",
    "    \n",
    "    \n",
    "for x in [0.5,1,2,5]:\n",
    "    plot_gennorm(x)"
   ]
  },
  {
   "cell_type": "code",
   "execution_count": 7,
   "metadata": {
    "ExecuteTime": {
     "end_time": "2022-10-28T20:47:39.098392Z",
     "start_time": "2022-10-28T20:47:38.792210Z"
    }
   },
   "outputs": [
    {
     "name": "stdout",
     "output_type": "stream",
     "text": [
      "1.6138438289107926 0.9991986208134178\n"
     ]
    },
    {
     "data": {
      "image/png": "[encoded data removed]",
      "text/plain": [
       "<Figure size 432x288 with 1 Axes>"
      ]
     },
     "metadata": {
      "needs_background": "light"
     },
     "output_type": "display_data"
    },
    {
     "name": "stdout",
     "output_type": "stream",
     "text": [
      "1.6124079061558236 1.0089976597760977\n"
     ]
    },
    {
     "data": {
      "image/png": "[encoded data removed]",
      "text/plain": [
       "<Figure size 432x288 with 1 Axes>"
      ]
     },
     "metadata": {
      "needs_background": "light"
     },
     "output_type": "display_data"
    }
   ],
   "source": [
    "\n",
    "def create_skewnorm(beta=1):\n",
    "    std = skewnorm.rvs(beta, scale=1, size=100000).std()\n",
    "    scale = 1/std\n",
    "    def f1(size):\n",
    "        return skewnorm.rvs(beta, scale=scale, size=size)\n",
    "    return f1\n",
    "\n",
    "\n",
    "def plot_skewnorm(beta=1):\n",
    "    std = skewnorm.rvs(beta, scale=1, size=100000).std()\n",
    "    scale = 1/std\n",
    "    fig, ax = plt.subplots(1, 1)\n",
    "    x = np.linspace(skewnorm.ppf(0.01, beta, scale=scale),\n",
    "\n",
    "                    skewnorm.ppf(0.99, beta, scale=scale), 100)\n",
    "\n",
    "    ax.plot(x, skewnorm.pdf(x, beta, scale=scale),\n",
    "\n",
    "           'r-', lw=5, alpha=0.6, label='gennorm pdf')\n",
    "\n",
    "    print(scale, skewnorm.rvs(beta, scale=scale, size=10000).std())\n",
    "    \n",
    "    tikzplotlib.save(\"skewnorm_%2f.tex\"%beta)\n",
    "    plt.show()\n",
    "    \n",
    "    \n",
    "for x in [-5,5]:\n",
    "    plot_skewnorm(x)"
   ]
  },
  {
   "cell_type": "code",
   "execution_count": 8,
   "metadata": {
    "ExecuteTime": {
     "end_time": "2022-10-28T20:47:39.829594Z",
     "start_time": "2022-10-28T20:47:39.100385Z"
    }
   },
   "outputs": [],
   "source": [
    "def f1(size):\n",
    "    return np.random.normal(0,1,size)\n",
    "\n",
    "list_bruits = [create_gennorm(0.5), create_gennorm(5), create_skewnorm(-5), create_skewnorm(5)]\n",
    "bruits_name = [\"GenNormSmall\", \"GenNormLarge\", \"SkewNormRight\", \"SkewNormLeft\"]"
   ]
  },
  {
   "cell_type": "code",
   "execution_count": 9,
   "metadata": {
    "ExecuteTime": {
     "end_time": "2022-10-28T20:51:24.744008Z",
     "start_time": "2022-10-28T20:48:02.987639Z"
    }
   },
   "outputs": [
    {
     "name": "stderr",
     "output_type": "stream",
     "text": [
      "100%|██████████| 4/4 [03:21<00:00, 50.44s/it]\n"
     ]
    }
   ],
   "source": [
    "def create_generator_gnoisef(i):\n",
    "    bruit = list_bruits[i]\n",
    "    groups_sizes = [20, 1, 1, 1, 1]\n",
    "    features = np.eye(5)\n",
    "    generator = ev.RatingsGeneratorEpistemicGroupsMixFree(groups_sizes, \n",
    "                                                      features, \n",
    "                                                      group_noise=default_group_noise, \n",
    "                                                      independent_noise=default_indep_noise,\n",
    "                                                      center_gap=0, \n",
    "                                                      max_scale=1,\n",
    "                                                      truth_generator=ev.TruthGeneratorUniform(seed=42),\n",
    "                                                      group_noise_f=bruit,\n",
    "                                                      independent_noise_f=np.random.normal)\n",
    "    \n",
    "    ratings_training = generator(n_training)\n",
    "    ratings_training = np.maximum(ratings_training, 0)\n",
    "    truth = generator.ground_truth_\n",
    "    ratings_training = np.concatenate([[truth], ratings_training])\n",
    "    np.savetxt(\"ratings_gnoisef_%s_training.csv\"%bruits_name[i], ratings_training, delimiter=\",\")\n",
    "    \n",
    "    ratings_testing = generator(n_candidates*n_trys)\n",
    "    ratings_testing = np.maximum(ratings_testing, 0)\n",
    "    truth = generator.ground_truth_\n",
    "    ratings_testing = np.concatenate([[truth], ratings_testing])\n",
    "    np.savetxt(\"ratings_gnoisef_%s_testing.csv\"%bruits_name[i], ratings_testing, delimiter=\",\")\n",
    "    \n",
    "\n",
    "for i in tqdm(range(len(list_bruits))):\n",
    "    create_generator_gnoisef(i)"
   ]
  },
  {
   "cell_type": "code",
   "execution_count": 19,
   "metadata": {
    "ExecuteTime": {
     "end_time": "2022-10-24T15:56:54.864890Z",
     "start_time": "2022-10-24T15:54:24.915050Z"
    }
   },
   "outputs": [
    {
     "name": "stderr",
     "output_type": "stream",
     "text": [
      "100%|██████████| 4/4 [02:29<00:00, 37.48s/it]\n"
     ]
    }
   ],
   "source": [
    "def create_generator_inoisef(i):\n",
    "    bruit = list_bruits[i]\n",
    "    groups_sizes = [20, 1, 1, 1, 1]\n",
    "    features = np.eye(5)\n",
    "    generator = ev.RatingsGeneratorEpistemicGroupsMixFree(groups_sizes, \n",
    "                                                      features, \n",
    "                                                      group_noise=default_group_noise, \n",
    "                                                      independent_noise=default_indep_noise,\n",
    "                                                      center_gap=0, \n",
    "                                                      max_scale=1,\n",
    "                                                      truth_generator=ev.TruthGeneratorUniform(seed=42),\n",
    "                                                          group_noise_f=np.random.normal,\n",
    "                                                          independent_noise_f=bruit)\n",
    "    \n",
    "    ratings_training = generator(n_training)\n",
    "    ratings_training = np.maximum(ratings_training, 0)\n",
    "    truth = generator.ground_truth_\n",
    "    ratings_training = np.concatenate([[truth], ratings_training])\n",
    "    np.savetxt(\"ratings_inoisef_%s_training.csv\"%bruits_name[i], ratings_training, delimiter=\",\")\n",
    "    \n",
    "    ratings_testing = generator(n_candidates*n_trys)\n",
    "    ratings_testing = np.maximum(ratings_testing, 0)\n",
    "    truth = generator.ground_truth_\n",
    "    ratings_testing = np.concatenate([[truth], ratings_testing])\n",
    "    np.savetxt(\"ratings_inoisef_%s_testing.csv\"%bruits_name[i], ratings_testing, delimiter=\",\")\n",
    "    \n",
    "\n",
    "for i in tqdm(range(len(list_bruits))):\n",
    "    create_generator_inoisef(i)"
   ]
  },
  {
   "cell_type": "code",
   "execution_count": 58,
   "metadata": {
    "ExecuteTime": {
     "end_time": "2022-08-03T14:17:45.423860Z",
     "start_time": "2022-08-03T14:17:45.411891Z"
    }
   },
   "outputs": [],
   "source": [
    "f1 = lambda x: np.random.uniform(10,20,x)\n",
    "f2 = lambda x:np.random.normal(15,2.89,x)\n",
    "f3 = lambda x:(10+np.random.power(1,x)*10)\n",
    "f4 = lambda x:(10+np.random.gamma(2.89**2,1,x))\n",
    "f5 = lambda x:(10+np.random.gamma(1,2.89,x))\n",
    "f6 = lambda x:(10+np.random.exponential(2.89,x))\n",
    "class TruthGeneratorFunction(ev.TruthGenerator):\n",
    "    def __init__(self, f):\n",
    "        self.f = f\n",
    "\n",
    "    def __call__(self, n_candidates):\n",
    "        return self.f(n_candidates)"
   ]
  },
  {
   "cell_type": "code",
   "execution_count": 59,
   "metadata": {
    "ExecuteTime": {
     "end_time": "2022-08-03T14:17:45.439815Z",
     "start_time": "2022-08-03T14:17:45.426851Z"
    }
   },
   "outputs": [],
   "source": [
    "list_bruits = [TruthGeneratorFunction(f1), TruthGeneratorFunction(f2),\n",
    "              TruthGeneratorFunction(f3), TruthGeneratorFunction(f4),\n",
    "              TruthGeneratorFunction(f5), TruthGeneratorFunction(f6)]\n",
    "\n",
    "bruits_name = [\"Uniform\", \"Normal\", \"PowerLaw\", \"Gamma1\", \"Gamma2\", \"Exponential\"]"
   ]
  },
  {
   "cell_type": "code",
   "execution_count": 60,
   "metadata": {
    "ExecuteTime": {
     "end_time": "2022-08-03T14:19:07.329146Z",
     "start_time": "2022-08-03T14:17:45.440812Z"
    }
   },
   "outputs": [
    {
     "name": "stderr",
     "output_type": "stream",
     "text": [
      "100%|██████████| 6/6 [01:21<00:00, 13.65s/it]\n"
     ]
    }
   ],
   "source": [
    "def create_generator_truth(i):\n",
    "    bruit = list_bruits[i]\n",
    "    groups_sizes = [20, 1, 1, 1, 1]\n",
    "    features = np.eye(5)\n",
    "    generator = ev.RatingsGeneratorEpistemicGroupsMixFree(groups_sizes, \n",
    "                                                      features, \n",
    "                                                      group_noise=default_group_noise, \n",
    "                                                      independent_noise=default_indep_noise,\n",
    "                                                      center_gap=0, \n",
    "                                                      max_scale=1,\n",
    "                                                          truth_generator=bruit,\n",
    "                                                          group_noise_f=np.random.normal,\n",
    "                                                          independent_noise_f=np.random.normal)\n",
    "    \n",
    "    ratings_training = generator(n_training)\n",
    "    ratings_training = np.maximum(ratings_training, 0)\n",
    "    truth = generator.ground_truth_\n",
    "    ratings_training = np.concatenate([[truth], ratings_training])\n",
    "    np.savetxt(\"ratings_truth_%s_training.csv\"%bruits_name[i], ratings_training, delimiter=\",\")\n",
    "    \n",
    "    ratings_testing = generator(n_candidates*n_trys)\n",
    "    ratings_testing = np.maximum(ratings_testing, 0)\n",
    "    truth = generator.ground_truth_\n",
    "    ratings_testing = np.concatenate([[truth], ratings_testing])\n",
    "    np.savetxt(\"ratings_truth_%s_testing.csv\"%bruits_name[i], ratings_testing, delimiter=\",\")\n",
    "    \n",
    "\n",
    "for i in tqdm(range(len(list_bruits))):\n",
    "    create_generator_truth(i)"
   ]
  },
  {
   "cell_type": "markdown",
   "metadata": {},
   "source": [
    "# 24/08 - Corr groups"
   ]
  },
  {
   "cell_type": "code",
   "execution_count": 4,
   "metadata": {
    "ExecuteTime": {
     "end_time": "2022-08-24T20:56:07.052573Z",
     "start_time": "2022-08-24T20:50:48.929552Z"
    }
   },
   "outputs": [],
   "source": [
    "def mymatrix(alpha):\n",
    "    M = np.eye(24)\n",
    "    for i in range(20):\n",
    "        M[i] = [alpha**(np.abs(j-i)) for j in range(20)]+[0]*4\n",
    "    return M\n",
    "\n",
    "\n",
    "def create_generator_cross_1(alpha):\n",
    "    groups_sizes = [1]*24\n",
    "    features = mymatrix(alpha)\n",
    "    generator = ev.RatingsGeneratorEpistemicGroupsMixFree(groups_sizes, \n",
    "                                                      features, \n",
    "                                                      group_noise=default_group_noise, \n",
    "                                                      independent_noise=default_indep_noise,\n",
    "                                                      center_gap=0, \n",
    "                                                      max_scale=1,\n",
    "                                                      truth_generator=ev.TruthGeneratorUniform(seed=42),\n",
    "                                                      group_noise_f=np.random.normal,\n",
    "                                                      independent_noise_f=np.random.normal)\n",
    "    \n",
    "    ratings_training = generator(n_training)\n",
    "    ratings_training = np.maximum(ratings_training, 0)\n",
    "    truth = generator.ground_truth_\n",
    "    ratings_training = np.concatenate([[truth], ratings_training])\n",
    "    np.savetxt(\"ratings_cc1_%.2f_training.csv\"%alpha, ratings_training, delimiter=\",\")\n",
    "    \n",
    "    ratings_testing = generator(n_candidates*n_trys)\n",
    "    ratings_testing = np.maximum(ratings_testing, 0)\n",
    "    truth = generator.ground_truth_\n",
    "    ratings_testing = np.concatenate([[truth], ratings_testing])\n",
    "    np.savetxt(\"ratings_cc1_%.2f_testing.csv\"%alpha, ratings_testing, delimiter=\",\")\n",
    "    \n",
    "\n",
    "    \n",
    "\n",
    "list_alpha = [0.1*i for i in range(11)]\n",
    "for alpha in list_alpha:\n",
    "    create_generator_cross_1(alpha)\n"
   ]
  },
  {
   "cell_type": "code",
   "execution_count": 7,
   "metadata": {
    "ExecuteTime": {
     "end_time": "2022-09-12T14:20:47.063414Z",
     "start_time": "2022-09-12T14:20:12.090974Z"
    }
   },
   "outputs": [],
   "source": [
    "def mymatrix(alpha):\n",
    "    M = np.eye(5)\n",
    "    for i in range(4):\n",
    "        M[i+1,0] = alpha\n",
    "        M[i+1,i+1] = 1-alpha\n",
    "        \n",
    "    return M\n",
    "\n",
    "\n",
    "def create_generator_cross_2(alpha):\n",
    "    groups_sizes = [20,1,1,1,1]\n",
    "    features = mymatrix(alpha)\n",
    "    generator = ev.RatingsGeneratorEpistemicGroupsMixFree(groups_sizes, \n",
    "                                                      features, \n",
    "                                                      group_noise=default_group_noise, \n",
    "                                                      independent_noise=default_indep_noise,\n",
    "                                                      center_gap=0, \n",
    "                                                      max_scale=1,\n",
    "                                                          truth_generator=ev.TruthGeneratorUniform(seed=42),\n",
    "                                                          group_noise_f=np.random.normal,\n",
    "                                                          independent_noise_f=np.random.normal)\n",
    "    \n",
    "    ratings_training = generator(n_training)\n",
    "    ratings_training = np.maximum(ratings_training, 0)\n",
    "    truth = generator.ground_truth_\n",
    "    ratings_training = np.concatenate([[truth], ratings_training])\n",
    "    np.savetxt(\"ratings_cc2_%.2f_training.csv\"%alpha, ratings_training, delimiter=\",\")\n",
    "    \n",
    "    ratings_testing = generator(n_candidates*n_trys)\n",
    "    ratings_testing = np.maximum(ratings_testing, 0)\n",
    "    truth = generator.ground_truth_\n",
    "    ratings_testing = np.concatenate([[truth], ratings_testing])\n",
    "    np.savetxt(\"ratings_cc2_%.2f_testing.csv\"%alpha, ratings_testing, delimiter=\",\")\n",
    "    \n",
    "\n",
    "    \n",
    "\n",
    "list_alpha = [0.1*i for i in range(11)]\n",
    "#for alpha in list_alpha:\n",
    "#    create_generator_cross_2(alpha)\n",
    "create_generator_cross_2(1)"
   ]
  },
  {
   "cell_type": "code",
   "execution_count": null,
   "metadata": {},
   "outputs": [],
   "source": []
  }
 ],
 "metadata": {
  "kernelspec": {
   "display_name": "Python 3 (ipykernel)",
   "language": "python",
   "name": "python3"
  },
  "language_info": {
   "codemirror_mode": {
    "name": "ipython",
    "version": 3
   },
   "file_extension": ".py",
   "mimetype": "text/x-python",
   "name": "python",
   "nbconvert_exporter": "python",
   "pygments_lexer": "ipython3",
   "version": "3.7.3"
  }
 },
 "nbformat": 4,
 "nbformat_minor": 2
}
