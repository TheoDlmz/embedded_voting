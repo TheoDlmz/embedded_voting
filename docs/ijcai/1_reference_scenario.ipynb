{
 "cells": [
  {
   "cell_type": "markdown",
   "id": "2ab058af",
   "metadata": {},
   "source": [
    "# Reference Scenario"
   ]
  },
  {
   "cell_type": "markdown",
   "id": "c91118d6",
   "metadata": {},
   "source": [
    "The following packages are required to run this notebook. If you miss one, please install them, e.g. with `pip`."
   ]
  },
  {
   "cell_type": "code",
   "execution_count": 1,
   "id": "fab47722",
   "metadata": {
    "ExecuteTime": {
     "end_time": "2023-01-23T15:14:12.095699Z",
     "start_time": "2023-01-23T15:14:10.827486Z"
    }
   },
   "outputs": [],
   "source": [
    "import numpy as np\n",
    "import dill as pickle\n",
    "import matplotlib.pyplot as plt\n",
    "from tqdm import tqdm\n",
    "import tikzplotlib\n",
    "from multiprocess.pool import Pool"
   ]
  },
  {
   "cell_type": "markdown",
   "id": "729b0239",
   "metadata": {},
   "source": [
    "Our own module (use `pip install -e .` from the source folder to install it)."
   ]
  },
  {
   "cell_type": "code",
   "execution_count": 2,
   "id": "e22c8094",
   "metadata": {
    "ExecuteTime": {
     "end_time": "2023-01-23T15:14:13.067192Z",
     "start_time": "2023-01-23T15:14:12.098670Z"
    }
   },
   "outputs": [],
   "source": [
    "import embedded_voting as ev # Our own module"
   ]
  },
  {
   "cell_type": "markdown",
   "id": "f13d6be1",
   "metadata": {},
   "source": [
    "Direct load of some useful variables and functions."
   ]
  },
  {
   "cell_type": "code",
   "execution_count": 3,
   "id": "b44bd3a7",
   "metadata": {
    "ExecuteTime": {
     "end_time": "2023-01-23T15:14:13.083192Z",
     "start_time": "2023-01-23T15:14:13.070199Z"
    }
   },
   "outputs": [],
   "source": [
    "from embedded_voting.experiments.aggregation import make_generator, make_aggs, f_max, f_renorm\n",
    "from embedded_voting.experiments.aggregation import handles, colors, evaluate, default_order"
   ]
  },
  {
   "cell_type": "markdown",
   "id": "1ce16287",
   "metadata": {},
   "source": [
    "## Building Data"
   ]
  },
  {
   "cell_type": "markdown",
   "id": "3e635fd6",
   "metadata": {},
   "source": [
    "We first create the data for the reference scenario and the first experiments showed in the paper. In particular, we consider more agents and candidates per election than required.\n",
    "\n",
    "In details:\n",
    "\n",
    "- We create data for 10 000 simulations of decision.\n",
    "- Each decision problem (a.k.a. election) involves 50 candidates each.\n",
    "- Each election has 50 estimators (voters): 30 in one correlated group and 20 independent estimators.\n",
    "\n",
    "For the reference scenario, only the first 20 candidates are considered, and only 24 estimators indexed from 10 to 34, giving 20 in the same group and 4 independents (the rest of the data is used in variations of this scenario).\n",
    "\n",
    "The feature noise is a normal noise of standard deviation 1, while the distinct noise has standard deviation 0.1. The score generator (for the true score of the candidate) also follows a normal law of standard deviation 1."
   ]
  },
  {
   "cell_type": "markdown",
   "id": "ad5460dc",
   "metadata": {},
   "source": [
    "The parameters:"
   ]
  },
  {
   "cell_type": "code",
   "execution_count": 4,
   "id": "28d040fc",
   "metadata": {
    "ExecuteTime": {
     "end_time": "2023-01-23T15:14:13.099193Z",
     "start_time": "2023-01-23T15:14:13.089217Z"
    }
   },
   "outputs": [],
   "source": [
    "n_tries = 10000 # Number of simulations\n",
    "n_training = 1000 # Number of training samples for trained rules\n",
    "n_c = 50\n",
    "groups = [30]+[1]*20"
   ]
  },
  {
   "cell_type": "markdown",
   "id": "5a99a154",
   "metadata": {},
   "source": [
    "The generator of estimations, from the *generator* class of our package:"
   ]
  },
  {
   "cell_type": "code",
   "execution_count": 5,
   "id": "b3f5bc9a",
   "metadata": {
    "ExecuteTime": {
     "end_time": "2023-01-23T15:14:13.115203Z",
     "start_time": "2023-01-23T15:14:13.101196Z"
    }
   },
   "outputs": [],
   "source": [
    "generator = make_generator(groups=groups)"
   ]
  },
  {
   "cell_type": "markdown",
   "id": "6769af8b",
   "metadata": {},
   "source": [
    "We create the datasets"
   ]
  },
  {
   "cell_type": "code",
   "execution_count": 6,
   "id": "32a7d0fa",
   "metadata": {
    "ExecuteTime": {
     "end_time": "2023-01-23T15:14:27.448836Z",
     "start_time": "2023-01-23T15:14:13.117343Z"
    }
   },
   "outputs": [],
   "source": [
    "data = {\n",
    "    'training': generator(n_training),\n",
    "    'testing': generator(n_tries*n_c).reshape(sum(groups), n_tries, n_c),\n",
    "    'truth': generator.ground_truth_.reshape(n_tries, n_c)\n",
    "}"
   ]
  },
  {
   "cell_type": "markdown",
   "id": "c2d7bb63",
   "metadata": {},
   "source": [
    "We save them for further use later."
   ]
  },
  {
   "cell_type": "code",
   "execution_count": 7,
   "id": "32b57780",
   "metadata": {
    "ExecuteTime": {
     "end_time": "2023-01-23T15:14:27.919066Z",
     "start_time": "2023-01-23T15:14:27.452899Z"
    }
   },
   "outputs": [],
   "source": [
    "with open('base_case_data.pkl', 'wb') as f:\n",
    "    pickle.dump(data, f)"
   ]
  },
  {
   "cell_type": "markdown",
   "id": "a867491f",
   "metadata": {},
   "source": [
    "## Computation"
   ]
  },
  {
   "cell_type": "markdown",
   "id": "cd114649",
   "metadata": {},
   "source": [
    "We extract what we need from the dataset: 24 estimators (20+4x1) and 20 candidates."
   ]
  },
  {
   "cell_type": "code",
   "execution_count": 8,
   "id": "0c9e9e90",
   "metadata": {
    "ExecuteTime": {
     "end_time": "2023-01-23T15:14:27.933910Z",
     "start_time": "2023-01-23T15:14:27.921207Z"
    }
   },
   "outputs": [],
   "source": [
    "n_c = 20\n",
    "groups = [20] + [1]*4\n",
    "n_v = sum(groups)\n",
    "voters = slice(30-groups[0], 30+len(groups)-1)\n",
    "training = data['training'][voters, :]\n",
    "testing = data['testing'][voters, :, :n_c]\n",
    "truth = data['truth'][:, :n_c]"
   ]
  },
  {
   "cell_type": "markdown",
   "id": "25cdf900",
   "metadata": {},
   "source": [
    "We define the list of rules we want to compare. For the reference scenario we add the *Random* rule."
   ]
  },
  {
   "cell_type": "code",
   "execution_count": 9,
   "id": "3eda9a56",
   "metadata": {
    "ExecuteTime": {
     "end_time": "2023-01-23T15:14:27.965426Z",
     "start_time": "2023-01-23T15:14:27.938889Z"
    }
   },
   "outputs": [],
   "source": [
    "list_agg = make_aggs(groups, order=default_order+['Rand'])"
   ]
  },
  {
   "cell_type": "markdown",
   "id": "5324270f",
   "metadata": {},
   "source": [
    "We run the aggregation methods on all the 10 000 simulations, compute the average, and save the results."
   ]
  },
  {
   "cell_type": "code",
   "execution_count": 10,
   "id": "1437fd1f",
   "metadata": {
    "ExecuteTime": {
     "end_time": "2023-01-23T15:15:21.933329Z",
     "start_time": "2023-01-23T15:14:27.973419Z"
    }
   },
   "outputs": [
    {
     "name": "stderr",
     "output_type": "stream",
     "text": [
      "100%|███████████████████████████████████████████████| 10000/10000 [00:49<00:00, 201.93it/s]\n"
     ]
    }
   ],
   "source": [
    "with Pool() as p:\n",
    "    res = evaluate(list_agg=list_agg, truth=truth, testing=testing, training=training, pool=p)"
   ]
  },
  {
   "cell_type": "markdown",
   "id": "27129875",
   "metadata": {},
   "source": [
    "We save the results."
   ]
  },
  {
   "cell_type": "code",
   "execution_count": 11,
   "id": "7d6e1cd1",
   "metadata": {
    "ExecuteTime": {
     "end_time": "2023-01-23T15:15:21.949319Z",
     "start_time": "2023-01-23T15:15:21.936314Z"
    }
   },
   "outputs": [],
   "source": [
    "with open('base_case_results.pkl', 'wb') as f:\n",
    "    pickle.dump(res, f)"
   ]
  },
  {
   "cell_type": "markdown",
   "id": "9efdab54",
   "metadata": {},
   "source": [
    "## Display"
   ]
  },
  {
   "cell_type": "markdown",
   "id": "a72c81d3",
   "metadata": {},
   "source": [
    "We create a figure and export it."
   ]
  },
  {
   "cell_type": "code",
   "execution_count": 12,
   "id": "15dcffc9",
   "metadata": {
    "ExecuteTime": {
     "end_time": "2023-01-23T15:15:22.609391Z",
     "start_time": "2023-01-23T15:15:21.953698Z"
    }
   },
   "outputs": [
    {
     "data": {
      "image/png": "[encoded data removed]",
      "text/plain": [
       "<Figure size 1000x500 with 1 Axes>"
      ]
     },
     "metadata": {},
     "output_type": "display_data"
    }
   ],
   "source": [
    "n_agg = len(res) \n",
    "\n",
    "plt.figure(figsize=(10,5))\n",
    "for i in range(n_agg):\n",
    "    name = list_agg[i].name\n",
    "    plt.bar(i, res[i],color=colors[name])\n",
    "    \n",
    "plt.xticks(range(n_agg), [handles[agg.name] for agg in list_agg], rotation=45)\n",
    "plt.xlim(-0.5,n_agg-0.5)\n",
    "plt.ylabel(\"Average relative utility\")\n",
    "plt.ylim(0.4)\n",
    "tikzplotlib.save(\"basecase.tex\")\n",
    "\n",
    "# save figure\n",
    "plt.savefig(\"basecase.png\", dpi=300, bbox_inches='tight')\n",
    "plt.show()"
   ]
  }
 ],
 "metadata": {
  "kernelspec": {
   "display_name": "Python 3 (ipykernel)",
   "language": "python",
   "name": "python3"
  },
  "language_info": {
   "codemirror_mode": {
    "name": "ipython",
    "version": 3
   },
   "file_extension": ".py",
   "mimetype": "text/x-python",
   "name": "python",
   "nbconvert_exporter": "python",
   "pygments_lexer": "ipython3",
   "version": "3.9.13"
  },
  "toc": {
   "base_numbering": 1,
   "nav_menu": {},
   "number_sections": true,
   "sideBar": true,
   "skip_h1_title": true,
   "title_cell": "Table of Contents",
   "title_sidebar": "Contents",
   "toc_cell": false,
   "toc_position": {},
   "toc_section_display": true,
   "toc_window_display": true
  }
 },
 "nbformat": 4,
 "nbformat_minor": 5
}
